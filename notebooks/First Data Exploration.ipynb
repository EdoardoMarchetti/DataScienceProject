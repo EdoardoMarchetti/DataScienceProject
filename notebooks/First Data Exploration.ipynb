{
 "cells": [
  {
   "cell_type": "markdown",
   "id": "a754cee7",
   "metadata": {},
   "source": [
    "In this notebook is reported a starting data exploration both on the development dataset and the evaluation one"
   ]
  },
  {
   "cell_type": "markdown",
   "id": "fada8b72",
   "metadata": {},
   "source": [
    "# Configuraion"
   ]
  },
  {
   "cell_type": "code",
   "execution_count": 53,
   "id": "2fbad42b",
   "metadata": {},
   "outputs": [],
   "source": [
    "import pandas as pd\n",
    "import seaborn as sns\n",
    "import matplotlib.pyplot as plt"
   ]
  },
  {
   "cell_type": "code",
   "execution_count": 54,
   "id": "b3c26226",
   "metadata": {},
   "outputs": [],
   "source": [
    "plt.rcParams[\"figure.figsize\"] = (10, 6)"
   ]
  },
  {
   "cell_type": "markdown",
   "id": "7c3b5315",
   "metadata": {},
   "source": [
    "# Development dataset"
   ]
  },
  {
   "cell_type": "code",
   "execution_count": 38,
   "id": "aae87e02",
   "metadata": {},
   "outputs": [
    {
     "data": {
      "text/html": [
       "<div>\n",
       "<style scoped>\n",
       "    .dataframe tbody tr th:only-of-type {\n",
       "        vertical-align: middle;\n",
       "    }\n",
       "\n",
       "    .dataframe tbody tr th {\n",
       "        vertical-align: top;\n",
       "    }\n",
       "\n",
       "    .dataframe thead th {\n",
       "        text-align: right;\n",
       "    }\n",
       "</style>\n",
       "<table border=\"1\" class=\"dataframe\">\n",
       "  <thead>\n",
       "    <tr style=\"text-align: right;\">\n",
       "      <th></th>\n",
       "      <th>YEAR</th>\n",
       "      <th>LOC</th>\n",
       "      <th>SN</th>\n",
       "      <th>AT</th>\n",
       "      <th>AP</th>\n",
       "      <th>AH</th>\n",
       "      <th>AFDP</th>\n",
       "      <th>GTEP</th>\n",
       "      <th>TIT</th>\n",
       "      <th>TAT</th>\n",
       "      <th>TEY</th>\n",
       "      <th>CDP</th>\n",
       "      <th>NOX</th>\n",
       "      <th>CO</th>\n",
       "    </tr>\n",
       "    <tr>\n",
       "      <th>ID</th>\n",
       "      <th></th>\n",
       "      <th></th>\n",
       "      <th></th>\n",
       "      <th></th>\n",
       "      <th></th>\n",
       "      <th></th>\n",
       "      <th></th>\n",
       "      <th></th>\n",
       "      <th></th>\n",
       "      <th></th>\n",
       "      <th></th>\n",
       "      <th></th>\n",
       "      <th></th>\n",
       "      <th></th>\n",
       "    </tr>\n",
       "  </thead>\n",
       "  <tbody>\n",
       "    <tr>\n",
       "      <th>0</th>\n",
       "      <td>2022</td>\n",
       "      <td>Austria</td>\n",
       "      <td>0903XTR</td>\n",
       "      <td>24.918</td>\n",
       "      <td>1006.8</td>\n",
       "      <td>55.697</td>\n",
       "      <td>3.3648</td>\n",
       "      <td>22.322</td>\n",
       "      <td>1071.5</td>\n",
       "      <td>550.03</td>\n",
       "      <td>119.83</td>\n",
       "      <td>11.171</td>\n",
       "      <td>NaN</td>\n",
       "      <td>1.07640</td>\n",
       "    </tr>\n",
       "    <tr>\n",
       "      <th>1</th>\n",
       "      <td>2022</td>\n",
       "      <td>Romania</td>\n",
       "      <td>0903XTR</td>\n",
       "      <td>14.332</td>\n",
       "      <td>1024.1</td>\n",
       "      <td>81.857</td>\n",
       "      <td>3.2767</td>\n",
       "      <td>20.049</td>\n",
       "      <td>1037.3</td>\n",
       "      <td>533.70</td>\n",
       "      <td>110.05</td>\n",
       "      <td>10.692</td>\n",
       "      <td>102.010</td>\n",
       "      <td>10.19600</td>\n",
       "    </tr>\n",
       "    <tr>\n",
       "      <th>2</th>\n",
       "      <td>2022</td>\n",
       "      <td>Sweden</td>\n",
       "      <td>0903XTR</td>\n",
       "      <td>11.548</td>\n",
       "      <td>1009.1</td>\n",
       "      <td>78.389</td>\n",
       "      <td>4.9142</td>\n",
       "      <td>28.616</td>\n",
       "      <td>1093.9</td>\n",
       "      <td>539.43</td>\n",
       "      <td>147.19</td>\n",
       "      <td>12.979</td>\n",
       "      <td>NaN</td>\n",
       "      <td>0.78407</td>\n",
       "    </tr>\n",
       "    <tr>\n",
       "      <th>3</th>\n",
       "      <td>2022</td>\n",
       "      <td>Finland</td>\n",
       "      <td>0903XTR</td>\n",
       "      <td>25.597</td>\n",
       "      <td>1003.0</td>\n",
       "      <td>77.744</td>\n",
       "      <td>3.2325</td>\n",
       "      <td>20.749</td>\n",
       "      <td>1062.1</td>\n",
       "      <td>549.95</td>\n",
       "      <td>112.79</td>\n",
       "      <td>10.624</td>\n",
       "      <td>52.225</td>\n",
       "      <td>1.61530</td>\n",
       "    </tr>\n",
       "    <tr>\n",
       "      <th>4</th>\n",
       "      <td>2022</td>\n",
       "      <td>Estonia</td>\n",
       "      <td>0903XTR</td>\n",
       "      <td>13.484</td>\n",
       "      <td>1011.1</td>\n",
       "      <td>96.477</td>\n",
       "      <td>4.1968</td>\n",
       "      <td>24.230</td>\n",
       "      <td>1086.1</td>\n",
       "      <td>550.08</td>\n",
       "      <td>133.71</td>\n",
       "      <td>11.921</td>\n",
       "      <td>71.915</td>\n",
       "      <td>1.40710</td>\n",
       "    </tr>\n",
       "  </tbody>\n",
       "</table>\n",
       "</div>"
      ],
      "text/plain": [
       "    YEAR      LOC       SN      AT      AP      AH    AFDP    GTEP     TIT  \\\n",
       "ID                                                                           \n",
       "0   2022  Austria  0903XTR  24.918  1006.8  55.697  3.3648  22.322  1071.5   \n",
       "1   2022  Romania  0903XTR  14.332  1024.1  81.857  3.2767  20.049  1037.3   \n",
       "2   2022   Sweden  0903XTR  11.548  1009.1  78.389  4.9142  28.616  1093.9   \n",
       "3   2022  Finland  0903XTR  25.597  1003.0  77.744  3.2325  20.749  1062.1   \n",
       "4   2022  Estonia  0903XTR  13.484  1011.1  96.477  4.1968  24.230  1086.1   \n",
       "\n",
       "       TAT     TEY     CDP      NOX        CO  \n",
       "ID                                             \n",
       "0   550.03  119.83  11.171      NaN   1.07640  \n",
       "1   533.70  110.05  10.692  102.010  10.19600  \n",
       "2   539.43  147.19  12.979      NaN   0.78407  \n",
       "3   549.95  112.79  10.624   52.225   1.61530  \n",
       "4   550.08  133.71  11.921   71.915   1.40710  "
      ]
     },
     "execution_count": 38,
     "metadata": {},
     "output_type": "execute_result"
    }
   ],
   "source": [
    "df_dev = pd.read_csv('dataset/development.csv', index_col= 'ID', na_values = '-')\n",
    "df_dev.head()"
   ]
  },
  {
   "cell_type": "code",
   "execution_count": 6,
   "id": "be364066",
   "metadata": {},
   "outputs": [
    {
     "name": "stdout",
     "output_type": "stream",
     "text": [
      "<class 'pandas.core.frame.DataFrame'>\n",
      "Int64Index: 24488 entries, 0 to 24487\n",
      "Data columns (total 14 columns):\n",
      " #   Column  Non-Null Count  Dtype  \n",
      "---  ------  --------------  -----  \n",
      " 0   YEAR    24488 non-null  int64  \n",
      " 1   LOC     24488 non-null  object \n",
      " 2   SN      24488 non-null  object \n",
      " 3   AT      24488 non-null  float64\n",
      " 4   AP      24488 non-null  float64\n",
      " 5   AH      24488 non-null  float64\n",
      " 6   AFDP    24488 non-null  float64\n",
      " 7   GTEP    24488 non-null  float64\n",
      " 8   TIT     24488 non-null  float64\n",
      " 9   TAT     24488 non-null  float64\n",
      " 10  TEY     24488 non-null  float64\n",
      " 11  CDP     24488 non-null  float64\n",
      " 12  NOX     12220 non-null  float64\n",
      " 13  CO      24488 non-null  float64\n",
      "dtypes: float64(11), int64(1), object(2)\n",
      "memory usage: 2.8+ MB\n"
     ]
    }
   ],
   "source": [
    "df_dev.info()"
   ]
  },
  {
   "cell_type": "markdown",
   "id": "3bb4d22f",
   "metadata": {},
   "source": [
    "Only the column NOX has missing values, all the other present complete entries"
   ]
  },
  {
   "cell_type": "code",
   "execution_count": 7,
   "id": "02720fdf",
   "metadata": {},
   "outputs": [
    {
     "data": {
      "text/html": [
       "<div>\n",
       "<style scoped>\n",
       "    .dataframe tbody tr th:only-of-type {\n",
       "        vertical-align: middle;\n",
       "    }\n",
       "\n",
       "    .dataframe tbody tr th {\n",
       "        vertical-align: top;\n",
       "    }\n",
       "\n",
       "    .dataframe thead th {\n",
       "        text-align: right;\n",
       "    }\n",
       "</style>\n",
       "<table border=\"1\" class=\"dataframe\">\n",
       "  <thead>\n",
       "    <tr style=\"text-align: right;\">\n",
       "      <th></th>\n",
       "      <th>YEAR</th>\n",
       "      <th>AT</th>\n",
       "      <th>AP</th>\n",
       "      <th>AH</th>\n",
       "      <th>AFDP</th>\n",
       "      <th>GTEP</th>\n",
       "      <th>TIT</th>\n",
       "      <th>TAT</th>\n",
       "      <th>TEY</th>\n",
       "      <th>CDP</th>\n",
       "      <th>NOX</th>\n",
       "      <th>CO</th>\n",
       "    </tr>\n",
       "  </thead>\n",
       "  <tbody>\n",
       "    <tr>\n",
       "      <th>count</th>\n",
       "      <td>24488.000000</td>\n",
       "      <td>24488.000000</td>\n",
       "      <td>24488.000000</td>\n",
       "      <td>24488.000000</td>\n",
       "      <td>24488.000000</td>\n",
       "      <td>24488.000000</td>\n",
       "      <td>24488.000000</td>\n",
       "      <td>24488.000000</td>\n",
       "      <td>24488.000000</td>\n",
       "      <td>24488.000000</td>\n",
       "      <td>12220.000000</td>\n",
       "      <td>24488.000000</td>\n",
       "    </tr>\n",
       "    <tr>\n",
       "      <th>mean</th>\n",
       "      <td>2020.021562</td>\n",
       "      <td>17.732311</td>\n",
       "      <td>1013.040249</td>\n",
       "      <td>77.851576</td>\n",
       "      <td>3.926046</td>\n",
       "      <td>25.547051</td>\n",
       "      <td>1081.393270</td>\n",
       "      <td>546.180856</td>\n",
       "      <td>133.444970</td>\n",
       "      <td>12.056017</td>\n",
       "      <td>65.241146</td>\n",
       "      <td>2.379069</td>\n",
       "    </tr>\n",
       "    <tr>\n",
       "      <th>std</th>\n",
       "      <td>1.417453</td>\n",
       "      <td>7.472854</td>\n",
       "      <td>6.472126</td>\n",
       "      <td>14.528496</td>\n",
       "      <td>0.775096</td>\n",
       "      <td>4.188980</td>\n",
       "      <td>17.511092</td>\n",
       "      <td>6.829290</td>\n",
       "      <td>15.606517</td>\n",
       "      <td>1.087296</td>\n",
       "      <td>11.480075</td>\n",
       "      <td>2.270383</td>\n",
       "    </tr>\n",
       "    <tr>\n",
       "      <th>min</th>\n",
       "      <td>2018.000000</td>\n",
       "      <td>-6.234800</td>\n",
       "      <td>986.160000</td>\n",
       "      <td>24.085000</td>\n",
       "      <td>2.087400</td>\n",
       "      <td>17.698000</td>\n",
       "      <td>1001.300000</td>\n",
       "      <td>511.040000</td>\n",
       "      <td>100.020000</td>\n",
       "      <td>9.875400</td>\n",
       "      <td>29.063000</td>\n",
       "      <td>0.000388</td>\n",
       "    </tr>\n",
       "    <tr>\n",
       "      <th>25%</th>\n",
       "      <td>2019.000000</td>\n",
       "      <td>11.754750</td>\n",
       "      <td>1008.800000</td>\n",
       "      <td>68.164000</td>\n",
       "      <td>3.354175</td>\n",
       "      <td>23.080000</td>\n",
       "      <td>1071.600000</td>\n",
       "      <td>544.810000</td>\n",
       "      <td>124.220000</td>\n",
       "      <td>11.423000</td>\n",
       "      <td>57.205000</td>\n",
       "      <td>1.186750</td>\n",
       "    </tr>\n",
       "    <tr>\n",
       "      <th>50%</th>\n",
       "      <td>2020.000000</td>\n",
       "      <td>17.838000</td>\n",
       "      <td>1012.600000</td>\n",
       "      <td>80.494000</td>\n",
       "      <td>3.937450</td>\n",
       "      <td>25.092500</td>\n",
       "      <td>1085.900000</td>\n",
       "      <td>549.880000</td>\n",
       "      <td>133.730000</td>\n",
       "      <td>11.963000</td>\n",
       "      <td>63.822500</td>\n",
       "      <td>1.719450</td>\n",
       "    </tr>\n",
       "    <tr>\n",
       "      <th>75%</th>\n",
       "      <td>2021.000000</td>\n",
       "      <td>23.715500</td>\n",
       "      <td>1016.900000</td>\n",
       "      <td>89.392250</td>\n",
       "      <td>4.377350</td>\n",
       "      <td>28.958500</td>\n",
       "      <td>1096.700000</td>\n",
       "      <td>550.040000</td>\n",
       "      <td>143.790000</td>\n",
       "      <td>12.824000</td>\n",
       "      <td>71.406250</td>\n",
       "      <td>2.866625</td>\n",
       "    </tr>\n",
       "    <tr>\n",
       "      <th>max</th>\n",
       "      <td>2022.000000</td>\n",
       "      <td>37.103000</td>\n",
       "      <td>1036.500000</td>\n",
       "      <td>100.200000</td>\n",
       "      <td>7.554900</td>\n",
       "      <td>40.716000</td>\n",
       "      <td>1100.900000</td>\n",
       "      <td>550.610000</td>\n",
       "      <td>179.500000</td>\n",
       "      <td>15.159000</td>\n",
       "      <td>119.900000</td>\n",
       "      <td>44.103000</td>\n",
       "    </tr>\n",
       "  </tbody>\n",
       "</table>\n",
       "</div>"
      ],
      "text/plain": [
       "               YEAR            AT            AP            AH          AFDP  \\\n",
       "count  24488.000000  24488.000000  24488.000000  24488.000000  24488.000000   \n",
       "mean    2020.021562     17.732311   1013.040249     77.851576      3.926046   \n",
       "std        1.417453      7.472854      6.472126     14.528496      0.775096   \n",
       "min     2018.000000     -6.234800    986.160000     24.085000      2.087400   \n",
       "25%     2019.000000     11.754750   1008.800000     68.164000      3.354175   \n",
       "50%     2020.000000     17.838000   1012.600000     80.494000      3.937450   \n",
       "75%     2021.000000     23.715500   1016.900000     89.392250      4.377350   \n",
       "max     2022.000000     37.103000   1036.500000    100.200000      7.554900   \n",
       "\n",
       "               GTEP           TIT           TAT           TEY           CDP  \\\n",
       "count  24488.000000  24488.000000  24488.000000  24488.000000  24488.000000   \n",
       "mean      25.547051   1081.393270    546.180856    133.444970     12.056017   \n",
       "std        4.188980     17.511092      6.829290     15.606517      1.087296   \n",
       "min       17.698000   1001.300000    511.040000    100.020000      9.875400   \n",
       "25%       23.080000   1071.600000    544.810000    124.220000     11.423000   \n",
       "50%       25.092500   1085.900000    549.880000    133.730000     11.963000   \n",
       "75%       28.958500   1096.700000    550.040000    143.790000     12.824000   \n",
       "max       40.716000   1100.900000    550.610000    179.500000     15.159000   \n",
       "\n",
       "                NOX            CO  \n",
       "count  12220.000000  24488.000000  \n",
       "mean      65.241146      2.379069  \n",
       "std       11.480075      2.270383  \n",
       "min       29.063000      0.000388  \n",
       "25%       57.205000      1.186750  \n",
       "50%       63.822500      1.719450  \n",
       "75%       71.406250      2.866625  \n",
       "max      119.900000     44.103000  "
      ]
     },
     "execution_count": 7,
     "metadata": {},
     "output_type": "execute_result"
    }
   ],
   "source": [
    "df_dev.describe()"
   ]
  },
  {
   "cell_type": "markdown",
   "id": "f740765e",
   "metadata": {},
   "source": [
    "### LOC"
   ]
  },
  {
   "cell_type": "code",
   "execution_count": 11,
   "id": "3a404716",
   "metadata": {},
   "outputs": [
    {
     "data": {
      "text/plain": [
       "Index(['Portugal', 'Germany', 'Malta', 'Denmark', 'Greece', 'Slovenia',\n",
       "       'Lithuania', 'Czech Republic', 'Sweden', 'Slovakia', 'Romania', 'Spain',\n",
       "       'Croatia', 'Italy', 'Belgium', 'Latvia', 'Republic of Cyprus',\n",
       "       'Bulgaria', 'Hungary', 'Ireland', 'France', 'Austria', 'Finland',\n",
       "       'Netherlands', 'Luxembourg', 'Estonia', 'Poland'],\n",
       "      dtype='object')"
      ]
     },
     "execution_count": 11,
     "metadata": {},
     "output_type": "execute_result"
    }
   ],
   "source": [
    "df_dev['LOC'].value_counts().index"
   ]
  },
  {
   "cell_type": "code",
   "execution_count": 25,
   "id": "eda8c34f",
   "metadata": {},
   "outputs": [
    {
     "data": {
      "text/plain": [
       "Portugal              965\n",
       "Germany               960\n",
       "Malta                 955\n",
       "Denmark               954\n",
       "Greece                947\n",
       "Slovenia              938\n",
       "Lithuania             938\n",
       "Czech Republic        937\n",
       "Sweden                936\n",
       "Slovakia              935\n",
       "Romania               925\n",
       "Spain                 924\n",
       "Croatia               920\n",
       "Italy                 910\n",
       "Belgium               909\n",
       "Latvia                905\n",
       "Republic of Cyprus    890\n",
       "Bulgaria              888\n",
       "Hungary               878\n",
       "Ireland               876\n",
       "France                872\n",
       "Austria               869\n",
       "Finland               867\n",
       "Netherlands           855\n",
       "Luxembourg            853\n",
       "Estonia               845\n",
       "Poland                837\n",
       "Name: LOC, dtype: int64"
      ]
     },
     "execution_count": 25,
     "metadata": {},
     "output_type": "execute_result"
    }
   ],
   "source": [
    "df_dev['LOC'].value_counts()"
   ]
  },
  {
   "cell_type": "code",
   "execution_count": 80,
   "id": "e01b96d7",
   "metadata": {},
   "outputs": [
    {
     "data": {
      "text/plain": [
       "0.037"
      ]
     },
     "execution_count": 80,
     "metadata": {},
     "output_type": "execute_result"
    }
   ],
   "source": [
    "round((df_dev['LOC'].value_counts() / len(df_dev)).mean(), 3)"
   ]
  },
  {
   "cell_type": "markdown",
   "id": "8ae7c33c",
   "metadata": {},
   "source": [
    "All the turbines are based in Europe and they are uniformely distributed across all the countries. Indeed we have a mean about 0.037% of the total turbine number in each country and it is exaclty the value of 1/27, where 27 is the number of represented countries."
   ]
  },
  {
   "cell_type": "markdown",
   "id": "3d54c33c",
   "metadata": {},
   "source": [
    "### SN"
   ]
  },
  {
   "cell_type": "code",
   "execution_count": 26,
   "id": "f3188732",
   "metadata": {},
   "outputs": [
    {
     "data": {
      "text/plain": [
       "0903XTR    24488\n",
       "Name: SN, dtype: int64"
      ]
     },
     "execution_count": 26,
     "metadata": {},
     "output_type": "execute_result"
    }
   ],
   "source": [
    "df_dev['SN'].value_counts()"
   ]
  },
  {
   "cell_type": "markdown",
   "id": "e1c39907",
   "metadata": {},
   "source": [
    "The columns SN, which indicates the turbine model, contains only one value so when may remove that columns before passing the data to the model."
   ]
  },
  {
   "cell_type": "markdown",
   "id": "53250565",
   "metadata": {},
   "source": [
    "### YEAR"
   ]
  },
  {
   "cell_type": "markdown",
   "id": "75edafa1",
   "metadata": {},
   "source": [
    "As can be observed by the describe method, the obseravations have been taken between the 2018 and the 2022. "
   ]
  },
  {
   "cell_type": "code",
   "execution_count": 30,
   "id": "79e0ef28",
   "metadata": {},
   "outputs": [
    {
     "data": {
      "text/plain": [
       "2021    5142\n",
       "2022    4950\n",
       "2018    4877\n",
       "2019    4760\n",
       "2020    4759\n",
       "Name: YEAR, dtype: int64"
      ]
     },
     "execution_count": 30,
     "metadata": {},
     "output_type": "execute_result"
    }
   ],
   "source": [
    "df_dev['YEAR'].value_counts()"
   ]
  },
  {
   "cell_type": "code",
   "execution_count": 31,
   "id": "ade8ba57",
   "metadata": {},
   "outputs": [
    {
     "data": {
      "text/plain": [
       "0.2"
      ]
     },
     "execution_count": 31,
     "metadata": {},
     "output_type": "execute_result"
    }
   ],
   "source": [
    "round((df_dev['YEAR'].value_counts() / len(df_dev)).mean(), 3)"
   ]
  },
  {
   "cell_type": "markdown",
   "id": "16a16f6f",
   "metadata": {},
   "source": [
    "As for the LOC, column we can say that the datasets is enough balanced with respect to the YEAR column."
   ]
  },
  {
   "cell_type": "markdown",
   "id": "4d893d2e",
   "metadata": {},
   "source": [
    "### ID"
   ]
  },
  {
   "cell_type": "markdown",
   "id": "1795e871",
   "metadata": {},
   "source": [
    "The ID column contains increasing indexes, so it seems to be unnecessary for the analysis."
   ]
  },
  {
   "cell_type": "code",
   "execution_count": 41,
   "id": "8910c3a9",
   "metadata": {},
   "outputs": [
    {
     "data": {
      "text/html": [
       "<div>\n",
       "<style scoped>\n",
       "    .dataframe tbody tr th:only-of-type {\n",
       "        vertical-align: middle;\n",
       "    }\n",
       "\n",
       "    .dataframe tbody tr th {\n",
       "        vertical-align: top;\n",
       "    }\n",
       "\n",
       "    .dataframe thead th {\n",
       "        text-align: right;\n",
       "    }\n",
       "</style>\n",
       "<table border=\"1\" class=\"dataframe\">\n",
       "  <thead>\n",
       "    <tr style=\"text-align: right;\">\n",
       "      <th></th>\n",
       "      <th>ID</th>\n",
       "      <th>YEAR</th>\n",
       "    </tr>\n",
       "  </thead>\n",
       "  <tbody>\n",
       "    <tr>\n",
       "      <th>ID</th>\n",
       "      <td>1.0000</td>\n",
       "      <td>-0.0113</td>\n",
       "    </tr>\n",
       "    <tr>\n",
       "      <th>YEAR</th>\n",
       "      <td>-0.0113</td>\n",
       "      <td>1.0000</td>\n",
       "    </tr>\n",
       "  </tbody>\n",
       "</table>\n",
       "</div>"
      ],
      "text/plain": [
       "          ID    YEAR\n",
       "ID    1.0000 -0.0113\n",
       "YEAR -0.0113  1.0000"
      ]
     },
     "execution_count": 41,
     "metadata": {},
     "output_type": "execute_result"
    }
   ],
   "source": [
    "df_dev.reset_index()[['ID','YEAR']].corr()"
   ]
  },
  {
   "cell_type": "markdown",
   "id": "f3534987",
   "metadata": {},
   "source": [
    "There is no relation between ID and YEAR => the record are not reported sorted by YEAR."
   ]
  },
  {
   "cell_type": "markdown",
   "id": "843fafec",
   "metadata": {},
   "source": [
    "### Correlation among features"
   ]
  },
  {
   "cell_type": "code",
   "execution_count": 56,
   "id": "cbe47acb",
   "metadata": {},
   "outputs": [
    {
     "data": {
      "text/plain": [
       "<AxesSubplot:>"
      ]
     },
     "execution_count": 56,
     "metadata": {},
     "output_type": "execute_result"
    },
    {
     "data": {
      "image/png": "[encoded data removed]",
      "text/plain": [
       "<Figure size 720x432 with 2 Axes>"
      ]
     },
     "metadata": {
      "needs_background": "light"
     },
     "output_type": "display_data"
    }
   ],
   "source": [
    "sns.heatmap(df_dev.iloc[:,:-1].corr(), annot = True, fmt = '.2f')"
   ]
  },
  {
   "cell_type": "markdown",
   "id": "39dc1c85",
   "metadata": {},
   "source": [
    "The features AFDP, GTEP, TIT, TAT, TEY and CDP seem to correlated one to another. \n",
    "\n",
    "In particular we have positive correlation between AFDP, GTEP, TIT, TEY, CDP, while TAT is characterized with a negative linear relationship.\n",
    "\n",
    "Another significative correlation can be seen between the AT with the AP, AH as one can expects, but also with NOX column."
   ]
  },
  {
   "cell_type": "code",
   "execution_count": 72,
   "id": "68e927cc",
   "metadata": {},
   "outputs": [
    {
     "data": {
      "text/plain": [
       "YEAR   -0.177655\n",
       "AT     -0.173731\n",
       "AP      0.066065\n",
       "AH      0.112168\n",
       "AFDP   -0.445265\n",
       "GTEP   -0.516484\n",
       "TIT    -0.702058\n",
       "TAT     0.056917\n",
       "TEY    -0.565702\n",
       "CDP    -0.547465\n",
       "NOX     0.343427\n",
       "CO      1.000000\n",
       "Name: CO, dtype: float64"
      ]
     },
     "execution_count": 72,
     "metadata": {},
     "output_type": "execute_result"
    }
   ],
   "source": [
    "df_dev.corr()['CO']"
   ]
  },
  {
   "cell_type": "code",
   "execution_count": 71,
   "id": "816a02f7",
   "metadata": {},
   "outputs": [
    {
     "data": {
      "text/plain": [
       "TIT    -0.702058\n",
       "TEY    -0.565702\n",
       "CDP    -0.547465\n",
       "GTEP   -0.516484\n",
       "CO      1.000000\n",
       "Name: CO, dtype: float64"
      ]
     },
     "execution_count": 71,
     "metadata": {},
     "output_type": "execute_result"
    }
   ],
   "source": [
    "df_dev.corr()['CO'].loc[abs(df_dev.corr()['CO']) > 0.5].sort_values()"
   ]
  },
  {
   "cell_type": "markdown",
   "id": "d23e4b5e",
   "metadata": {},
   "source": [
    "The cell above allows to individuate the features with the highest correlation, negative in that case, with the CO emission value. We may start from these 5 features."
   ]
  },
  {
   "cell_type": "markdown",
   "id": "6a99d94d",
   "metadata": {},
   "source": [
    "# Evaluation dataset"
   ]
  },
  {
   "cell_type": "markdown",
   "id": "36f7384d",
   "metadata": {},
   "source": [
    "Now we check if the characteristics of the evaluation set are the same of the development one"
   ]
  },
  {
   "cell_type": "code",
   "execution_count": 39,
   "id": "b0c0fa6c",
   "metadata": {},
   "outputs": [
    {
     "data": {
      "text/html": [
       "<div>\n",
       "<style scoped>\n",
       "    .dataframe tbody tr th:only-of-type {\n",
       "        vertical-align: middle;\n",
       "    }\n",
       "\n",
       "    .dataframe tbody tr th {\n",
       "        vertical-align: top;\n",
       "    }\n",
       "\n",
       "    .dataframe thead th {\n",
       "        text-align: right;\n",
       "    }\n",
       "</style>\n",
       "<table border=\"1\" class=\"dataframe\">\n",
       "  <thead>\n",
       "    <tr style=\"text-align: right;\">\n",
       "      <th></th>\n",
       "      <th>YEAR</th>\n",
       "      <th>LOC</th>\n",
       "      <th>SN</th>\n",
       "      <th>AT</th>\n",
       "      <th>AP</th>\n",
       "      <th>AH</th>\n",
       "      <th>AFDP</th>\n",
       "      <th>GTEP</th>\n",
       "      <th>TIT</th>\n",
       "      <th>TAT</th>\n",
       "      <th>TEY</th>\n",
       "      <th>CDP</th>\n",
       "      <th>NOX</th>\n",
       "    </tr>\n",
       "    <tr>\n",
       "      <th>ID</th>\n",
       "      <th></th>\n",
       "      <th></th>\n",
       "      <th></th>\n",
       "      <th></th>\n",
       "      <th></th>\n",
       "      <th></th>\n",
       "      <th></th>\n",
       "      <th></th>\n",
       "      <th></th>\n",
       "      <th></th>\n",
       "      <th></th>\n",
       "      <th></th>\n",
       "      <th></th>\n",
       "    </tr>\n",
       "  </thead>\n",
       "  <tbody>\n",
       "    <tr>\n",
       "      <th>24488</th>\n",
       "      <td>2022</td>\n",
       "      <td>Republic of Cyprus</td>\n",
       "      <td>0903XTR</td>\n",
       "      <td>24.276</td>\n",
       "      <td>1013.3</td>\n",
       "      <td>67.643</td>\n",
       "      <td>3.9119</td>\n",
       "      <td>26.056</td>\n",
       "      <td>1093.8</td>\n",
       "      <td>549.73</td>\n",
       "      <td>134.44</td>\n",
       "      <td>12.163</td>\n",
       "      <td>NaN</td>\n",
       "    </tr>\n",
       "    <tr>\n",
       "      <th>24489</th>\n",
       "      <td>2022</td>\n",
       "      <td>Estonia</td>\n",
       "      <td>0903XTR</td>\n",
       "      <td>10.100</td>\n",
       "      <td>1015.9</td>\n",
       "      <td>100.150</td>\n",
       "      <td>3.5681</td>\n",
       "      <td>19.167</td>\n",
       "      <td>1049.8</td>\n",
       "      <td>545.97</td>\n",
       "      <td>110.74</td>\n",
       "      <td>10.415</td>\n",
       "      <td>NaN</td>\n",
       "    </tr>\n",
       "    <tr>\n",
       "      <th>24490</th>\n",
       "      <td>2020</td>\n",
       "      <td>Estonia</td>\n",
       "      <td>0903XTR</td>\n",
       "      <td>26.283</td>\n",
       "      <td>1015.1</td>\n",
       "      <td>58.595</td>\n",
       "      <td>4.9541</td>\n",
       "      <td>25.910</td>\n",
       "      <td>1092.9</td>\n",
       "      <td>549.89</td>\n",
       "      <td>133.21</td>\n",
       "      <td>12.271</td>\n",
       "      <td>NaN</td>\n",
       "    </tr>\n",
       "    <tr>\n",
       "      <th>24491</th>\n",
       "      <td>2018</td>\n",
       "      <td>Denmark</td>\n",
       "      <td>0903XTR</td>\n",
       "      <td>7.811</td>\n",
       "      <td>1015.9</td>\n",
       "      <td>73.624</td>\n",
       "      <td>2.5919</td>\n",
       "      <td>21.351</td>\n",
       "      <td>1036.2</td>\n",
       "      <td>543.81</td>\n",
       "      <td>107.77</td>\n",
       "      <td>10.355</td>\n",
       "      <td>NaN</td>\n",
       "    </tr>\n",
       "    <tr>\n",
       "      <th>24492</th>\n",
       "      <td>2021</td>\n",
       "      <td>Latvia</td>\n",
       "      <td>0903XTR</td>\n",
       "      <td>25.138</td>\n",
       "      <td>1010.3</td>\n",
       "      <td>82.853</td>\n",
       "      <td>3.6168</td>\n",
       "      <td>20.117</td>\n",
       "      <td>1057.8</td>\n",
       "      <td>550.01</td>\n",
       "      <td>109.80</td>\n",
       "      <td>10.500</td>\n",
       "      <td>51.366</td>\n",
       "    </tr>\n",
       "  </tbody>\n",
       "</table>\n",
       "</div>"
      ],
      "text/plain": [
       "       YEAR                 LOC       SN      AT      AP       AH    AFDP  \\\n",
       "ID                                                                          \n",
       "24488  2022  Republic of Cyprus  0903XTR  24.276  1013.3   67.643  3.9119   \n",
       "24489  2022             Estonia  0903XTR  10.100  1015.9  100.150  3.5681   \n",
       "24490  2020             Estonia  0903XTR  26.283  1015.1   58.595  4.9541   \n",
       "24491  2018             Denmark  0903XTR   7.811  1015.9   73.624  2.5919   \n",
       "24492  2021              Latvia  0903XTR  25.138  1010.3   82.853  3.6168   \n",
       "\n",
       "         GTEP     TIT     TAT     TEY     CDP     NOX  \n",
       "ID                                                     \n",
       "24488  26.056  1093.8  549.73  134.44  12.163     NaN  \n",
       "24489  19.167  1049.8  545.97  110.74  10.415     NaN  \n",
       "24490  25.910  1092.9  549.89  133.21  12.271     NaN  \n",
       "24491  21.351  1036.2  543.81  107.77  10.355     NaN  \n",
       "24492  20.117  1057.8  550.01  109.80  10.500  51.366  "
      ]
     },
     "execution_count": 39,
     "metadata": {},
     "output_type": "execute_result"
    }
   ],
   "source": [
    "df_val = pd.read_csv('dataset/evaluation.csv', index_col= 'ID', na_values = '-')\n",
    "df_val.head()"
   ]
  },
  {
   "cell_type": "code",
   "execution_count": 73,
   "id": "e6658e2d",
   "metadata": {},
   "outputs": [
    {
     "name": "stdout",
     "output_type": "stream",
     "text": [
      "<class 'pandas.core.frame.DataFrame'>\n",
      "Int64Index: 12245 entries, 24488 to 36732\n",
      "Data columns (total 13 columns):\n",
      " #   Column  Non-Null Count  Dtype  \n",
      "---  ------  --------------  -----  \n",
      " 0   YEAR    12245 non-null  int64  \n",
      " 1   LOC     12245 non-null  object \n",
      " 2   SN      12245 non-null  object \n",
      " 3   AT      12245 non-null  float64\n",
      " 4   AP      12245 non-null  float64\n",
      " 5   AH      12245 non-null  float64\n",
      " 6   AFDP    12245 non-null  float64\n",
      " 7   GTEP    12245 non-null  float64\n",
      " 8   TIT     12245 non-null  float64\n",
      " 9   TAT     12245 non-null  float64\n",
      " 10  TEY     12245 non-null  float64\n",
      " 11  CDP     12245 non-null  float64\n",
      " 12  NOX     6182 non-null   float64\n",
      "dtypes: float64(10), int64(1), object(2)\n",
      "memory usage: 1.3+ MB\n"
     ]
    }
   ],
   "source": [
    "df_val.info()"
   ]
  },
  {
   "cell_type": "code",
   "execution_count": 74,
   "id": "0db085d2",
   "metadata": {},
   "outputs": [
    {
     "data": {
      "text/html": [
       "<div>\n",
       "<style scoped>\n",
       "    .dataframe tbody tr th:only-of-type {\n",
       "        vertical-align: middle;\n",
       "    }\n",
       "\n",
       "    .dataframe tbody tr th {\n",
       "        vertical-align: top;\n",
       "    }\n",
       "\n",
       "    .dataframe thead th {\n",
       "        text-align: right;\n",
       "    }\n",
       "</style>\n",
       "<table border=\"1\" class=\"dataframe\">\n",
       "  <thead>\n",
       "    <tr style=\"text-align: right;\">\n",
       "      <th></th>\n",
       "      <th>YEAR</th>\n",
       "      <th>AT</th>\n",
       "      <th>AP</th>\n",
       "      <th>AH</th>\n",
       "      <th>AFDP</th>\n",
       "      <th>GTEP</th>\n",
       "      <th>TIT</th>\n",
       "      <th>TAT</th>\n",
       "      <th>TEY</th>\n",
       "      <th>CDP</th>\n",
       "      <th>NOX</th>\n",
       "    </tr>\n",
       "  </thead>\n",
       "  <tbody>\n",
       "    <tr>\n",
       "      <th>count</th>\n",
       "      <td>12245.000000</td>\n",
       "      <td>12245.000000</td>\n",
       "      <td>12245.000000</td>\n",
       "      <td>12245.000000</td>\n",
       "      <td>12245.000000</td>\n",
       "      <td>12245.000000</td>\n",
       "      <td>12245.000000</td>\n",
       "      <td>12245.000000</td>\n",
       "      <td>12245.000000</td>\n",
       "      <td>12245.000000</td>\n",
       "      <td>6182.000000</td>\n",
       "    </tr>\n",
       "    <tr>\n",
       "      <th>mean</th>\n",
       "      <td>2019.999673</td>\n",
       "      <td>17.673560</td>\n",
       "      <td>1013.129993</td>\n",
       "      <td>77.897892</td>\n",
       "      <td>3.924462</td>\n",
       "      <td>25.597299</td>\n",
       "      <td>1081.497705</td>\n",
       "      <td>546.113843</td>\n",
       "      <td>133.629260</td>\n",
       "      <td>12.069541</td>\n",
       "      <td>65.261535</td>\n",
       "    </tr>\n",
       "    <tr>\n",
       "      <th>std</th>\n",
       "      <td>1.421931</td>\n",
       "      <td>7.396537</td>\n",
       "      <td>6.445599</td>\n",
       "      <td>14.326681</td>\n",
       "      <td>0.771641</td>\n",
       "      <td>4.209848</td>\n",
       "      <td>17.587331</td>\n",
       "      <td>6.868486</td>\n",
       "      <td>15.642752</td>\n",
       "      <td>1.091776</td>\n",
       "      <td>11.800257</td>\n",
       "    </tr>\n",
       "    <tr>\n",
       "      <th>min</th>\n",
       "      <td>2018.000000</td>\n",
       "      <td>-5.895600</td>\n",
       "      <td>985.850000</td>\n",
       "      <td>27.504000</td>\n",
       "      <td>2.144100</td>\n",
       "      <td>17.719000</td>\n",
       "      <td>1000.800000</td>\n",
       "      <td>512.450000</td>\n",
       "      <td>100.030000</td>\n",
       "      <td>9.851800</td>\n",
       "      <td>27.765000</td>\n",
       "    </tr>\n",
       "    <tr>\n",
       "      <th>25%</th>\n",
       "      <td>2019.000000</td>\n",
       "      <td>11.843000</td>\n",
       "      <td>1008.900000</td>\n",
       "      <td>68.300000</td>\n",
       "      <td>3.358500</td>\n",
       "      <td>23.214000</td>\n",
       "      <td>1072.000000</td>\n",
       "      <td>544.570000</td>\n",
       "      <td>124.930000</td>\n",
       "      <td>11.463000</td>\n",
       "      <td>57.193250</td>\n",
       "    </tr>\n",
       "    <tr>\n",
       "      <th>50%</th>\n",
       "      <td>2020.000000</td>\n",
       "      <td>17.743000</td>\n",
       "      <td>1012.700000</td>\n",
       "      <td>80.422000</td>\n",
       "      <td>3.938400</td>\n",
       "      <td>25.119000</td>\n",
       "      <td>1085.900000</td>\n",
       "      <td>549.870000</td>\n",
       "      <td>133.740000</td>\n",
       "      <td>11.968000</td>\n",
       "      <td>63.697500</td>\n",
       "    </tr>\n",
       "    <tr>\n",
       "      <th>75%</th>\n",
       "      <td>2021.000000</td>\n",
       "      <td>23.584000</td>\n",
       "      <td>1017.100000</td>\n",
       "      <td>89.355000</td>\n",
       "      <td>4.374700</td>\n",
       "      <td>29.256000</td>\n",
       "      <td>1097.800000</td>\n",
       "      <td>550.040000</td>\n",
       "      <td>144.550000</td>\n",
       "      <td>12.918000</td>\n",
       "      <td>71.508500</td>\n",
       "    </tr>\n",
       "    <tr>\n",
       "      <th>max</th>\n",
       "      <td>2022.000000</td>\n",
       "      <td>35.822000</td>\n",
       "      <td>1036.600000</td>\n",
       "      <td>100.200000</td>\n",
       "      <td>7.610600</td>\n",
       "      <td>38.362000</td>\n",
       "      <td>1100.800000</td>\n",
       "      <td>550.570000</td>\n",
       "      <td>177.880000</td>\n",
       "      <td>15.083000</td>\n",
       "      <td>119.910000</td>\n",
       "    </tr>\n",
       "  </tbody>\n",
       "</table>\n",
       "</div>"
      ],
      "text/plain": [
       "               YEAR            AT            AP            AH          AFDP  \\\n",
       "count  12245.000000  12245.000000  12245.000000  12245.000000  12245.000000   \n",
       "mean    2019.999673     17.673560   1013.129993     77.897892      3.924462   \n",
       "std        1.421931      7.396537      6.445599     14.326681      0.771641   \n",
       "min     2018.000000     -5.895600    985.850000     27.504000      2.144100   \n",
       "25%     2019.000000     11.843000   1008.900000     68.300000      3.358500   \n",
       "50%     2020.000000     17.743000   1012.700000     80.422000      3.938400   \n",
       "75%     2021.000000     23.584000   1017.100000     89.355000      4.374700   \n",
       "max     2022.000000     35.822000   1036.600000    100.200000      7.610600   \n",
       "\n",
       "               GTEP           TIT           TAT           TEY           CDP  \\\n",
       "count  12245.000000  12245.000000  12245.000000  12245.000000  12245.000000   \n",
       "mean      25.597299   1081.497705    546.113843    133.629260     12.069541   \n",
       "std        4.209848     17.587331      6.868486     15.642752      1.091776   \n",
       "min       17.719000   1000.800000    512.450000    100.030000      9.851800   \n",
       "25%       23.214000   1072.000000    544.570000    124.930000     11.463000   \n",
       "50%       25.119000   1085.900000    549.870000    133.740000     11.968000   \n",
       "75%       29.256000   1097.800000    550.040000    144.550000     12.918000   \n",
       "max       38.362000   1100.800000    550.570000    177.880000     15.083000   \n",
       "\n",
       "               NOX  \n",
       "count  6182.000000  \n",
       "mean     65.261535  \n",
       "std      11.800257  \n",
       "min      27.765000  \n",
       "25%      57.193250  \n",
       "50%      63.697500  \n",
       "75%      71.508500  \n",
       "max     119.910000  "
      ]
     },
     "execution_count": 74,
     "metadata": {},
     "output_type": "execute_result"
    }
   ],
   "source": [
    "df_val.describe()"
   ]
  },
  {
   "cell_type": "markdown",
   "id": "0f76630b",
   "metadata": {},
   "source": [
    "### LOC"
   ]
  },
  {
   "cell_type": "code",
   "execution_count": 107,
   "id": "40a83c59",
   "metadata": {},
   "outputs": [],
   "source": [
    "countries_turbine = df_val['LOC'].value_counts()"
   ]
  },
  {
   "cell_type": "code",
   "execution_count": 108,
   "id": "603bf27b",
   "metadata": {},
   "outputs": [
    {
     "name": "stdout",
     "output_type": "stream",
     "text": [
      "Index(['Germany', 'Slovenia', 'Estonia', 'Greece', 'Netherlands', 'Italy',\n",
      "       'Bulgaria', 'Portugal', 'Luxembourg', 'Sweden', 'Latvia', 'Lithuania',\n",
      "       'Romania', 'Belgium', 'Spain', 'Croatia', 'Hungary', 'Poland',\n",
      "       'Czech Republic', 'Denmark', 'Austria', 'Slovakia', 'Ireland', 'Malta',\n",
      "       'France', 'Finland', 'Republic of Cyprus'],\n",
      "      dtype='object') 27\n"
     ]
    }
   ],
   "source": [
    "print(countries_turbine.index, len(countries_turbine.index))"
   ]
  },
  {
   "cell_type": "code",
   "execution_count": 109,
   "id": "3b63b49d",
   "metadata": {},
   "outputs": [
    {
     "data": {
      "text/plain": [
       "0.037"
      ]
     },
     "execution_count": 109,
     "metadata": {},
     "output_type": "execute_result"
    }
   ],
   "source": [
    "round((countries_turbine / len(df_val)).mean(), 3)"
   ]
  },
  {
   "cell_type": "code",
   "execution_count": 87,
   "id": "5d9fc45c",
   "metadata": {},
   "outputs": [
    {
     "data": {
      "text/plain": [
       "27"
      ]
     },
     "execution_count": 87,
     "metadata": {},
     "output_type": "execute_result"
    }
   ],
   "source": [
    "len(set(df_dev['LOC']) | set(df_val['LOC']))"
   ]
  },
  {
   "cell_type": "markdown",
   "id": "32628513",
   "metadata": {},
   "source": [
    "All the countries in the development df are also in the validation one."
   ]
  },
  {
   "cell_type": "markdown",
   "id": "79f1c14d",
   "metadata": {},
   "source": [
    "### SN"
   ]
  },
  {
   "cell_type": "code",
   "execution_count": 89,
   "id": "b0e36cb9",
   "metadata": {},
   "outputs": [
    {
     "data": {
      "text/plain": [
       "0903XTR    12245\n",
       "Name: SN, dtype: int64"
      ]
     },
     "execution_count": 89,
     "metadata": {},
     "output_type": "execute_result"
    }
   ],
   "source": [
    "df_val['SN'].value_counts()"
   ]
  },
  {
   "cell_type": "markdown",
   "id": "22bb59a0",
   "metadata": {},
   "source": [
    "Same model of the development set."
   ]
  },
  {
   "cell_type": "markdown",
   "id": "e690211c",
   "metadata": {},
   "source": [
    "### YEAR"
   ]
  },
  {
   "cell_type": "code",
   "execution_count": 90,
   "id": "d33a3ef4",
   "metadata": {},
   "outputs": [
    {
     "data": {
      "text/plain": [
       "2018    2507\n",
       "2021    2486\n",
       "2022    2461\n",
       "2019    2398\n",
       "2020    2393\n",
       "Name: YEAR, dtype: int64"
      ]
     },
     "execution_count": 90,
     "metadata": {},
     "output_type": "execute_result"
    }
   ],
   "source": [
    "df_val['YEAR'].value_counts()"
   ]
  },
  {
   "cell_type": "markdown",
   "id": "61d76b5a",
   "metadata": {},
   "source": [
    "Same years and similar distribution"
   ]
  },
  {
   "cell_type": "markdown",
   "id": "ac777b23",
   "metadata": {},
   "source": [
    "### ID"
   ]
  },
  {
   "cell_type": "code",
   "execution_count": 116,
   "id": "df35eb48",
   "metadata": {},
   "outputs": [
    {
     "data": {
      "text/html": [
       "<div>\n",
       "<style scoped>\n",
       "    .dataframe tbody tr th:only-of-type {\n",
       "        vertical-align: middle;\n",
       "    }\n",
       "\n",
       "    .dataframe tbody tr th {\n",
       "        vertical-align: top;\n",
       "    }\n",
       "\n",
       "    .dataframe thead th {\n",
       "        text-align: right;\n",
       "    }\n",
       "</style>\n",
       "<table border=\"1\" class=\"dataframe\">\n",
       "  <thead>\n",
       "    <tr style=\"text-align: right;\">\n",
       "      <th></th>\n",
       "      <th>ID</th>\n",
       "      <th>YEAR</th>\n",
       "    </tr>\n",
       "  </thead>\n",
       "  <tbody>\n",
       "    <tr>\n",
       "      <th>ID</th>\n",
       "      <td>1.000000</td>\n",
       "      <td>0.005865</td>\n",
       "    </tr>\n",
       "    <tr>\n",
       "      <th>YEAR</th>\n",
       "      <td>0.005865</td>\n",
       "      <td>1.000000</td>\n",
       "    </tr>\n",
       "  </tbody>\n",
       "</table>\n",
       "</div>"
      ],
      "text/plain": [
       "            ID      YEAR\n",
       "ID    1.000000  0.005865\n",
       "YEAR  0.005865  1.000000"
      ]
     },
     "execution_count": 116,
     "metadata": {},
     "output_type": "execute_result"
    }
   ],
   "source": [
    "df_val.reset_index()[['ID','YEAR']].corr()"
   ]
  },
  {
   "cell_type": "markdown",
   "id": "91b6c51d",
   "metadata": {},
   "source": [
    "As in the developement dataset the ID is not correlated with the YEAR"
   ]
  },
  {
   "cell_type": "markdown",
   "id": "2b38fa8a",
   "metadata": {},
   "source": [
    "### Correlation among features"
   ]
  },
  {
   "cell_type": "code",
   "execution_count": 117,
   "id": "2aed339d",
   "metadata": {},
   "outputs": [
    {
     "data": {
      "text/plain": [
       "<AxesSubplot:>"
      ]
     },
     "execution_count": 117,
     "metadata": {},
     "output_type": "execute_result"
    },
    {
     "data": {
      "image/png": "[encoded data removed]",
      "text/plain": [
       "<Figure size 720x432 with 2 Axes>"
      ]
     },
     "metadata": {
      "needs_background": "light"
     },
     "output_type": "display_data"
    }
   ],
   "source": [
    "sns.heatmap(df_val.corr(), annot = True, fmt = '.2f') "
   ]
  },
  {
   "cell_type": "markdown",
   "id": "76b8d439",
   "metadata": {},
   "source": [
    "The same relationshiops that we have in the developement set."
   ]
  },
  {
   "cell_type": "markdown",
   "id": "d1cf5dd6",
   "metadata": {},
   "source": [
    "# Conclusion"
   ]
  },
  {
   "cell_type": "code",
   "execution_count": 118,
   "id": "e9bfc433",
   "metadata": {},
   "outputs": [],
   "source": [
    "#TODO descrivere feature per feature cosa si può assumere da questa prima analisi."
   ]
  }
 ],
 "metadata": {
  "kernelspec": {
   "display_name": "Python 3 (ipykernel)",
   "language": "python",
   "name": "python3"
  },
  "language_info": {
   "codemirror_mode": {
    "name": "ipython",
    "version": 3
   },
   "file_extension": ".py",
   "mimetype": "text/x-python",
   "name": "python",
   "nbconvert_exporter": "python",
   "pygments_lexer": "ipython3",
   "version": "3.8.10"
  }
 },
 "nbformat": 4,
 "nbformat_minor": 5
}
