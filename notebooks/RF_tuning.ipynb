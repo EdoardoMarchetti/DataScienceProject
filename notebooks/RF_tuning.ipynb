{
 "cells": [
  {
   "cell_type": "markdown",
   "metadata": {},
   "source": [
    "# Configuration"
   ]
  },
  {
   "cell_type": "code",
   "execution_count": 12,
   "metadata": {},
   "outputs": [
    {
     "name": "stdout",
     "output_type": "stream",
     "text": [
      "Collecting dask\n",
      "  Downloading dask-2022.9.0-py3-none-any.whl (1.1 MB)\n",
      "\u001b[K     |████████████████████████████████| 1.1 MB 3.7 MB/s eta 0:00:01\n",
      "\u001b[?25hCollecting cloudpickle>=1.1.1\n",
      "  Downloading cloudpickle-2.2.0-py3-none-any.whl (25 kB)\n",
      "Requirement already satisfied: packaging>=20.0 in /home/edoardo/Desktop/DSL_2021/dsl_venv/lib/python3.8/site-packages (from dask) (21.3)\n",
      "Collecting partd>=0.3.10\n",
      "  Downloading partd-1.3.0-py3-none-any.whl (18 kB)\n",
      "Collecting pyyaml>=5.3.1\n",
      "  Using cached PyYAML-6.0-cp38-cp38-manylinux_2_5_x86_64.manylinux1_x86_64.manylinux_2_12_x86_64.manylinux2010_x86_64.whl (701 kB)\n",
      "Collecting toolz>=0.8.2\n",
      "  Downloading toolz-0.12.0-py3-none-any.whl (55 kB)\n",
      "\u001b[K     |████████████████████████████████| 55 kB 6.7 MB/s  eta 0:00:01\n",
      "\u001b[?25hCollecting fsspec>=0.6.0\n",
      "  Downloading fsspec-2022.8.2-py3-none-any.whl (140 kB)\n",
      "\u001b[K     |████████████████████████████████| 140 kB 51.9 MB/s eta 0:00:01\n",
      "\u001b[?25hRequirement already satisfied: pyparsing!=3.0.5,>=2.0.2 in /home/edoardo/Desktop/DSL_2021/dsl_venv/lib/python3.8/site-packages (from packaging>=20.0->dask) (3.0.9)\n",
      "Collecting locket\n",
      "  Downloading locket-1.0.0-py2.py3-none-any.whl (4.4 kB)\n",
      "Installing collected packages: cloudpickle, locket, toolz, partd, pyyaml, fsspec, dask\n",
      "Successfully installed cloudpickle-2.2.0 dask-2022.9.0 fsspec-2022.8.2 locket-1.0.0 partd-1.3.0 pyyaml-6.0 toolz-0.12.0\n"
     ]
    }
   ],
   "source": [
    "!pip install dask"
   ]
  },
  {
   "cell_type": "code",
   "execution_count": 13,
   "metadata": {},
   "outputs": [],
   "source": [
    "import numpy as np\n",
    "import pandas as pd\n",
    "import matplotlib.pyplot as plt\n",
    "\n",
    "%matplotlib inline\n",
    "\n",
    "from sklearn.model_selection import train_test_split, validation_curve\n",
    "from sklearn.ensemble import RandomForestRegressor\n",
    "from sklearn.metrics import mean_squared_error as mse\n",
    "from sklearn.preprocessing import PolynomialFeatures\n",
    "\n",
    "from dask.diagnostics import ProgressBar\n",
    "\n",
    "%matplotlib inline\n",
    "\n",
    "plt.rcParams[\"figure.figsize\"] = (10, 6)"
   ]
  },
  {
   "cell_type": "markdown",
   "metadata": {},
   "source": [
    "# Importing Dataset"
   ]
  },
  {
   "cell_type": "code",
   "execution_count": 2,
   "metadata": {},
   "outputs": [
    {
     "data": {
      "text/plain": [
       "(36733, 39)"
      ]
     },
     "execution_count": 2,
     "metadata": {},
     "output_type": "execute_result"
    }
   ],
   "source": [
    "stand_df = pd.read_csv('processed_dataset/std_dataset.csv', index_col = 0)\n",
    "stand_df.shape"
   ]
  },
  {
   "cell_type": "code",
   "execution_count": 3,
   "metadata": {},
   "outputs": [],
   "source": [
    "countries = ['Austria', 'Belgium', 'Bulgaria', 'Croatia',\n",
    "       'Czech Republic', 'Denmark', 'Estonia', 'Finland', 'France', 'Germany',\n",
    "       'Greece', 'Hungary', 'Ireland', 'Italy', 'Latvia', 'Lithuania',\n",
    "       'Luxembourg', 'Malta', 'Netherlands', 'Poland', 'Portugal',\n",
    "       'Republic of Cyprus', 'Romania', 'Slovakia', 'Slovenia', 'Spain',\n",
    "       'Sweden']"
   ]
  },
  {
   "cell_type": "code",
   "execution_count": 4,
   "metadata": {},
   "outputs": [
    {
     "data": {
      "text/plain": [
       "(24488, 10)"
      ]
     },
     "execution_count": 4,
     "metadata": {},
     "output_type": "execute_result"
    }
   ],
   "source": [
    "dev_df = stand_df.loc[:24487]\n",
    "dev_df = dev_df.drop(columns = list(countries + ['TEY', 'CDP']))\n",
    "dev_df.shape"
   ]
  },
  {
   "cell_type": "code",
   "execution_count": 5,
   "metadata": {},
   "outputs": [
    {
     "data": {
      "text/plain": [
       "(21652, 10)"
      ]
     },
     "execution_count": 5,
     "metadata": {},
     "output_type": "execute_result"
    }
   ],
   "source": [
    "std_df = dev_df.loc[dev_df['CO'] < 4.5, :]\n",
    "std_df.shape"
   ]
  },
  {
   "cell_type": "code",
   "execution_count": 6,
   "metadata": {},
   "outputs": [
    {
     "data": {
      "text/plain": [
       "(2836, 10)"
      ]
     },
     "execution_count": 6,
     "metadata": {},
     "output_type": "execute_result"
    }
   ],
   "source": [
    "ext_df = dev_df.loc[dev_df['CO'] >= 4.5, :]\n",
    "ext_df.shape"
   ]
  },
  {
   "cell_type": "code",
   "execution_count": 7,
   "metadata": {},
   "outputs": [
    {
     "name": "stdout",
     "output_type": "stream",
     "text": [
      "{'n_estimators': [100, 200, 300, 400, 500, 600, 700, 800, 900, 1000], 'max_features': ['sqrt', 'log2', None], 'max_depth': [10, 20, 30, 40, 50, 60, 70, 80, 90, 100, 110, None], 'min_samples_split': [2, 4, 6], 'min_samples_leaf': [1, 2, 4], 'bootstrap': [True, False]}\n"
     ]
    }
   ],
   "source": [
    "from sklearn.model_selection import RandomizedSearchCV\n",
    "\n",
    "n_estimators = [int(x) for x in np.linspace(start = 100, stop = 1000, num = 10)]\n",
    "\n",
    "max_features = ['sqrt','log2', None]\n",
    "\n",
    "max_depth = [int(x) for x in np.linspace(10, 110, num = 11)]\n",
    "max_depth.append(None)\n",
    "\n",
    "min_samples_split = [2, 4, 6]\n",
    "\n",
    "min_samples_leaf = [1, 2, 4]\n",
    "\n",
    "bootstrap = [True, False]\n",
    "\n",
    "random_grid = {'n_estimators': n_estimators,\n",
    "               'max_features': max_features,\n",
    "               'max_depth': max_depth,\n",
    "               'min_samples_split': min_samples_split,\n",
    "               'min_samples_leaf': min_samples_leaf,\n",
    "               'bootstrap': bootstrap}\n",
    "\n",
    "print(random_grid)"
   ]
  },
  {
   "cell_type": "code",
   "execution_count": 8,
   "metadata": {},
   "outputs": [],
   "source": [
    "poly = PolynomialFeatures(degree = 3)"
   ]
  },
  {
   "cell_type": "markdown",
   "metadata": {},
   "source": [
    "### All Regressor"
   ]
  },
  {
   "cell_type": "code",
   "execution_count": 9,
   "metadata": {},
   "outputs": [],
   "source": [
    "X = dev_df.drop(columns='CO')\n",
    "y = dev_df['CO']\n",
    "\n",
    "X = poly.fit_transform(X)\n",
    "\n",
    "X_train, X_test, y_train, y_test = train_test_split(X, y, test_size = 0.25, random_state=42)"
   ]
  },
  {
   "cell_type": "code",
   "execution_count": 14,
   "metadata": {},
   "outputs": [
    {
     "name": "stdout",
     "output_type": "stream",
     "text": [
      "Fitting 3 folds for each of 100 candidates, totalling 300 fits\n",
      "[CV 2/3] END bootstrap=False, max_depth=30, max_features=log2, min_samples_leaf=2, min_samples_split=2, n_estimators=400;, score=0.698 total time= 1.7min\n",
      "[CV 1/3] END bootstrap=True, max_depth=80, max_features=None, min_samples_leaf=4, min_samples_split=2, n_estimators=200;, score=0.782 total time=13.2min\n",
      "[CV 1/3] END bootstrap=True, max_depth=None, max_features=sqrt, min_samples_leaf=2, min_samples_split=6, n_estimators=600;, score=0.804 total time= 2.9min\n",
      "[CV 1/3] END bootstrap=True, max_depth=60, max_features=sqrt, min_samples_leaf=1, min_samples_split=2, n_estimators=800;, score=0.804 total time= 4.5min\n",
      "[CV 2/3] END bootstrap=False, max_depth=20, max_features=None, min_samples_leaf=2, min_samples_split=2, n_estimators=100;, score=0.578 total time=10.3min\n",
      "[CV 2/3] END bootstrap=True, max_depth=40, max_features=None, min_samples_leaf=2, min_samples_split=6, n_estimators=800;, score=0.693 total time=48.5min\n",
      "[CV 1/3] END bootstrap=False, max_depth=40, max_features=sqrt, min_samples_leaf=1, min_samples_split=2, n_estimators=500;, score=0.810 total time= 3.9min\n"
     ]
    },
    {
     "name": "stderr",
     "output_type": "stream",
     "text": [
      "/home/edoardo/Desktop/DSL_2021/dsl_venv/lib/python3.8/site-packages/joblib/externals/loky/process_executor.py:702: UserWarning: A worker stopped while some jobs were given to the executor. This can be caused by a too short worker timeout or by a memory leak.\n",
      "  warnings.warn(\n"
     ]
    },
    {
     "name": "stdout",
     "output_type": "stream",
     "text": [
      "[CV 3/3] END bootstrap=False, max_depth=20, max_features=sqrt, min_samples_leaf=2, min_samples_split=4, n_estimators=900;, score=0.799 total time= 6.9min\n",
      "[CV 3/3] END bootstrap=True, max_depth=20, max_features=sqrt, min_samples_leaf=4, min_samples_split=6, n_estimators=200;, score=0.788 total time=  44.7s\n",
      "[CV 3/3] END bootstrap=False, max_depth=10, max_features=None, min_samples_leaf=1, min_samples_split=2, n_estimators=300;, score=0.660 total time=21.6min\n",
      "[CV 3/3] END bootstrap=True, max_depth=90, max_features=log2, min_samples_leaf=1, min_samples_split=2, n_estimators=1000;, score=0.792 total time= 2.5min\n",
      "[CV 3/3] END bootstrap=False, max_depth=20, max_features=None, min_samples_leaf=1, min_samples_split=2, n_estimators=400;, score=0.643 total time=40.9min\n",
      "[CV 3/3] END bootstrap=True, max_depth=40, max_features=log2, min_samples_leaf=2, min_samples_split=6, n_estimators=800;, score=0.787 total time= 1.7min\n",
      "[CV 3/3] END bootstrap=False, max_depth=80, max_features=None, min_samples_leaf=4, min_samples_split=6, n_estimators=500;, score=0.669 total time=48.2min\n",
      "[CV 3/3] END bootstrap=False, max_depth=80, max_features=None, min_samples_leaf=1, min_samples_split=6, n_estimators=600;, score=0.640 total time=70.4min\n",
      "[CV 3/3] END bootstrap=True, max_depth=50, max_features=None, min_samples_leaf=4, min_samples_split=4, n_estimators=600;, score=0.802 total time=39.9min\n",
      "[CV 3/3] END bootstrap=True, max_depth=20, max_features=None, min_samples_leaf=1, min_samples_split=4, n_estimators=1000;, score=0.791 total time=63.9min\n",
      "[CV 1/3] END bootstrap=False, max_depth=30, max_features=log2, min_samples_leaf=4, min_samples_split=2, n_estimators=900;, score=0.811 total time= 3.1min\n",
      "[CV 2/3] END bootstrap=False, max_depth=10, max_features=log2, min_samples_leaf=4, min_samples_split=6, n_estimators=400;, score=0.672 total time=  51.3s\n",
      "[CV 1/3] END bootstrap=True, max_depth=40, max_features=log2, min_samples_leaf=2, min_samples_split=2, n_estimators=300;, score=0.806 total time=  40.4s\n",
      "[CV 3/3] END bootstrap=True, max_depth=None, max_features=None, min_samples_leaf=1, min_samples_split=4, n_estimators=700;, score=0.791 total time=47.4min\n",
      "[CV 2/3] END bootstrap=False, max_depth=None, max_features=None, min_samples_leaf=2, min_samples_split=6, n_estimators=500;, score=0.576 total time=63.4min\n",
      "[CV 2/3] END bootstrap=False, max_depth=30, max_features=sqrt, min_samples_leaf=4, min_samples_split=4, n_estimators=900;, score=0.694 total time= 6.8min\n",
      "[CV 2/3] END bootstrap=True, max_depth=110, max_features=None, min_samples_leaf=2, min_samples_split=6, n_estimators=300;, score=0.696 total time=21.7min\n",
      "[CV 1/3] END bootstrap=False, max_depth=70, max_features=None, min_samples_leaf=1, min_samples_split=2, n_estimators=400;, score=0.580 total time=48.6min\n",
      "[CV 1/3] END bootstrap=False, max_depth=90, max_features=sqrt, min_samples_leaf=2, min_samples_split=6, n_estimators=200;, score=0.811 total time= 1.4min\n",
      "[CV 3/3] END bootstrap=False, max_depth=90, max_features=sqrt, min_samples_leaf=2, min_samples_split=6, n_estimators=200;, score=0.803 total time= 1.4min\n",
      "[CV 2/3] END bootstrap=False, max_depth=None, max_features=None, min_samples_leaf=1, min_samples_split=2, n_estimators=800;, score=0.558 total time=93.7min\n",
      "[CV 3/3] END bootstrap=False, max_depth=30, max_features=log2, min_samples_leaf=2, min_samples_split=2, n_estimators=400;, score=0.795 total time= 1.7min\n",
      "[CV 2/3] END bootstrap=True, max_depth=80, max_features=None, min_samples_leaf=4, min_samples_split=2, n_estimators=200;, score=0.704 total time=12.6min\n",
      "[CV 1/3] END bootstrap=False, max_depth=10, max_features=log2, min_samples_leaf=2, min_samples_split=2, n_estimators=200;, score=0.789 total time=  29.5s\n",
      "[CV 3/3] END bootstrap=False, max_depth=10, max_features=log2, min_samples_leaf=2, min_samples_split=2, n_estimators=200;, score=0.766 total time=  29.7s\n",
      "[CV 3/3] END bootstrap=True, max_depth=None, max_features=sqrt, min_samples_leaf=2, min_samples_split=6, n_estimators=600;, score=0.795 total time= 2.9min\n",
      "[CV 3/3] END bootstrap=True, max_depth=60, max_features=sqrt, min_samples_leaf=1, min_samples_split=2, n_estimators=800;, score=0.797 total time= 4.5min\n",
      "[CV 3/3] END bootstrap=False, max_depth=20, max_features=None, min_samples_leaf=2, min_samples_split=2, n_estimators=100;, score=0.656 total time=10.6min\n",
      "[CV 3/3] END bootstrap=True, max_depth=40, max_features=None, min_samples_leaf=2, min_samples_split=6, n_estimators=800;, score=0.792 total time=49.9min\n",
      "[CV 2/3] END bootstrap=False, max_depth=40, max_features=sqrt, min_samples_leaf=1, min_samples_split=2, n_estimators=500;, score=0.696 total time= 3.8min\n",
      "[CV 2/3] END bootstrap=True, max_depth=60, max_features=None, min_samples_leaf=4, min_samples_split=4, n_estimators=100;, score=0.706 total time= 5.5min\n",
      "[CV 2/3] END bootstrap=False, max_depth=10, max_features=None, min_samples_leaf=1, min_samples_split=4, n_estimators=500;, score=0.575 total time=30.9min\n",
      "[CV 2/3] END bootstrap=False, max_depth=80, max_features=None, min_samples_leaf=4, min_samples_split=4, n_estimators=500;, score=0.609 total time=48.0min\n",
      "[CV 1/3] END bootstrap=False, max_depth=110, max_features=sqrt, min_samples_leaf=2, min_samples_split=2, n_estimators=300;, score=0.814 total time= 2.3min\n",
      "[CV 3/3] END bootstrap=False, max_depth=110, max_features=sqrt, min_samples_leaf=2, min_samples_split=2, n_estimators=300;, score=0.801 total time= 2.3min\n",
      "[CV 3/3] END bootstrap=True, max_depth=100, max_features=sqrt, min_samples_leaf=1, min_samples_split=4, n_estimators=700;, score=0.796 total time= 3.4min\n",
      "[CV 3/3] END bootstrap=False, max_depth=80, max_features=log2, min_samples_leaf=2, min_samples_split=4, n_estimators=600;, score=0.794 total time= 2.5min\n",
      "[CV 3/3] END bootstrap=True, max_depth=80, max_features=log2, min_samples_leaf=2, min_samples_split=4, n_estimators=500;, score=0.786 total time= 1.4min\n",
      "[CV 3/3] END bootstrap=False, max_depth=30, max_features=log2, min_samples_leaf=4, min_samples_split=2, n_estimators=200;, score=0.789 total time=  50.1s\n",
      "[CV 3/3] END bootstrap=False, max_depth=40, max_features=log2, min_samples_leaf=2, min_samples_split=2, n_estimators=500;, score=0.794 total time= 2.7min\n",
      "[CV 3/3] END bootstrap=True, max_depth=50, max_features=sqrt, min_samples_leaf=4, min_samples_split=2, n_estimators=1000;, score=0.792 total time= 4.2min\n",
      "[CV 2/3] END bootstrap=True, max_depth=50, max_features=None, min_samples_leaf=4, min_samples_split=4, n_estimators=600;, score=0.702 total time=37.8min\n",
      "[CV 1/3] END bootstrap=True, max_depth=50, max_features=log2, min_samples_leaf=2, min_samples_split=6, n_estimators=200;, score=0.806 total time=  27.9s\n",
      "[CV 2/3] END bootstrap=True, max_depth=50, max_features=log2, min_samples_leaf=2, min_samples_split=6, n_estimators=200;, score=0.687 total time=  28.2s\n",
      "[CV 3/3] END bootstrap=True, max_depth=50, max_features=log2, min_samples_leaf=2, min_samples_split=6, n_estimators=200;, score=0.784 total time=  30.9s\n",
      "[CV 1/3] END bootstrap=True, max_depth=20, max_features=None, min_samples_leaf=1, min_samples_split=4, n_estimators=1000;, score=0.784 total time=65.0min\n",
      "[CV 2/3] END bootstrap=False, max_depth=100, max_features=sqrt, min_samples_leaf=4, min_samples_split=4, n_estimators=900;, score=0.695 total time= 5.8min\n",
      "[CV 2/3] END bootstrap=True, max_depth=40, max_features=log2, min_samples_leaf=2, min_samples_split=2, n_estimators=300;, score=0.687 total time=  39.6s\n",
      "[CV 1/3] END bootstrap=True, max_depth=100, max_features=sqrt, min_samples_leaf=1, min_samples_split=4, n_estimators=800;, score=0.806 total time= 3.6min\n",
      "[CV 2/3] END bootstrap=False, max_depth=90, max_features=None, min_samples_leaf=4, min_samples_split=2, n_estimators=200;, score=0.609 total time=18.9min\n",
      "[CV 1/3] END bootstrap=True, max_depth=70, max_features=log2, min_samples_leaf=2, min_samples_split=6, n_estimators=100;, score=0.801 total time=  12.9s\n",
      "[CV 2/3] END bootstrap=True, max_depth=70, max_features=log2, min_samples_leaf=2, min_samples_split=6, n_estimators=100;, score=0.688 total time=  12.7s\n",
      "[CV 1/3] END bootstrap=True, max_depth=20, max_features=sqrt, min_samples_leaf=4, min_samples_split=4, n_estimators=700;, score=0.801 total time= 2.5min\n",
      "[CV 1/3] END bootstrap=False, max_depth=70, max_features=log2, min_samples_leaf=2, min_samples_split=6, n_estimators=400;, score=0.816 total time= 1.5min\n",
      "[CV 1/3] END bootstrap=True, max_depth=60, max_features=None, min_samples_leaf=4, min_samples_split=4, n_estimators=900;, score=0.788 total time=58.1min\n",
      "[CV 2/3] END bootstrap=False, max_depth=60, max_features=log2, min_samples_leaf=2, min_samples_split=2, n_estimators=300;, score=0.692 total time= 2.0min\n",
      "[CV 2/3] END bootstrap=False, max_depth=10, max_features=log2, min_samples_leaf=1, min_samples_split=4, n_estimators=700;, score=0.672 total time= 2.6min\n",
      "[CV 2/3] END bootstrap=False, max_depth=60, max_features=None, min_samples_leaf=1, min_samples_split=6, n_estimators=100;, score=0.562 total time=13.6min\n",
      "[CV 2/3] END bootstrap=True, max_depth=70, max_features=log2, min_samples_leaf=1, min_samples_split=6, n_estimators=800;, score=0.688 total time= 2.2min\n",
      "[CV 2/3] END bootstrap=False, max_depth=20, max_features=sqrt, min_samples_leaf=4, min_samples_split=4, n_estimators=600;, score=0.692 total time= 4.4min\n",
      "[CV 3/3] END bootstrap=True, max_depth=20, max_features=None, min_samples_leaf=1, min_samples_split=6, n_estimators=700;, score=0.790 total time=48.8min\n",
      "[CV 3/3] END bootstrap=True, max_depth=10, max_features=None, min_samples_leaf=2, min_samples_split=6, n_estimators=1000;, score=0.779 total time=38.7min\n",
      "[CV 3/3] END bootstrap=False, max_depth=60, max_features=sqrt, min_samples_leaf=1, min_samples_split=4, n_estimators=300;, score=0.800 total time= 2.3min\n",
      "[CV 1/3] END bootstrap=False, max_depth=50, max_features=sqrt, min_samples_leaf=1, min_samples_split=2, n_estimators=400;, score=0.809 total time= 3.2min\n",
      "[CV 2/3] END bootstrap=True, max_depth=40, max_features=log2, min_samples_leaf=1, min_samples_split=6, n_estimators=700;, score=0.688 total time= 1.6min\n",
      "[CV 1/3] END bootstrap=False, max_depth=80, max_features=None, min_samples_leaf=4, min_samples_split=2, n_estimators=900;, score=0.623 total time=87.4min\n",
      "[CV 1/3] END bootstrap=False, max_depth=80, max_features=log2, min_samples_leaf=1, min_samples_split=6, n_estimators=500;, score=0.812 total time= 1.9min\n",
      "[CV 3/3] END bootstrap=False, max_depth=80, max_features=log2, min_samples_leaf=1, min_samples_split=6, n_estimators=500;, score=0.794 total time= 1.9min\n",
      "[CV 2/3] END bootstrap=False, max_depth=None, max_features=sqrt, min_samples_leaf=2, min_samples_split=2, n_estimators=500;, score=0.695 total time= 3.5min\n",
      "[CV 2/3] END bootstrap=True, max_depth=10, max_features=None, min_samples_leaf=2, min_samples_split=2, n_estimators=800;, score=0.684 total time=30.4min\n",
      "[CV 2/3] END bootstrap=True, max_depth=10, max_features=log2, min_samples_leaf=1, min_samples_split=2, n_estimators=700;, score=0.669 total time=  56.6s\n",
      "[CV 2/3] END bootstrap=False, max_depth=None, max_features=sqrt, min_samples_leaf=1, min_samples_split=2, n_estimators=500;, score=0.697 total time= 3.9min\n",
      "[CV 1/3] END bootstrap=True, max_depth=60, max_features=log2, min_samples_leaf=2, min_samples_split=4, n_estimators=800;, score=0.806 total time= 1.8min\n",
      "[CV 2/3] END bootstrap=True, max_depth=40, max_features=log2, min_samples_leaf=4, min_samples_split=6, n_estimators=300;, score=0.685 total time=  36.3s\n",
      "[CV 1/3] END bootstrap=True, max_depth=60, max_features=None, min_samples_leaf=4, min_samples_split=4, n_estimators=100;, score=0.784 total time= 5.8min\n",
      "[CV 1/3] END bootstrap=False, max_depth=40, max_features=log2, min_samples_leaf=2, min_samples_split=6, n_estimators=100;, score=0.812 total time=  21.9s\n",
      "[CV 2/3] END bootstrap=False, max_depth=40, max_features=log2, min_samples_leaf=2, min_samples_split=6, n_estimators=100;, score=0.691 total time=  21.2s\n",
      "[CV 3/3] END bootstrap=False, max_depth=40, max_features=log2, min_samples_leaf=2, min_samples_split=6, n_estimators=100;, score=0.794 total time=  21.7s\n",
      "[CV 1/3] END bootstrap=False, max_depth=10, max_features=None, min_samples_leaf=1, min_samples_split=4, n_estimators=500;, score=0.622 total time=31.2min\n",
      "[CV 1/3] END bootstrap=False, max_depth=80, max_features=None, min_samples_leaf=4, min_samples_split=4, n_estimators=500;, score=0.623 total time=49.5min\n",
      "[CV 2/3] END bootstrap=False, max_depth=110, max_features=sqrt, min_samples_leaf=2, min_samples_split=2, n_estimators=300;, score=0.695 total time= 2.3min\n",
      "[CV 2/3] END bootstrap=True, max_depth=100, max_features=sqrt, min_samples_leaf=1, min_samples_split=4, n_estimators=700;, score=0.691 total time= 3.4min\n",
      "[CV 3/3] END bootstrap=True, max_depth=80, max_features=log2, min_samples_leaf=1, min_samples_split=6, n_estimators=300;, score=0.793 total time=  44.4s\n",
      "[CV 2/3] END bootstrap=False, max_depth=80, max_features=log2, min_samples_leaf=2, min_samples_split=4, n_estimators=600;, score=0.694 total time= 2.5min\n",
      "[CV 2/3] END bootstrap=True, max_depth=80, max_features=log2, min_samples_leaf=2, min_samples_split=4, n_estimators=500;, score=0.689 total time= 1.4min\n",
      "[CV 2/3] END bootstrap=False, max_depth=30, max_features=log2, min_samples_leaf=4, min_samples_split=2, n_estimators=200;, score=0.691 total time=  49.2s\n",
      "[CV 2/3] END bootstrap=False, max_depth=40, max_features=log2, min_samples_leaf=2, min_samples_split=2, n_estimators=500;, score=0.695 total time= 2.6min\n",
      "[CV 2/3] END bootstrap=True, max_depth=50, max_features=sqrt, min_samples_leaf=4, min_samples_split=2, n_estimators=1000;, score=0.692 total time= 4.2min\n",
      "[CV 2/3] END bootstrap=False, max_depth=None, max_features=sqrt, min_samples_leaf=4, min_samples_split=4, n_estimators=600;, score=0.695 total time= 4.4min\n",
      "[CV 2/3] END bootstrap=True, max_depth=40, max_features=None, min_samples_leaf=2, min_samples_split=6, n_estimators=1000;, score=0.692 total time=67.8min\n",
      "[CV 1/3] END bootstrap=True, max_depth=60, max_features=None, min_samples_leaf=4, min_samples_split=6, n_estimators=300;, score=0.785 total time=17.6min\n",
      "[CV 1/3] END bootstrap=False, max_depth=90, max_features=log2, min_samples_leaf=4, min_samples_split=2, n_estimators=400;, score=0.812 total time= 1.4min\n",
      "[CV 2/3] END bootstrap=False, max_depth=90, max_features=log2, min_samples_leaf=4, min_samples_split=2, n_estimators=400;, score=0.689 total time= 1.5min\n",
      "[CV 2/3] END bootstrap=False, max_depth=20, max_features=None, min_samples_leaf=4, min_samples_split=6, n_estimators=100;, score=0.608 total time= 9.6min\n",
      "[CV 2/3] END bootstrap=False, max_depth=10, max_features=sqrt, min_samples_leaf=4, min_samples_split=4, n_estimators=1000;, score=0.678 total time= 4.2min\n",
      "[CV 2/3] END bootstrap=False, max_depth=30, max_features=log2, min_samples_leaf=4, min_samples_split=2, n_estimators=900;, score=0.690 total time= 3.1min\n",
      "[CV 3/3] END bootstrap=False, max_depth=10, max_features=log2, min_samples_leaf=4, min_samples_split=6, n_estimators=400;, score=0.767 total time=  51.1s\n",
      "[CV 1/3] END bootstrap=True, max_depth=None, max_features=None, min_samples_leaf=1, min_samples_split=4, n_estimators=700;, score=0.786 total time=48.0min\n",
      "[CV 3/3] END bootstrap=False, max_depth=None, max_features=None, min_samples_leaf=2, min_samples_split=6, n_estimators=500;, score=0.654 total time=68.3min\n",
      "[CV 3/3] END bootstrap=False, max_depth=30, max_features=sqrt, min_samples_leaf=4, min_samples_split=4, n_estimators=900;, score=0.800 total time= 7.1min\n",
      "[CV 3/3] END bootstrap=True, max_depth=110, max_features=None, min_samples_leaf=2, min_samples_split=6, n_estimators=300;, score=0.792 total time=23.1min\n",
      "[CV 3/3] END bootstrap=False, max_depth=70, max_features=None, min_samples_leaf=1, min_samples_split=2, n_estimators=400;, score=0.631 total time=48.2min\n",
      "[CV 3/3] END bootstrap=False, max_depth=None, max_features=None, min_samples_leaf=1, min_samples_split=2, n_estimators=800;, score=0.635 total time=95.3min\n",
      "[CV 3/3] END bootstrap=True, max_depth=100, max_features=None, min_samples_leaf=2, min_samples_split=2, n_estimators=100;, score=0.791 total time= 6.4min\n",
      "[CV 3/3] END bootstrap=False, max_depth=None, max_features=sqrt, min_samples_leaf=2, min_samples_split=2, n_estimators=500;, score=0.802 total time= 3.6min\n",
      "[CV 3/3] END bootstrap=True, max_depth=10, max_features=None, min_samples_leaf=2, min_samples_split=2, n_estimators=800;, score=0.779 total time=31.1min\n",
      "[CV 1/3] END bootstrap=False, max_depth=None, max_features=sqrt, min_samples_leaf=1, min_samples_split=2, n_estimators=500;, score=0.810 total time= 4.0min\n",
      "[CV 2/3] END bootstrap=True, max_depth=60, max_features=log2, min_samples_leaf=2, min_samples_split=4, n_estimators=800;, score=0.687 total time= 1.8min\n",
      "[CV 1/3] END bootstrap=True, max_depth=40, max_features=log2, min_samples_leaf=4, min_samples_split=6, n_estimators=300;, score=0.801 total time=  36.5s\n",
      "[CV 1/3] END bootstrap=True, max_depth=60, max_features=sqrt, min_samples_leaf=1, min_samples_split=6, n_estimators=600;, score=0.801 total time= 2.7min\n",
      "[CV 2/3] END bootstrap=False, max_depth=None, max_features=sqrt, min_samples_leaf=1, min_samples_split=4, n_estimators=500;, score=0.694 total time= 3.7min\n",
      "[CV 2/3] END bootstrap=True, max_depth=60, max_features=sqrt, min_samples_leaf=1, min_samples_split=6, n_estimators=600;, score=0.689 total time= 2.6min\n",
      "[CV 1/3] END bootstrap=False, max_depth=None, max_features=sqrt, min_samples_leaf=1, min_samples_split=4, n_estimators=500;, score=0.808 total time= 3.9min\n",
      "[CV 1/3] END bootstrap=False, max_depth=30, max_features=log2, min_samples_leaf=2, min_samples_split=2, n_estimators=400;, score=0.815 total time= 1.7min\n",
      "[CV 3/3] END bootstrap=True, max_depth=80, max_features=None, min_samples_leaf=4, min_samples_split=2, n_estimators=200;, score=0.799 total time=12.8min\n",
      "[CV 2/3] END bootstrap=False, max_depth=10, max_features=log2, min_samples_leaf=2, min_samples_split=2, n_estimators=200;, score=0.674 total time=  29.6s\n",
      "[CV 2/3] END bootstrap=True, max_depth=None, max_features=sqrt, min_samples_leaf=2, min_samples_split=6, n_estimators=600;, score=0.691 total time= 2.8min\n",
      "[CV 2/3] END bootstrap=True, max_depth=60, max_features=sqrt, min_samples_leaf=1, min_samples_split=2, n_estimators=800;, score=0.694 total time= 4.4min\n",
      "[CV 1/3] END bootstrap=False, max_depth=20, max_features=None, min_samples_leaf=2, min_samples_split=2, n_estimators=100;, score=0.596 total time=10.4min\n",
      "[CV 1/3] END bootstrap=True, max_depth=40, max_features=None, min_samples_leaf=2, min_samples_split=6, n_estimators=800;, score=0.786 total time=50.6min\n",
      "[CV 3/3] END bootstrap=False, max_depth=40, max_features=sqrt, min_samples_leaf=1, min_samples_split=2, n_estimators=500;, score=0.795 total time= 3.9min\n",
      "[CV 3/3] END bootstrap=True, max_depth=60, max_features=None, min_samples_leaf=4, min_samples_split=4, n_estimators=100;, score=0.802 total time= 5.6min\n",
      "[CV 3/3] END bootstrap=False, max_depth=10, max_features=None, min_samples_leaf=1, min_samples_split=4, n_estimators=500;, score=0.663 total time=31.8min\n",
      "[CV 3/3] END bootstrap=False, max_depth=80, max_features=None, min_samples_leaf=4, min_samples_split=4, n_estimators=500;, score=0.670 total time=49.3min\n",
      "[CV 1/3] END bootstrap=True, max_depth=100, max_features=sqrt, min_samples_leaf=1, min_samples_split=4, n_estimators=700;, score=0.803 total time= 3.5min\n",
      "[CV 1/3] END bootstrap=True, max_depth=80, max_features=log2, min_samples_leaf=1, min_samples_split=6, n_estimators=300;, score=0.804 total time=  44.5s\n",
      "[CV 2/3] END bootstrap=True, max_depth=80, max_features=log2, min_samples_leaf=1, min_samples_split=6, n_estimators=300;, score=0.688 total time=  42.6s\n",
      "[CV 1/3] END bootstrap=False, max_depth=80, max_features=log2, min_samples_leaf=2, min_samples_split=4, n_estimators=600;, score=0.816 total time= 2.4min\n",
      "[CV 1/3] END bootstrap=True, max_depth=80, max_features=log2, min_samples_leaf=2, min_samples_split=4, n_estimators=500;, score=0.808 total time= 1.4min\n",
      "[CV 1/3] END bootstrap=False, max_depth=30, max_features=log2, min_samples_leaf=4, min_samples_split=2, n_estimators=200;, score=0.811 total time=  49.4s\n",
      "[CV 1/3] END bootstrap=False, max_depth=40, max_features=log2, min_samples_leaf=2, min_samples_split=2, n_estimators=500;, score=0.815 total time= 2.6min\n",
      "[CV 1/3] END bootstrap=True, max_depth=50, max_features=sqrt, min_samples_leaf=4, min_samples_split=2, n_estimators=1000;, score=0.802 total time= 4.4min\n",
      "[CV 3/3] END bootstrap=False, max_depth=70, max_features=log2, min_samples_leaf=1, min_samples_split=6, n_estimators=100;, score=0.787 total time=  24.9s\n",
      "[CV 1/3] END bootstrap=True, max_depth=50, max_features=None, min_samples_leaf=4, min_samples_split=4, n_estimators=600;, score=0.785 total time=39.4min\n",
      "[CV 2/3] END bootstrap=True, max_depth=20, max_features=None, min_samples_leaf=1, min_samples_split=4, n_estimators=1000;, score=0.695 total time=62.8min\n",
      "[CV 3/3] END bootstrap=False, max_depth=10, max_features=sqrt, min_samples_leaf=4, min_samples_split=4, n_estimators=1000;, score=0.780 total time= 4.2min\n",
      "[CV 3/3] END bootstrap=False, max_depth=30, max_features=log2, min_samples_leaf=4, min_samples_split=2, n_estimators=900;, score=0.791 total time= 3.2min\n",
      "[CV 2/3] END bootstrap=True, max_depth=10, max_features=sqrt, min_samples_leaf=2, min_samples_split=2, n_estimators=200;, score=0.674 total time=  30.9s\n",
      "[CV 3/3] END bootstrap=True, max_depth=40, max_features=log2, min_samples_leaf=2, min_samples_split=2, n_estimators=300;, score=0.790 total time=  39.8s\n",
      "[CV 2/3] END bootstrap=True, max_depth=100, max_features=sqrt, min_samples_leaf=1, min_samples_split=4, n_estimators=800;, score=0.692 total time= 3.5min\n",
      "[CV 1/3] END bootstrap=False, max_depth=90, max_features=None, min_samples_leaf=4, min_samples_split=2, n_estimators=200;, score=0.623 total time=19.2min\n",
      "[CV 3/3] END bootstrap=True, max_depth=70, max_features=log2, min_samples_leaf=2, min_samples_split=6, n_estimators=100;, score=0.789 total time=  13.3s\n",
      "[CV 2/3] END bootstrap=True, max_depth=20, max_features=sqrt, min_samples_leaf=4, min_samples_split=4, n_estimators=700;, score=0.691 total time= 2.5min\n",
      "[CV 2/3] END bootstrap=False, max_depth=70, max_features=log2, min_samples_leaf=2, min_samples_split=6, n_estimators=400;, score=0.693 total time= 1.5min\n",
      "[CV 2/3] END bootstrap=True, max_depth=60, max_features=None, min_samples_leaf=4, min_samples_split=4, n_estimators=900;, score=0.704 total time=53.9min\n",
      "[CV 1/3] END bootstrap=True, max_depth=10, max_features=log2, min_samples_leaf=2, min_samples_split=4, n_estimators=300;, score=0.778 total time=  50.6s\n",
      "[CV 2/3] END bootstrap=True, max_depth=10, max_features=log2, min_samples_leaf=2, min_samples_split=4, n_estimators=300;, score=0.671 total time=  50.0s\n",
      "[CV 3/3] END bootstrap=True, max_depth=10, max_features=log2, min_samples_leaf=2, min_samples_split=4, n_estimators=300;, score=0.765 total time=  52.3s\n",
      "[CV 1/3] END bootstrap=False, max_depth=60, max_features=log2, min_samples_leaf=2, min_samples_split=2, n_estimators=300;, score=0.813 total time= 2.2min\n",
      "[CV 3/3] END bootstrap=False, max_depth=60, max_features=log2, min_samples_leaf=2, min_samples_split=2, n_estimators=300;, score=0.794 total time= 2.0min\n",
      "[CV 3/3] END bootstrap=False, max_depth=10, max_features=log2, min_samples_leaf=1, min_samples_split=4, n_estimators=700;, score=0.769 total time= 2.4min\n",
      "[CV 3/3] END bootstrap=False, max_depth=60, max_features=None, min_samples_leaf=1, min_samples_split=6, n_estimators=100;, score=0.634 total time=13.7min\n",
      "[CV 3/3] END bootstrap=True, max_depth=70, max_features=log2, min_samples_leaf=1, min_samples_split=6, n_estimators=800;, score=0.790 total time= 2.3min\n",
      "[CV 3/3] END bootstrap=False, max_depth=20, max_features=sqrt, min_samples_leaf=4, min_samples_split=4, n_estimators=600;, score=0.800 total time= 4.5min\n",
      "[CV 1/3] END bootstrap=False, max_depth=30, max_features=sqrt, min_samples_leaf=4, min_samples_split=4, n_estimators=900;, score=0.810 total time= 7.0min\n",
      "[CV 1/3] END bootstrap=True, max_depth=110, max_features=None, min_samples_leaf=2, min_samples_split=6, n_estimators=300;, score=0.786 total time=22.8min\n",
      "[CV 2/3] END bootstrap=False, max_depth=70, max_features=None, min_samples_leaf=1, min_samples_split=2, n_estimators=400;, score=0.557 total time=48.5min\n",
      "[CV 2/3] END bootstrap=False, max_depth=90, max_features=sqrt, min_samples_leaf=2, min_samples_split=6, n_estimators=200;, score=0.693 total time= 1.4min\n",
      "[CV 1/3] END bootstrap=False, max_depth=None, max_features=None, min_samples_leaf=1, min_samples_split=2, n_estimators=800;, score=0.581 total time=93.4min\n",
      "[CV 1/3] END bootstrap=True, max_depth=100, max_features=None, min_samples_leaf=2, min_samples_split=2, n_estimators=100;, score=0.786 total time= 6.5min\n",
      "[CV 1/3] END bootstrap=False, max_depth=70, max_features=None, min_samples_leaf=1, min_samples_split=4, n_estimators=100;, score=0.580 total time=11.3min\n",
      "[CV 1/3] END bootstrap=True, max_depth=90, max_features=log2, min_samples_leaf=4, min_samples_split=4, n_estimators=400;, score=0.798 total time=  49.0s\n",
      "[CV 3/3] END bootstrap=True, max_depth=90, max_features=log2, min_samples_leaf=4, min_samples_split=4, n_estimators=400;, score=0.781 total time=  48.8s\n",
      "[CV 3/3] END bootstrap=False, max_depth=None, max_features=log2, min_samples_leaf=2, min_samples_split=2, n_estimators=700;, score=0.794 total time= 2.6min\n",
      "[CV 3/3] END bootstrap=True, max_depth=30, max_features=None, min_samples_leaf=2, min_samples_split=2, n_estimators=700;, score=0.796 total time=44.8min\n",
      "[CV 1/3] END bootstrap=False, max_depth=90, max_features=log2, min_samples_leaf=2, min_samples_split=6, n_estimators=600;, score=0.812 total time= 2.2min\n",
      "[CV 2/3] END bootstrap=True, max_depth=110, max_features=log2, min_samples_leaf=1, min_samples_split=2, n_estimators=600;, score=0.689 total time= 1.5min\n",
      "[CV 2/3] END bootstrap=False, max_depth=10, max_features=sqrt, min_samples_leaf=2, min_samples_split=2, n_estimators=800;, score=0.677 total time= 3.3min\n",
      "[CV 2/3] END bootstrap=False, max_depth=70, max_features=sqrt, min_samples_leaf=1, min_samples_split=6, n_estimators=400;, score=0.692 total time= 2.9min\n",
      "[CV 2/3] END bootstrap=False, max_depth=90, max_features=log2, min_samples_leaf=2, min_samples_split=6, n_estimators=600;, score=0.693 total time= 2.2min\n",
      "[CV 1/3] END bootstrap=True, max_depth=110, max_features=None, min_samples_leaf=1, min_samples_split=2, n_estimators=400;, score=0.785 total time=28.3min\n",
      "[CV 2/3] END bootstrap=False, max_depth=30, max_features=None, min_samples_leaf=4, min_samples_split=6, n_estimators=200;, score=0.609 total time=19.1min\n",
      "[CV 2/3] END bootstrap=False, max_depth=70, max_features=log2, min_samples_leaf=2, min_samples_split=2, n_estimators=500;, score=0.694 total time= 1.8min\n",
      "[CV 2/3] END bootstrap=True, max_depth=None, max_features=sqrt, min_samples_leaf=4, min_samples_split=4, n_estimators=600;, score=0.690 total time= 2.3min\n",
      "[CV 2/3] END bootstrap=True, max_depth=60, max_features=log2, min_samples_leaf=4, min_samples_split=2, n_estimators=1000;, score=0.685 total time= 2.0min\n",
      "[CV 2/3] END bootstrap=False, max_depth=110, max_features=sqrt, min_samples_leaf=1, min_samples_split=4, n_estimators=200;, score=0.694 total time= 1.5min\n",
      "[CV 2/3] END bootstrap=True, max_depth=10, max_features=None, min_samples_leaf=1, min_samples_split=4, n_estimators=900;, score=0.682 total time=34.9min\n",
      "[CV 1/3] END bootstrap=True, max_depth=110, max_features=log2, min_samples_leaf=1, min_samples_split=2, n_estimators=600;, score=0.809 total time= 1.5min\n",
      "[CV 1/3] END bootstrap=False, max_depth=10, max_features=sqrt, min_samples_leaf=2, min_samples_split=2, n_estimators=800;, score=0.790 total time= 3.4min\n",
      "[CV 1/3] END bootstrap=False, max_depth=70, max_features=sqrt, min_samples_leaf=1, min_samples_split=6, n_estimators=400;, score=0.806 total time= 3.0min\n",
      "[CV 3/3] END bootstrap=False, max_depth=90, max_features=log2, min_samples_leaf=2, min_samples_split=6, n_estimators=600;, score=0.794 total time= 2.2min\n",
      "[CV 2/3] END bootstrap=True, max_depth=110, max_features=None, min_samples_leaf=1, min_samples_split=2, n_estimators=400;, score=0.698 total time=26.8min\n",
      "[CV 1/3] END bootstrap=False, max_depth=30, max_features=None, min_samples_leaf=4, min_samples_split=6, n_estimators=200;, score=0.623 total time=19.5min\n",
      "[CV 1/3] END bootstrap=False, max_depth=70, max_features=log2, min_samples_leaf=2, min_samples_split=2, n_estimators=500;, score=0.816 total time= 1.9min\n",
      "[CV 1/3] END bootstrap=True, max_depth=None, max_features=sqrt, min_samples_leaf=4, min_samples_split=4, n_estimators=600;, score=0.803 total time= 2.3min\n",
      "[CV 1/3] END bootstrap=True, max_depth=60, max_features=log2, min_samples_leaf=4, min_samples_split=2, n_estimators=1000;, score=0.801 total time= 2.0min\n",
      "[CV 1/3] END bootstrap=False, max_depth=110, max_features=sqrt, min_samples_leaf=1, min_samples_split=4, n_estimators=200;, score=0.807 total time= 1.5min\n",
      "[CV 1/3] END bootstrap=True, max_depth=10, max_features=None, min_samples_leaf=1, min_samples_split=4, n_estimators=900;, score=0.768 total time=35.8min\n",
      "[CV 2/3] END bootstrap=False, max_depth=20, max_features=sqrt, min_samples_leaf=2, min_samples_split=4, n_estimators=900;, score=0.694 total time= 6.7min\n",
      "[CV 1/3] END bootstrap=True, max_depth=20, max_features=sqrt, min_samples_leaf=4, min_samples_split=6, n_estimators=200;, score=0.798 total time=  44.7s\n",
      "[CV 1/3] END bootstrap=False, max_depth=10, max_features=None, min_samples_leaf=1, min_samples_split=2, n_estimators=300;, score=0.622 total time=21.3min\n",
      "[CV 1/3] END bootstrap=True, max_depth=90, max_features=log2, min_samples_leaf=1, min_samples_split=2, n_estimators=1000;, score=0.806 total time= 2.5min\n",
      "[CV 1/3] END bootstrap=False, max_depth=20, max_features=None, min_samples_leaf=1, min_samples_split=2, n_estimators=400;, score=0.587 total time=39.9min\n",
      "[CV 2/3] END bootstrap=True, max_depth=20, max_features=log2, min_samples_leaf=1, min_samples_split=6, n_estimators=200;, score=0.684 total time=  24.6s\n",
      "[CV 1/3] END bootstrap=True, max_depth=40, max_features=log2, min_samples_leaf=2, min_samples_split=6, n_estimators=800;, score=0.803 total time= 1.8min\n",
      "[CV 1/3] END bootstrap=False, max_depth=80, max_features=None, min_samples_leaf=4, min_samples_split=6, n_estimators=500;, score=0.623 total time=47.9min\n",
      "[CV 2/3] END bootstrap=False, max_depth=80, max_features=None, min_samples_leaf=1, min_samples_split=6, n_estimators=600;, score=0.562 total time=69.2min\n",
      "[CV 1/3] END bootstrap=False, max_depth=None, max_features=sqrt, min_samples_leaf=4, min_samples_split=4, n_estimators=600;, score=0.810 total time= 4.4min\n",
      "[CV 1/3] END bootstrap=True, max_depth=40, max_features=None, min_samples_leaf=2, min_samples_split=6, n_estimators=1000;, score=0.789 total time=70.9min\n",
      "[CV 3/3] END bootstrap=True, max_depth=60, max_features=None, min_samples_leaf=4, min_samples_split=6, n_estimators=300;, score=0.799 total time=17.3min\n",
      "[CV 1/3] END bootstrap=False, max_depth=20, max_features=None, min_samples_leaf=4, min_samples_split=6, n_estimators=100;, score=0.626 total time= 9.6min\n",
      "[CV 1/3] END bootstrap=False, max_depth=10, max_features=sqrt, min_samples_leaf=4, min_samples_split=4, n_estimators=1000;, score=0.790 total time= 4.1min\n",
      "[CV 3/3] END bootstrap=False, max_depth=100, max_features=sqrt, min_samples_leaf=4, min_samples_split=4, n_estimators=900;, score=0.801 total time= 5.9min\n",
      "[CV 3/3] END bootstrap=True, max_depth=100, max_features=sqrt, min_samples_leaf=1, min_samples_split=4, n_estimators=800;, score=0.795 total time= 3.6min\n",
      "[CV 3/3] END bootstrap=False, max_depth=90, max_features=None, min_samples_leaf=4, min_samples_split=2, n_estimators=200;, score=0.670 total time=19.4min\n",
      "[CV 3/3] END bootstrap=True, max_depth=20, max_features=sqrt, min_samples_leaf=4, min_samples_split=4, n_estimators=700;, score=0.791 total time= 2.6min\n",
      "[CV 3/3] END bootstrap=False, max_depth=70, max_features=log2, min_samples_leaf=2, min_samples_split=6, n_estimators=400;, score=0.794 total time= 1.5min\n",
      "[CV 3/3] END bootstrap=True, max_depth=60, max_features=None, min_samples_leaf=4, min_samples_split=4, n_estimators=900;, score=0.800 total time=58.1min\n",
      "[CV 1/3] END bootstrap=False, max_depth=10, max_features=log2, min_samples_leaf=1, min_samples_split=4, n_estimators=700;, score=0.784 total time= 2.6min\n",
      "[CV 1/3] END bootstrap=False, max_depth=60, max_features=None, min_samples_leaf=1, min_samples_split=6, n_estimators=100;, score=0.567 total time=13.6min\n",
      "[CV 1/3] END bootstrap=True, max_depth=70, max_features=log2, min_samples_leaf=1, min_samples_split=6, n_estimators=800;, score=0.804 total time= 2.2min\n",
      "[CV 1/3] END bootstrap=False, max_depth=20, max_features=sqrt, min_samples_leaf=4, min_samples_split=4, n_estimators=600;, score=0.808 total time= 4.5min\n",
      "[CV 2/3] END bootstrap=True, max_depth=20, max_features=None, min_samples_leaf=1, min_samples_split=6, n_estimators=700;, score=0.693 total time=47.6min\n",
      "[CV 1/3] END bootstrap=True, max_depth=30, max_features=sqrt, min_samples_leaf=1, min_samples_split=6, n_estimators=200;, score=0.802 total time=  52.2s\n",
      "[CV 3/3] END bootstrap=True, max_depth=30, max_features=sqrt, min_samples_leaf=1, min_samples_split=6, n_estimators=200;, score=0.796 total time=  52.4s\n",
      "[CV 2/3] END bootstrap=True, max_depth=10, max_features=None, min_samples_leaf=2, min_samples_split=6, n_estimators=1000;, score=0.682 total time=38.1min\n",
      "[CV 1/3] END bootstrap=False, max_depth=60, max_features=sqrt, min_samples_leaf=1, min_samples_split=4, n_estimators=300;, score=0.808 total time= 2.3min\n",
      "[CV 1/3] END bootstrap=False, max_depth=10, max_features=sqrt, min_samples_leaf=1, min_samples_split=2, n_estimators=100;, score=0.782 total time=  25.1s\n",
      "[CV 2/3] END bootstrap=False, max_depth=10, max_features=sqrt, min_samples_leaf=1, min_samples_split=2, n_estimators=100;, score=0.676 total time=  24.6s\n",
      "[CV 2/3] END bootstrap=False, max_depth=50, max_features=sqrt, min_samples_leaf=1, min_samples_split=2, n_estimators=400;, score=0.695 total time= 3.0min\n",
      "[CV 1/3] END bootstrap=True, max_depth=40, max_features=log2, min_samples_leaf=1, min_samples_split=6, n_estimators=700;, score=0.803 total time= 1.6min\n",
      "[CV 2/3] END bootstrap=False, max_depth=80, max_features=None, min_samples_leaf=4, min_samples_split=2, n_estimators=900;, score=0.608 total time=86.6min\n",
      "[CV 3/3] END bootstrap=False, max_depth=70, max_features=None, min_samples_leaf=1, min_samples_split=4, n_estimators=100;, score=0.631 total time=11.5min\n",
      "[CV 1/3] END bootstrap=False, max_depth=None, max_features=log2, min_samples_leaf=2, min_samples_split=2, n_estimators=700;, score=0.813 total time= 2.7min\n",
      "[CV 1/3] END bootstrap=True, max_depth=30, max_features=None, min_samples_leaf=2, min_samples_split=2, n_estimators=700;, score=0.790 total time=45.1min\n",
      "[CV 3/3] END bootstrap=False, max_depth=50, max_features=log2, min_samples_leaf=2, min_samples_split=4, n_estimators=400;, score=0.794 total time= 1.5min\n",
      "[CV 3/3] END bootstrap=True, max_depth=100, max_features=sqrt, min_samples_leaf=1, min_samples_split=6, n_estimators=400;, score=0.795 total time= 1.8min\n",
      "[CV 3/3] END bootstrap=True, max_depth=110, max_features=None, min_samples_leaf=1, min_samples_split=2, n_estimators=400;, score=0.789 total time=28.1min\n",
      "[CV 3/3] END bootstrap=False, max_depth=30, max_features=None, min_samples_leaf=4, min_samples_split=6, n_estimators=200;, score=0.670 total time=19.4min\n",
      "[CV 3/3] END bootstrap=False, max_depth=70, max_features=log2, min_samples_leaf=2, min_samples_split=2, n_estimators=500;, score=0.791 total time= 1.9min\n",
      "[CV 3/3] END bootstrap=True, max_depth=None, max_features=sqrt, min_samples_leaf=4, min_samples_split=4, n_estimators=600;, score=0.792 total time= 2.3min\n",
      "[CV 3/3] END bootstrap=True, max_depth=60, max_features=log2, min_samples_leaf=4, min_samples_split=2, n_estimators=1000;, score=0.782 total time= 2.0min\n",
      "[CV 3/3] END bootstrap=False, max_depth=110, max_features=sqrt, min_samples_leaf=1, min_samples_split=4, n_estimators=200;, score=0.798 total time= 1.5min\n",
      "[CV 3/3] END bootstrap=True, max_depth=10, max_features=None, min_samples_leaf=1, min_samples_split=4, n_estimators=900;, score=0.773 total time=35.4min\n",
      "[CV 2/3] END bootstrap=True, max_depth=100, max_features=None, min_samples_leaf=2, min_samples_split=2, n_estimators=100;, score=0.695 total time= 6.2min\n",
      "[CV 2/3] END bootstrap=False, max_depth=70, max_features=None, min_samples_leaf=1, min_samples_split=4, n_estimators=100;, score=0.558 total time=11.3min\n",
      "[CV 2/3] END bootstrap=True, max_depth=90, max_features=log2, min_samples_leaf=4, min_samples_split=4, n_estimators=400;, score=0.684 total time=  48.8s\n",
      "[CV 2/3] END bootstrap=False, max_depth=None, max_features=log2, min_samples_leaf=2, min_samples_split=2, n_estimators=700;, score=0.695 total time= 2.6min\n",
      "[CV 2/3] END bootstrap=True, max_depth=30, max_features=None, min_samples_leaf=2, min_samples_split=2, n_estimators=700;, score=0.694 total time=43.0min\n",
      "[CV 1/3] END bootstrap=False, max_depth=50, max_features=log2, min_samples_leaf=2, min_samples_split=4, n_estimators=400;, score=0.814 total time= 1.5min\n",
      "[CV 2/3] END bootstrap=False, max_depth=50, max_features=log2, min_samples_leaf=2, min_samples_split=4, n_estimators=400;, score=0.696 total time= 1.5min\n",
      "[CV 2/3] END bootstrap=True, max_depth=100, max_features=sqrt, min_samples_leaf=1, min_samples_split=6, n_estimators=400;, score=0.693 total time= 1.7min\n",
      "[CV 3/3] END bootstrap=True, max_depth=60, max_features=None, min_samples_leaf=4, min_samples_split=6, n_estimators=800;, score=0.800 total time=46.2min\n",
      "[CV 3/3] END bootstrap=True, max_depth=50, max_features=None, min_samples_leaf=4, min_samples_split=2, n_estimators=900;, score=0.799 total time=51.8min\n",
      "[CV 1/3] END bootstrap=True, max_depth=60, max_features=None, min_samples_leaf=4, min_samples_split=6, n_estimators=800;, score=0.785 total time=46.5min\n",
      "[CV 2/3] END bootstrap=True, max_depth=50, max_features=None, min_samples_leaf=4, min_samples_split=2, n_estimators=900;, score=0.703 total time=50.3min\n",
      "[CV 1/3] END bootstrap=False, max_depth=20, max_features=sqrt, min_samples_leaf=2, min_samples_split=4, n_estimators=900;, score=0.811 total time= 6.9min\n",
      "[CV 2/3] END bootstrap=True, max_depth=20, max_features=sqrt, min_samples_leaf=4, min_samples_split=6, n_estimators=200;, score=0.687 total time=  44.7s\n",
      "[CV 2/3] END bootstrap=False, max_depth=10, max_features=None, min_samples_leaf=1, min_samples_split=2, n_estimators=300;, score=0.577 total time=21.2min\n",
      "[CV 2/3] END bootstrap=True, max_depth=90, max_features=log2, min_samples_leaf=1, min_samples_split=2, n_estimators=1000;, score=0.692 total time= 2.5min\n",
      "[CV 2/3] END bootstrap=False, max_depth=20, max_features=None, min_samples_leaf=1, min_samples_split=2, n_estimators=400;, score=0.563 total time=39.7min\n",
      "[CV 1/3] END bootstrap=True, max_depth=20, max_features=log2, min_samples_leaf=1, min_samples_split=6, n_estimators=200;, score=0.803 total time=  25.0s\n",
      "[CV 3/3] END bootstrap=True, max_depth=20, max_features=log2, min_samples_leaf=1, min_samples_split=6, n_estimators=200;, score=0.788 total time=  24.3s\n",
      "[CV 2/3] END bootstrap=True, max_depth=40, max_features=log2, min_samples_leaf=2, min_samples_split=6, n_estimators=800;, score=0.687 total time= 1.7min\n",
      "[CV 2/3] END bootstrap=False, max_depth=80, max_features=None, min_samples_leaf=4, min_samples_split=6, n_estimators=500;, score=0.610 total time=47.5min\n",
      "[CV 1/3] END bootstrap=False, max_depth=80, max_features=None, min_samples_leaf=1, min_samples_split=6, n_estimators=600;, score=0.564 total time=68.9min\n",
      "[CV 1/3] END bootstrap=False, max_depth=70, max_features=log2, min_samples_leaf=1, min_samples_split=6, n_estimators=100;, score=0.813 total time=  24.9s\n",
      "[CV 2/3] END bootstrap=False, max_depth=70, max_features=log2, min_samples_leaf=1, min_samples_split=6, n_estimators=100;, score=0.694 total time=  24.6s\n",
      "[CV 3/3] END bootstrap=False, max_depth=None, max_features=sqrt, min_samples_leaf=4, min_samples_split=4, n_estimators=600;, score=0.802 total time= 4.5min\n",
      "[CV 3/3] END bootstrap=True, max_depth=40, max_features=None, min_samples_leaf=2, min_samples_split=6, n_estimators=1000;, score=0.794 total time=70.3min\n",
      "[CV 2/3] END bootstrap=True, max_depth=60, max_features=None, min_samples_leaf=4, min_samples_split=6, n_estimators=300;, score=0.706 total time=16.9min\n",
      "[CV 3/3] END bootstrap=False, max_depth=90, max_features=log2, min_samples_leaf=4, min_samples_split=2, n_estimators=400;, score=0.790 total time= 1.5min\n",
      "[CV 3/3] END bootstrap=False, max_depth=20, max_features=None, min_samples_leaf=4, min_samples_split=6, n_estimators=100;, score=0.673 total time= 9.5min\n",
      "[CV 1/3] END bootstrap=False, max_depth=100, max_features=sqrt, min_samples_leaf=4, min_samples_split=4, n_estimators=900;, score=0.811 total time= 5.9min\n",
      "[CV 1/3] END bootstrap=False, max_depth=10, max_features=log2, min_samples_leaf=4, min_samples_split=6, n_estimators=400;, score=0.785 total time=  53.5s\n",
      "[CV 1/3] END bootstrap=True, max_depth=10, max_features=sqrt, min_samples_leaf=2, min_samples_split=2, n_estimators=200;, score=0.783 total time=  30.8s\n",
      "[CV 3/3] END bootstrap=True, max_depth=10, max_features=sqrt, min_samples_leaf=2, min_samples_split=2, n_estimators=200;, score=0.774 total time=  30.9s\n",
      "[CV 2/3] END bootstrap=True, max_depth=None, max_features=None, min_samples_leaf=1, min_samples_split=4, n_estimators=700;, score=0.696 total time=45.5min\n",
      "[CV 1/3] END bootstrap=False, max_depth=None, max_features=None, min_samples_leaf=2, min_samples_split=6, n_estimators=500;, score=0.595 total time=62.9min\n",
      "[CV 1/3] END bootstrap=True, max_depth=20, max_features=None, min_samples_leaf=1, min_samples_split=6, n_estimators=700;, score=0.786 total time=49.5min\n",
      "[CV 2/3] END bootstrap=True, max_depth=30, max_features=sqrt, min_samples_leaf=1, min_samples_split=6, n_estimators=200;, score=0.689 total time=  50.7s\n",
      "[CV 1/3] END bootstrap=True, max_depth=10, max_features=None, min_samples_leaf=2, min_samples_split=6, n_estimators=1000;, score=0.770 total time=38.8min\n",
      "[CV 2/3] END bootstrap=False, max_depth=60, max_features=sqrt, min_samples_leaf=1, min_samples_split=4, n_estimators=300;, score=0.689 total time= 2.2min\n",
      "[CV 3/3] END bootstrap=False, max_depth=10, max_features=sqrt, min_samples_leaf=1, min_samples_split=2, n_estimators=100;, score=0.769 total time=  24.9s\n",
      "[CV 3/3] END bootstrap=False, max_depth=50, max_features=sqrt, min_samples_leaf=1, min_samples_split=2, n_estimators=400;, score=0.796 total time= 3.2min\n",
      "[CV 3/3] END bootstrap=True, max_depth=40, max_features=log2, min_samples_leaf=1, min_samples_split=6, n_estimators=700;, score=0.789 total time= 1.6min\n",
      "[CV 3/3] END bootstrap=False, max_depth=80, max_features=None, min_samples_leaf=4, min_samples_split=2, n_estimators=900;, score=0.670 total time=87.6min\n",
      "[CV 2/3] END bootstrap=False, max_depth=80, max_features=log2, min_samples_leaf=1, min_samples_split=6, n_estimators=500;, score=0.693 total time= 1.9min\n",
      "[CV 1/3] END bootstrap=False, max_depth=None, max_features=sqrt, min_samples_leaf=2, min_samples_split=2, n_estimators=500;, score=0.812 total time= 3.6min\n",
      "[CV 1/3] END bootstrap=True, max_depth=10, max_features=None, min_samples_leaf=2, min_samples_split=2, n_estimators=800;, score=0.773 total time=31.1min\n",
      "[CV 1/3] END bootstrap=True, max_depth=10, max_features=log2, min_samples_leaf=1, min_samples_split=2, n_estimators=700;, score=0.779 total time=  57.3s\n",
      "[CV 3/3] END bootstrap=True, max_depth=10, max_features=log2, min_samples_leaf=1, min_samples_split=2, n_estimators=700;, score=0.767 total time=  57.1s\n",
      "[CV 3/3] END bootstrap=False, max_depth=None, max_features=sqrt, min_samples_leaf=1, min_samples_split=2, n_estimators=500;, score=0.798 total time= 4.0min\n",
      "[CV 3/3] END bootstrap=True, max_depth=60, max_features=log2, min_samples_leaf=2, min_samples_split=4, n_estimators=800;, score=0.790 total time= 1.8min\n",
      "[CV 3/3] END bootstrap=True, max_depth=40, max_features=log2, min_samples_leaf=4, min_samples_split=6, n_estimators=300;, score=0.779 total time=  36.4s\n",
      "[CV 3/3] END bootstrap=True, max_depth=60, max_features=sqrt, min_samples_leaf=1, min_samples_split=6, n_estimators=600;, score=0.796 total time= 2.6min\n",
      "[CV 3/3] END bootstrap=False, max_depth=None, max_features=sqrt, min_samples_leaf=1, min_samples_split=4, n_estimators=500;, score=0.797 total time= 3.8min\n",
      "[CV 3/3] END bootstrap=True, max_depth=110, max_features=log2, min_samples_leaf=1, min_samples_split=2, n_estimators=600;, score=0.789 total time= 1.5min\n",
      "[CV 3/3] END bootstrap=False, max_depth=10, max_features=sqrt, min_samples_leaf=2, min_samples_split=2, n_estimators=800;, score=0.778 total time= 3.3min\n",
      "[CV 3/3] END bootstrap=False, max_depth=70, max_features=sqrt, min_samples_leaf=1, min_samples_split=6, n_estimators=400;, score=0.798 total time= 3.0min\n",
      "[CV 1/3] END bootstrap=True, max_depth=100, max_features=sqrt, min_samples_leaf=1, min_samples_split=6, n_estimators=400;, score=0.802 total time= 1.8min\n",
      "[CV 2/3] END bootstrap=True, max_depth=60, max_features=None, min_samples_leaf=4, min_samples_split=6, n_estimators=800;, score=0.703 total time=44.4min\n",
      "[CV 1/3] END bootstrap=True, max_depth=50, max_features=None, min_samples_leaf=4, min_samples_split=2, n_estimators=900;, score=0.786 total time=52.6min\n"
     ]
    }
   ],
   "source": [
    "all_rf = RandomForestRegressor()\n",
    "all_rf_random = RandomizedSearchCV(estimator= all_rf, param_distributions = random_grid, n_iter = 100, cv = 3, verbose=4, random_state=42, n_jobs = -1)\n",
    "\n",
    "with ProgressBar():\n",
    "    all_rf_random.fit(X,y)"
   ]
  },
  {
   "cell_type": "code",
   "execution_count": 24,
   "metadata": {},
   "outputs": [
    {
     "data": {
      "text/html": [
       "<style>#sk-container-id-2 {color: black;background-color: white;}#sk-container-id-2 pre{padding: 0;}#sk-container-id-2 div.sk-toggleable {background-color: white;}#sk-container-id-2 label.sk-toggleable__label {cursor: pointer;display: block;width: 100%;margin-bottom: 0;padding: 0.3em;box-sizing: border-box;text-align: center;}#sk-container-id-2 label.sk-toggleable__label-arrow:before {content: \"▸\";float: left;margin-right: 0.25em;color: #696969;}#sk-container-id-2 label.sk-toggleable__label-arrow:hover:before {color: black;}#sk-container-id-2 div.sk-estimator:hover label.sk-toggleable__label-arrow:before {color: black;}#sk-container-id-2 div.sk-toggleable__content {max-height: 0;max-width: 0;overflow: hidden;text-align: left;background-color: #f0f8ff;}#sk-container-id-2 div.sk-toggleable__content pre {margin: 0.2em;color: black;border-radius: 0.25em;background-color: #f0f8ff;}#sk-container-id-2 input.sk-toggleable__control:checked~div.sk-toggleable__content {max-height: 200px;max-width: 100%;overflow: auto;}#sk-container-id-2 input.sk-toggleable__control:checked~label.sk-toggleable__label-arrow:before {content: \"▾\";}#sk-container-id-2 div.sk-estimator input.sk-toggleable__control:checked~label.sk-toggleable__label {background-color: #d4ebff;}#sk-container-id-2 div.sk-label input.sk-toggleable__control:checked~label.sk-toggleable__label {background-color: #d4ebff;}#sk-container-id-2 input.sk-hidden--visually {border: 0;clip: rect(1px 1px 1px 1px);clip: rect(1px, 1px, 1px, 1px);height: 1px;margin: -1px;overflow: hidden;padding: 0;position: absolute;width: 1px;}#sk-container-id-2 div.sk-estimator {font-family: monospace;background-color: #f0f8ff;border: 1px dotted black;border-radius: 0.25em;box-sizing: border-box;margin-bottom: 0.5em;}#sk-container-id-2 div.sk-estimator:hover {background-color: #d4ebff;}#sk-container-id-2 div.sk-parallel-item::after {content: \"\";width: 100%;border-bottom: 1px solid gray;flex-grow: 1;}#sk-container-id-2 div.sk-label:hover label.sk-toggleable__label {background-color: #d4ebff;}#sk-container-id-2 div.sk-serial::before {content: \"\";position: absolute;border-left: 1px solid gray;box-sizing: border-box;top: 0;bottom: 0;left: 50%;z-index: 0;}#sk-container-id-2 div.sk-serial {display: flex;flex-direction: column;align-items: center;background-color: white;padding-right: 0.2em;padding-left: 0.2em;position: relative;}#sk-container-id-2 div.sk-item {position: relative;z-index: 1;}#sk-container-id-2 div.sk-parallel {display: flex;align-items: stretch;justify-content: center;background-color: white;position: relative;}#sk-container-id-2 div.sk-item::before, #sk-container-id-2 div.sk-parallel-item::before {content: \"\";position: absolute;border-left: 1px solid gray;box-sizing: border-box;top: 0;bottom: 0;left: 50%;z-index: -1;}#sk-container-id-2 div.sk-parallel-item {display: flex;flex-direction: column;z-index: 1;position: relative;background-color: white;}#sk-container-id-2 div.sk-parallel-item:first-child::after {align-self: flex-end;width: 50%;}#sk-container-id-2 div.sk-parallel-item:last-child::after {align-self: flex-start;width: 50%;}#sk-container-id-2 div.sk-parallel-item:only-child::after {width: 0;}#sk-container-id-2 div.sk-dashed-wrapped {border: 1px dashed gray;margin: 0 0.4em 0.5em 0.4em;box-sizing: border-box;padding-bottom: 0.4em;background-color: white;}#sk-container-id-2 div.sk-label label {font-family: monospace;font-weight: bold;display: inline-block;line-height: 1.2em;}#sk-container-id-2 div.sk-label-container {text-align: center;}#sk-container-id-2 div.sk-container {/* jupyter's `normalize.less` sets `[hidden] { display: none; }` but bootstrap.min.css set `[hidden] { display: none !important; }` so we also need the `!important` here to be able to override the default hidden behavior on the sphinx rendered scikit-learn.org. See: https://github.com/scikit-learn/scikit-learn/issues/21755 */display: inline-block !important;position: relative;}#sk-container-id-2 div.sk-text-repr-fallback {display: none;}</style><div id=\"sk-container-id-2\" class=\"sk-top-container\"><div class=\"sk-text-repr-fallback\"><pre>RandomForestRegressor(bootstrap=False, max_depth=110, max_features=&#x27;sqrt&#x27;,\n",
       "                      min_samples_leaf=2, n_estimators=300)</pre><b>In a Jupyter environment, please rerun this cell to show the HTML representation or trust the notebook. <br />On GitHub, the HTML representation is unable to render, please try loading this page with nbviewer.org.</b></div><div class=\"sk-container\" hidden><div class=\"sk-item\"><div class=\"sk-estimator sk-toggleable\"><input class=\"sk-toggleable__control sk-hidden--visually\" id=\"sk-estimator-id-2\" type=\"checkbox\" checked><label for=\"sk-estimator-id-2\" class=\"sk-toggleable__label sk-toggleable__label-arrow\">RandomForestRegressor</label><div class=\"sk-toggleable__content\"><pre>RandomForestRegressor(bootstrap=False, max_depth=110, max_features=&#x27;sqrt&#x27;,\n",
       "                      min_samples_leaf=2, n_estimators=300)</pre></div></div></div></div></div>"
      ],
      "text/plain": [
       "RandomForestRegressor(bootstrap=False, max_depth=110, max_features='sqrt',\n",
       "                      min_samples_leaf=2, n_estimators=300)"
      ]
     },
     "execution_count": 24,
     "metadata": {},
     "output_type": "execute_result"
    }
   ],
   "source": [
    "best = all_rf_random.best_estimator_\n",
    "best"
   ]
  },
  {
   "cell_type": "code",
   "execution_count": 22,
   "metadata": {},
   "outputs": [
    {
     "data": {
      "text/plain": [
       "1.1651780150253086"
      ]
     },
     "execution_count": 22,
     "metadata": {},
     "output_type": "execute_result"
    }
   ],
   "source": [
    "best = all_rf_random.best_estimator_\n",
    "best.fit(X_train, y_train)\n",
    "pred = best.predict(X_test)\n",
    "mse(y_test,pred)\n"
   ]
  },
  {
   "cell_type": "code",
   "execution_count": 20,
   "metadata": {},
   "outputs": [
    {
     "data": {
      "text/plain": [
       "((18366, 220), (18366,))"
      ]
     },
     "execution_count": 20,
     "metadata": {},
     "output_type": "execute_result"
    }
   ],
   "source": [
    "type(X_test.shape),type(y_train.shape)"
   ]
  },
  {
   "cell_type": "markdown",
   "metadata": {},
   "source": [
    "### Std Regressor"
   ]
  },
  {
   "cell_type": "code",
   "execution_count": 46,
   "metadata": {},
   "outputs": [],
   "source": [
    "X_std = std_df.drop(columns='CO')\n",
    "y_std = std_df['CO']\n",
    "\n",
    "X_std = poly.fit_transform(X_std)\n",
    "\n",
    "X_std_train, X_std_test, y_std_train, y_std_test = train_test_split(X_std, y_std, test_size = 0.25, random_state=42)"
   ]
  },
  {
   "cell_type": "code",
   "execution_count": 20,
   "metadata": {},
   "outputs": [
    {
     "name": "stdout",
     "output_type": "stream",
     "text": [
      "Fitting 3 folds for each of 100 candidates, totalling 300 fits\n"
     ]
    },
    {
     "data": {
      "text/html": [
       "<style>#sk-container-id-1 {color: black;background-color: white;}#sk-container-id-1 pre{padding: 0;}#sk-container-id-1 div.sk-toggleable {background-color: white;}#sk-container-id-1 label.sk-toggleable__label {cursor: pointer;display: block;width: 100%;margin-bottom: 0;padding: 0.3em;box-sizing: border-box;text-align: center;}#sk-container-id-1 label.sk-toggleable__label-arrow:before {content: \"▸\";float: left;margin-right: 0.25em;color: #696969;}#sk-container-id-1 label.sk-toggleable__label-arrow:hover:before {color: black;}#sk-container-id-1 div.sk-estimator:hover label.sk-toggleable__label-arrow:before {color: black;}#sk-container-id-1 div.sk-toggleable__content {max-height: 0;max-width: 0;overflow: hidden;text-align: left;background-color: #f0f8ff;}#sk-container-id-1 div.sk-toggleable__content pre {margin: 0.2em;color: black;border-radius: 0.25em;background-color: #f0f8ff;}#sk-container-id-1 input.sk-toggleable__control:checked~div.sk-toggleable__content {max-height: 200px;max-width: 100%;overflow: auto;}#sk-container-id-1 input.sk-toggleable__control:checked~label.sk-toggleable__label-arrow:before {content: \"▾\";}#sk-container-id-1 div.sk-estimator input.sk-toggleable__control:checked~label.sk-toggleable__label {background-color: #d4ebff;}#sk-container-id-1 div.sk-label input.sk-toggleable__control:checked~label.sk-toggleable__label {background-color: #d4ebff;}#sk-container-id-1 input.sk-hidden--visually {border: 0;clip: rect(1px 1px 1px 1px);clip: rect(1px, 1px, 1px, 1px);height: 1px;margin: -1px;overflow: hidden;padding: 0;position: absolute;width: 1px;}#sk-container-id-1 div.sk-estimator {font-family: monospace;background-color: #f0f8ff;border: 1px dotted black;border-radius: 0.25em;box-sizing: border-box;margin-bottom: 0.5em;}#sk-container-id-1 div.sk-estimator:hover {background-color: #d4ebff;}#sk-container-id-1 div.sk-parallel-item::after {content: \"\";width: 100%;border-bottom: 1px solid gray;flex-grow: 1;}#sk-container-id-1 div.sk-label:hover label.sk-toggleable__label {background-color: #d4ebff;}#sk-container-id-1 div.sk-serial::before {content: \"\";position: absolute;border-left: 1px solid gray;box-sizing: border-box;top: 0;bottom: 0;left: 50%;z-index: 0;}#sk-container-id-1 div.sk-serial {display: flex;flex-direction: column;align-items: center;background-color: white;padding-right: 0.2em;padding-left: 0.2em;position: relative;}#sk-container-id-1 div.sk-item {position: relative;z-index: 1;}#sk-container-id-1 div.sk-parallel {display: flex;align-items: stretch;justify-content: center;background-color: white;position: relative;}#sk-container-id-1 div.sk-item::before, #sk-container-id-1 div.sk-parallel-item::before {content: \"\";position: absolute;border-left: 1px solid gray;box-sizing: border-box;top: 0;bottom: 0;left: 50%;z-index: -1;}#sk-container-id-1 div.sk-parallel-item {display: flex;flex-direction: column;z-index: 1;position: relative;background-color: white;}#sk-container-id-1 div.sk-parallel-item:first-child::after {align-self: flex-end;width: 50%;}#sk-container-id-1 div.sk-parallel-item:last-child::after {align-self: flex-start;width: 50%;}#sk-container-id-1 div.sk-parallel-item:only-child::after {width: 0;}#sk-container-id-1 div.sk-dashed-wrapped {border: 1px dashed gray;margin: 0 0.4em 0.5em 0.4em;box-sizing: border-box;padding-bottom: 0.4em;background-color: white;}#sk-container-id-1 div.sk-label label {font-family: monospace;font-weight: bold;display: inline-block;line-height: 1.2em;}#sk-container-id-1 div.sk-label-container {text-align: center;}#sk-container-id-1 div.sk-container {/* jupyter's `normalize.less` sets `[hidden] { display: none; }` but bootstrap.min.css set `[hidden] { display: none !important; }` so we also need the `!important` here to be able to override the default hidden behavior on the sphinx rendered scikit-learn.org. See: https://github.com/scikit-learn/scikit-learn/issues/21755 */display: inline-block !important;position: relative;}#sk-container-id-1 div.sk-text-repr-fallback {display: none;}</style><div id=\"sk-container-id-1\" class=\"sk-top-container\"><div class=\"sk-text-repr-fallback\"><pre>RandomizedSearchCV(cv=3, estimator=RandomForestRegressor(), n_iter=100,\n",
       "                   n_jobs=-1,\n",
       "                   param_distributions={&#x27;bootstrap&#x27;: [True, False],\n",
       "                                        &#x27;max_depth&#x27;: [10, 20, 30, 40, 50, 60,\n",
       "                                                      70, 80, 90, 100, 110,\n",
       "                                                      None],\n",
       "                                        &#x27;max_features&#x27;: [&#x27;sqrt&#x27;, &#x27;log2&#x27;, None],\n",
       "                                        &#x27;min_samples_leaf&#x27;: [1, 2, 4],\n",
       "                                        &#x27;min_samples_split&#x27;: [2, 5, 10],\n",
       "                                        &#x27;n_estimators&#x27;: [100, 200, 300, 400,\n",
       "                                                         500, 600, 700, 800,\n",
       "                                                         900, 1000]},\n",
       "                   random_state=42, verbose=2)</pre><b>In a Jupyter environment, please rerun this cell to show the HTML representation or trust the notebook. <br />On GitHub, the HTML representation is unable to render, please try loading this page with nbviewer.org.</b></div><div class=\"sk-container\" hidden><div class=\"sk-item sk-dashed-wrapped\"><div class=\"sk-label-container\"><div class=\"sk-label sk-toggleable\"><input class=\"sk-toggleable__control sk-hidden--visually\" id=\"sk-estimator-id-1\" type=\"checkbox\" ><label for=\"sk-estimator-id-1\" class=\"sk-toggleable__label sk-toggleable__label-arrow\">RandomizedSearchCV</label><div class=\"sk-toggleable__content\"><pre>RandomizedSearchCV(cv=3, estimator=RandomForestRegressor(), n_iter=100,\n",
       "                   n_jobs=-1,\n",
       "                   param_distributions={&#x27;bootstrap&#x27;: [True, False],\n",
       "                                        &#x27;max_depth&#x27;: [10, 20, 30, 40, 50, 60,\n",
       "                                                      70, 80, 90, 100, 110,\n",
       "                                                      None],\n",
       "                                        &#x27;max_features&#x27;: [&#x27;sqrt&#x27;, &#x27;log2&#x27;, None],\n",
       "                                        &#x27;min_samples_leaf&#x27;: [1, 2, 4],\n",
       "                                        &#x27;min_samples_split&#x27;: [2, 5, 10],\n",
       "                                        &#x27;n_estimators&#x27;: [100, 200, 300, 400,\n",
       "                                                         500, 600, 700, 800,\n",
       "                                                         900, 1000]},\n",
       "                   random_state=42, verbose=2)</pre></div></div></div><div class=\"sk-parallel\"><div class=\"sk-parallel-item\"><div class=\"sk-item\"><div class=\"sk-label-container\"><div class=\"sk-label sk-toggleable\"><input class=\"sk-toggleable__control sk-hidden--visually\" id=\"sk-estimator-id-2\" type=\"checkbox\" ><label for=\"sk-estimator-id-2\" class=\"sk-toggleable__label sk-toggleable__label-arrow\">estimator: RandomForestRegressor</label><div class=\"sk-toggleable__content\"><pre>RandomForestRegressor()</pre></div></div></div><div class=\"sk-serial\"><div class=\"sk-item\"><div class=\"sk-estimator sk-toggleable\"><input class=\"sk-toggleable__control sk-hidden--visually\" id=\"sk-estimator-id-3\" type=\"checkbox\" ><label for=\"sk-estimator-id-3\" class=\"sk-toggleable__label sk-toggleable__label-arrow\">RandomForestRegressor</label><div class=\"sk-toggleable__content\"><pre>RandomForestRegressor()</pre></div></div></div></div></div></div></div></div></div></div>"
      ],
      "text/plain": [
       "RandomizedSearchCV(cv=3, estimator=RandomForestRegressor(), n_iter=100,\n",
       "                   n_jobs=-1,\n",
       "                   param_distributions={'bootstrap': [True, False],\n",
       "                                        'max_depth': [10, 20, 30, 40, 50, 60,\n",
       "                                                      70, 80, 90, 100, 110,\n",
       "                                                      None],\n",
       "                                        'max_features': ['sqrt', 'log2', None],\n",
       "                                        'min_samples_leaf': [1, 2, 4],\n",
       "                                        'min_samples_split': [2, 5, 10],\n",
       "                                        'n_estimators': [100, 200, 300, 400,\n",
       "                                                         500, 600, 700, 800,\n",
       "                                                         900, 1000]},\n",
       "                   random_state=42, verbose=2)"
      ]
     },
     "execution_count": 20,
     "metadata": {},
     "output_type": "execute_result"
    }
   ],
   "source": [
    "rf = RandomForestRegressor()\n",
    "\n",
    "rf_random = RandomizedSearchCV(estimator = rf, param_distributions = random_grid, n_iter = 100, cv = 3, random_state=42, n_jobs = -1)\n",
    "\n",
    "rf_random.fit(X_std, y_std)"
   ]
  },
  {
   "cell_type": "code",
   "execution_count": 21,
   "metadata": {},
   "outputs": [
    {
     "data": {
      "text/plain": [
       "{'n_estimators': 700,\n",
       " 'min_samples_split': 2,\n",
       " 'min_samples_leaf': 2,\n",
       " 'max_features': None,\n",
       " 'max_depth': 30,\n",
       " 'bootstrap': True}"
      ]
     },
     "execution_count": 21,
     "metadata": {},
     "output_type": "execute_result"
    }
   ],
   "source": [
    "rf_random.best_params_"
   ]
  },
  {
   "cell_type": "raw",
   "metadata": {},
   "source": [
    "best_random = rf_random.best_estimator_\n",
    "y_predict_random = best_random.predict(X_test)\n",
    "mse(y_test, y_predict_random)"
   ]
  },
  {
   "cell_type": "markdown",
   "metadata": {},
   "source": [
    "### Ext Regressor"
   ]
  },
  {
   "cell_type": "code",
   "execution_count": 10,
   "metadata": {},
   "outputs": [],
   "source": [
    "X_ext = ext_df.drop(columns='CO')\n",
    "y_ext = ext_df['CO']\n",
    "\n",
    "X_ext = poly.fit_transform(X_ext)\n",
    "\n",
    "X_ext_train, X_ext_test, y_ext_train, y_ext_test = train_test_split(X_ext, y_ext, test_size = 0.25, random_state=42)"
   ]
  },
  {
   "cell_type": "code",
   "execution_count": null,
   "metadata": {},
   "outputs": [
    {
     "name": "stdout",
     "output_type": "stream",
     "text": [
      "Fitting 3 folds for each of 100 candidates, totalling 300 fits\n"
     ]
    }
   ],
   "source": [
    "rf = RandomForestRegressor()\n",
    "\n",
    "rf_random = RandomizedSearchCV(estimator = rf, param_distributions = random_grid, n_iter = 100, cv = 3, verbose =3, random_state=42, n_jobs = -1)\n",
    "\n",
    "rf_random.fit(X_ext, y_ext)"
   ]
  },
  {
   "cell_type": "code",
   "execution_count": 27,
   "metadata": {},
   "outputs": [
    {
     "data": {
      "text/plain": [
       "{'n_estimators': 500,\n",
       " 'min_samples_split': 2,\n",
       " 'min_samples_leaf': 1,\n",
       " 'max_features': 'sqrt',\n",
       " 'max_depth': None,\n",
       " 'bootstrap': False}"
      ]
     },
     "execution_count": 27,
     "metadata": {},
     "output_type": "execute_result"
    }
   ],
   "source": [
    "rf_random.best_params_"
   ]
  },
  {
   "cell_type": "code",
   "execution_count": 26,
   "metadata": {},
   "outputs": [
    {
     "data": {
      "text/plain": [
       "4.099295900845886"
      ]
     },
     "execution_count": 26,
     "metadata": {},
     "output_type": "execute_result"
    }
   ],
   "source": [
    "best_random = rf_random.best_estimator_\n",
    "y_predict_random = best_random.predict(X_test)\n",
    "mse(y_test, y_predict_random)"
   ]
  },
  {
   "cell_type": "markdown",
   "metadata": {},
   "source": []
  }
 ],
 "metadata": {
  "kernelspec": {
   "display_name": "Python 3 (ipykernel)",
   "language": "python",
   "name": "python3"
  },
  "language_info": {
   "codemirror_mode": {
    "name": "ipython",
    "version": 3
   },
   "file_extension": ".py",
   "mimetype": "text/x-python",
   "name": "python",
   "nbconvert_exporter": "python",
   "pygments_lexer": "ipython3",
   "version": "3.8.10"
  }
 },
 "nbformat": 4,
 "nbformat_minor": 4
}
