{
 "cells": [
  {
   "cell_type": "code",
   "execution_count": 1,
   "id": "9b711155-e0fd-48e2-9597-3231d0074648",
   "metadata": {},
   "outputs": [],
   "source": [
    "import pandas as pd\n",
    "import numpy as np\n",
    "import matplotlib.pyplot as plt\n",
    "import seaborn as sns\n",
    "\n",
    "#scikitlearn importing\n",
    "from sklearn.impute import KNNImputer\n",
    "from sklearn.model_selection import train_test_split\n",
    "from sklearn.preprocessing import StandardScaler\n",
    "\n",
    "%matplotlib inline\n",
    "\n",
    "plt.rcParams[\"figure.figsize\"] = (10, 6)"
   ]
  },
  {
   "cell_type": "code",
   "execution_count": 5,
   "id": "791c6d5e-dfd5-44b3-9bd2-829bed55c3b6",
   "metadata": {},
   "outputs": [],
   "source": [
    "#Importing the models\n",
    "from sklearn.tree import DecisionTreeClassifier\n",
    "from sklearn.ensemble import RandomForestClassifier, AdaBoostClassifier\n",
    "from sklearn.naive_bayes import GaussianNB, BernoulliNB\n",
    "from sklearn.neural_network import MLPClassifier\n",
    "from sklearn.svm import SVC\n",
    "\n",
    "from sklearn.preprocessing import PolynomialFeatures\n",
    "from sklearn.pipeline import make_pipeline\n",
    "\n",
    "#Metric\n",
    "from sklearn.metrics import f1_score as f1\n",
    "from sklearn.metrics import precision_recall_fscore_support, classification_report\n",
    "\n",
    "#Pretty Table\n",
    "from prettytable import PrettyTable"
   ]
  },
  {
   "cell_type": "code",
   "execution_count": 3,
   "id": "4111afda-fdc6-4b43-8fa6-5d2f381d159b",
   "metadata": {},
   "outputs": [
    {
     "data": {
      "text/plain": [
       "((24488, 39), (12245, 39))"
      ]
     },
     "execution_count": 3,
     "metadata": {},
     "output_type": "execute_result"
    }
   ],
   "source": [
    "std_df = pd.read_csv('processed_dataset/std_dataset.csv', index_col = 0)\n",
    "\n",
    "dev_df = std_df.loc[:24487,:]\n",
    "eval_df = std_df.loc[24488:,:]\n",
    "dev_df.shape, eval_df.shape"
   ]
  },
  {
   "cell_type": "code",
   "execution_count": 4,
   "id": "35ab954b-b33b-418d-8793-3e36b672e8c2",
   "metadata": {},
   "outputs": [
    {
     "name": "stderr",
     "output_type": "stream",
     "text": [
      "/tmp/ipykernel_4749/1127687695.py:1: SettingWithCopyWarning: \n",
      "A value is trying to be set on a copy of a slice from a DataFrame.\n",
      "Try using .loc[row_indexer,col_indexer] = value instead\n",
      "\n",
      "See the caveats in the documentation: https://pandas.pydata.org/pandas-docs/stable/user_guide/indexing.html#returning-a-view-versus-a-copy\n",
      "  dev_df['labels'] = dev_df['CO'].apply(lambda x : 0 if x < 4.5 else 1)\n"
     ]
    },
    {
     "data": {
      "text/html": [
       "<div>\n",
       "<style scoped>\n",
       "    .dataframe tbody tr th:only-of-type {\n",
       "        vertical-align: middle;\n",
       "    }\n",
       "\n",
       "    .dataframe tbody tr th {\n",
       "        vertical-align: top;\n",
       "    }\n",
       "\n",
       "    .dataframe thead th {\n",
       "        text-align: right;\n",
       "    }\n",
       "</style>\n",
       "<table border=\"1\" class=\"dataframe\">\n",
       "  <thead>\n",
       "    <tr style=\"text-align: right;\">\n",
       "      <th></th>\n",
       "      <th>labels</th>\n",
       "      <th>CO</th>\n",
       "    </tr>\n",
       "    <tr>\n",
       "      <th>ID</th>\n",
       "      <th></th>\n",
       "      <th></th>\n",
       "    </tr>\n",
       "  </thead>\n",
       "  <tbody>\n",
       "    <tr>\n",
       "      <th>0</th>\n",
       "      <td>0</td>\n",
       "      <td>1.07640</td>\n",
       "    </tr>\n",
       "    <tr>\n",
       "      <th>1</th>\n",
       "      <td>1</td>\n",
       "      <td>10.19600</td>\n",
       "    </tr>\n",
       "    <tr>\n",
       "      <th>2</th>\n",
       "      <td>0</td>\n",
       "      <td>0.78407</td>\n",
       "    </tr>\n",
       "    <tr>\n",
       "      <th>3</th>\n",
       "      <td>0</td>\n",
       "      <td>1.61530</td>\n",
       "    </tr>\n",
       "    <tr>\n",
       "      <th>4</th>\n",
       "      <td>0</td>\n",
       "      <td>1.40710</td>\n",
       "    </tr>\n",
       "  </tbody>\n",
       "</table>\n",
       "</div>"
      ],
      "text/plain": [
       "    labels        CO\n",
       "ID                  \n",
       "0        0   1.07640\n",
       "1        1  10.19600\n",
       "2        0   0.78407\n",
       "3        0   1.61530\n",
       "4        0   1.40710"
      ]
     },
     "execution_count": 4,
     "metadata": {},
     "output_type": "execute_result"
    }
   ],
   "source": [
    "dev_df['labels'] = dev_df['CO'].apply(lambda x : 0 if x < 4.5 else 1)\n",
    "dev_df[['labels', 'CO']].head()"
   ]
  },
  {
   "cell_type": "code",
   "execution_count": 9,
   "id": "6e7f471d-e8b5-4331-82a3-bfbeac862692",
   "metadata": {},
   "outputs": [],
   "source": [
    "#Defining the models \n",
    "degree = 3\n",
    "rs = 42 \n",
    "clf_models = [\n",
    "    RandomForestClassifier(random_state = rs),\n",
    "    AdaBoostClassifier(random_state = rs), \n",
    "    GaussianNB(),\n",
    "    BernoulliNB(),\n",
    "    MLPClassifier(random_state = rs,max_iter = 10000),\n",
    "    SVC(),\n",
    "    make_pipeline(\n",
    "        PolynomialFeatures(degree),\n",
    "        RandomForestClassifier()\n",
    "    )\n",
    "]\n",
    "\n",
    "names = [\n",
    "    'rf',\n",
    "    'ada',\n",
    "    'gaussian',\n",
    "    'bernoulli',\n",
    "    'mlp',\n",
    "    'svc',\n",
    "    f'poly{degree}+rf',\n",
    "]"
   ]
  },
  {
   "cell_type": "code",
   "execution_count": 10,
   "id": "936cdd0d-ab5b-458c-a8c9-252162874477",
   "metadata": {},
   "outputs": [
    {
     "name": "stdout",
     "output_type": "stream",
     "text": [
      "RandomForestClassifier(random_state=42)\n",
      "AdaBoostClassifier(random_state=42)\n",
      "GaussianNB()\n",
      "BernoulliNB()\n",
      "MLPClassifier(max_iter=10000, random_state=42)\n",
      "SVC()\n",
      "Pipeline(steps=[('polynomialfeatures', PolynomialFeatures(degree=3)),\n",
      "                ('randomforestclassifier', RandomForestClassifier())])\n"
     ]
    }
   ],
   "source": [
    "t = PrettyTable()\n",
    "\n",
    "result = {}\n",
    "\n",
    "\n",
    "\n",
    "for model, name in zip(clf_models, names):\n",
    "    print(model)\n",
    "    X = dev_df.drop(columns = ['CO','labels'])\n",
    "    y = dev_df['labels']\n",
    "    \n",
    "    X_train, X_test, y_train, y_test = train_test_split(X,y, random_state = rs, test_size = 0.25, stratify = y)\n",
    "    \n",
    "    model.fit(X_train, y_train)\n",
    "    y_pred = model.predict(X_test)\n",
    "    \n",
    "    result[name] = (model, classification_report(y_test, y_pred))"
   ]
  },
  {
   "cell_type": "code",
   "execution_count": 13,
   "id": "ad35a808-ab15-4e34-a690-e88e9c201335",
   "metadata": {},
   "outputs": [
    {
     "name": "stdout",
     "output_type": "stream",
     "text": [
      "rf\n",
      "              precision    recall  f1-score   support\n",
      "\n",
      "           0       0.97      0.98      0.98      5413\n",
      "           1       0.86      0.78      0.82       709\n",
      "\n",
      "    accuracy                           0.96      6122\n",
      "   macro avg       0.92      0.88      0.90      6122\n",
      "weighted avg       0.96      0.96      0.96      6122\n",
      "\n",
      "\n",
      "ada\n",
      "              precision    recall  f1-score   support\n",
      "\n",
      "           0       0.96      0.97      0.97      5413\n",
      "           1       0.78      0.71      0.75       709\n",
      "\n",
      "    accuracy                           0.94      6122\n",
      "   macro avg       0.87      0.84      0.86      6122\n",
      "weighted avg       0.94      0.94      0.94      6122\n",
      "\n",
      "\n",
      "gaussian\n",
      "              precision    recall  f1-score   support\n",
      "\n",
      "           0       0.99      0.88      0.93      5413\n",
      "           1       0.49      0.90      0.64       709\n",
      "\n",
      "    accuracy                           0.88      6122\n",
      "   macro avg       0.74      0.89      0.78      6122\n",
      "weighted avg       0.93      0.88      0.89      6122\n",
      "\n",
      "\n",
      "bernoulli\n",
      "              precision    recall  f1-score   support\n",
      "\n",
      "           0       0.98      0.79      0.88      5413\n",
      "           1       0.36      0.89      0.51       709\n",
      "\n",
      "    accuracy                           0.80      6122\n",
      "   macro avg       0.67      0.84      0.69      6122\n",
      "weighted avg       0.91      0.80      0.83      6122\n",
      "\n",
      "\n",
      "mlp\n",
      "              precision    recall  f1-score   support\n",
      "\n",
      "           0       0.97      0.97      0.97      5413\n",
      "           1       0.80      0.79      0.79       709\n",
      "\n",
      "    accuracy                           0.95      6122\n",
      "   macro avg       0.89      0.88      0.88      6122\n",
      "weighted avg       0.95      0.95      0.95      6122\n",
      "\n",
      "\n",
      "svc\n",
      "              precision    recall  f1-score   support\n",
      "\n",
      "           0       0.96      0.98      0.97      5413\n",
      "           1       0.84      0.73      0.78       709\n",
      "\n",
      "    accuracy                           0.95      6122\n",
      "   macro avg       0.90      0.85      0.88      6122\n",
      "weighted avg       0.95      0.95      0.95      6122\n",
      "\n",
      "\n",
      "poly3+rf\n",
      "              precision    recall  f1-score   support\n",
      "\n",
      "           0       0.97      0.99      0.98      5413\n",
      "           1       0.87      0.78      0.83       709\n",
      "\n",
      "    accuracy                           0.96      6122\n",
      "   macro avg       0.92      0.88      0.90      6122\n",
      "weighted avg       0.96      0.96      0.96      6122\n",
      "\n",
      "\n"
     ]
    }
   ],
   "source": [
    "for k,(model, report) in result.items():\n",
    "    print(k)\n",
    "    print(report)\n",
    "    print()"
   ]
  },
  {
   "cell_type": "code",
   "execution_count": 33,
   "id": "e9fc791c-15dd-4bb1-8779-8cdce58f994a",
   "metadata": {},
   "outputs": [
    {
     "data": {
      "text/plain": [
       "(array([0.97274903, 0.86685962]),\n",
       " array([0.98288372, 0.80187416]),\n",
       " array([0.97779012, 0.83310153]),\n",
       " array([5375,  747]))"
      ]
     },
     "execution_count": 33,
     "metadata": {},
     "output_type": "execute_result"
    }
   ],
   "source": [
    "rf = regression_models[0]\n",
    "y_hat = rf.predict(X_test)\n",
    "precision_recall_fscore_support(y_test, y_hat)"
   ]
  },
  {
   "cell_type": "code",
   "execution_count": null,
   "id": "10a0e556-6a31-4c2b-8281-9b86b5dd7a02",
   "metadata": {},
   "outputs": [],
   "source": []
  }
 ],
 "metadata": {
  "kernelspec": {
   "display_name": "Python 3 (ipykernel)",
   "language": "python",
   "name": "python3"
  },
  "language_info": {
   "codemirror_mode": {
    "name": "ipython",
    "version": 3
   },
   "file_extension": ".py",
   "mimetype": "text/x-python",
   "name": "python",
   "nbconvert_exporter": "python",
   "pygments_lexer": "ipython3",
   "version": "3.8.10"
  }
 },
 "nbformat": 4,
 "nbformat_minor": 5
}
