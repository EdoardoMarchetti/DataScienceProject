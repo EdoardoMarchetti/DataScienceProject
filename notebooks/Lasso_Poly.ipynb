{
 "cells": [
  {
   "cell_type": "markdown",
   "id": "de4069e0-63b2-42a5-9f49-a62ec4737dab",
   "metadata": {},
   "source": [
    "# Configuration "
   ]
  },
  {
   "cell_type": "code",
   "execution_count": 111,
   "id": "c59f91ad-f96a-445a-aade-e398fe2657f2",
   "metadata": {},
   "outputs": [],
   "source": [
    "import numpy as np\n",
    "import pandas as pd\n",
    "import matplotlib.pyplot as plt\n",
    "\n",
    "%matplotlib inline\n",
    "\n",
    "from sklearn.model_selection import train_test_split, validation_curve\n",
    "from sklearn.linear_model import Lasso, LinearRegression\n",
    "from sklearn.metrics import mean_squared_error as mse\n",
    "from sklearn.preprocessing import PolynomialFeatures\n",
    "\n",
    "%matplotlib inline\n",
    "\n",
    "plt.rcParams[\"figure.figsize\"] = (10, 6)"
   ]
  },
  {
   "cell_type": "markdown",
   "id": "13531952-8fbd-4ff5-9aed-3541264e5abe",
   "metadata": {},
   "source": [
    "# Utils"
   ]
  },
  {
   "cell_type": "code",
   "execution_count": 115,
   "id": "3c2f778e-74f0-4ea9-9052-94179fe18cce",
   "metadata": {},
   "outputs": [],
   "source": [
    "def include_features(model, df, features_lists, poly = None, target_feature = 'CO'):\n",
    "    \n",
    "    scores = {}\n",
    "    \n",
    "    \n",
    "    for features in features_lists:\n",
    "        X = df.drop(columns = 'CO')\n",
    "        y = df['CO']\n",
    "        \n",
    "        if features == 'all':\n",
    "            features = X.columns\n",
    "        \n",
    "        X_train, X_test, y_train, y_test = train_test_split(X[features], y, test_size = 0.25, random_state=42)\n",
    "        \n",
    "        \n",
    "        if poly is not None:\n",
    "            poly.fit(X_train)\n",
    "            X_train, X_test = poly.transform(X_train), poly.transform(X_test)\n",
    "            \n",
    "        print(f'X_train shape = {X_train.shape}, X_test shape = {X_test.shape}')\n",
    "        \n",
    "        model.fit(X_train,y_train)\n",
    "        y_pred = model.predict(X_test)\n",
    "        \n",
    "        if len(features) == len(df.columns):\n",
    "            features == 'all'\n",
    "        \n",
    "        if poly is None:\n",
    "            scores[tuple(model.feature_names_in_)] = (y_pred, model.coef_, mse(y_test, y_pred))\n",
    "        else:\n",
    "            scores[tuple(poly.get_feature_names_out())] = (y_pred, model.coef_ ,mse(y_test, y_pred))\n",
    "        \n",
    "    return scores\n",
    "        "
   ]
  },
  {
   "cell_type": "code",
   "execution_count": 97,
   "id": "4c5261ad-e007-4b38-9d41-3148e1933ff5",
   "metadata": {},
   "outputs": [],
   "source": [
    "def print_features_coef(features, coef, only_non_van):\n",
    "    print('Coefficients:')\n",
    "    for f, c in zip(features, coef):\n",
    "        if (only_non_van == True and c != 0):\n",
    "            print(f,c)\n",
    "        elif only_non_van == False:\n",
    "            print(f,c)"
   ]
  },
  {
   "cell_type": "code",
   "execution_count": 116,
   "id": "3b143868-4cb8-4b93-a1c8-98ae05bbb530",
   "metadata": {},
   "outputs": [],
   "source": [
    "def print_scores(scores_dict, only_mse = False, print_coef = False):\n",
    "    '''scores_dict => (columns): (predictions, mse_score) '''\n",
    "    for columns, (pred, coef ,mse_score) in scores_dict.items():\n",
    "        print()\n",
    "        if print_coef:\n",
    "            print_features_coef(columns, coef, only_non_van = True)\n",
    "            \n",
    "        if only_mse:\n",
    "            print(f'mse:{mse_score}')\n",
    "        else:\n",
    "            print(f'Columns: \\n {columns}, \\n MSE: {mse_score}')"
   ]
  },
  {
   "cell_type": "markdown",
   "id": "ad26dfb7-93b5-4ee7-81c0-d3fed84d339b",
   "metadata": {},
   "source": [
    "# Importing Dataset"
   ]
  },
  {
   "cell_type": "code",
   "execution_count": 7,
   "id": "30579709-4ff9-46b3-a960-e2e023b1cb9f",
   "metadata": {},
   "outputs": [
    {
     "data": {
      "text/plain": [
       "(36733, 39)"
      ]
     },
     "execution_count": 7,
     "metadata": {},
     "output_type": "execute_result"
    }
   ],
   "source": [
    "std_df = pd.read_csv('processed_dataset/std_dataset.csv', index_col = 0)\n",
    "std_df.shape"
   ]
  },
  {
   "cell_type": "code",
   "execution_count": 9,
   "id": "15ec6192-4346-4983-a5b4-56e2b7ef29f9",
   "metadata": {},
   "outputs": [
    {
     "data": {
      "text/plain": [
       "(24488, 39)"
      ]
     },
     "execution_count": 9,
     "metadata": {},
     "output_type": "execute_result"
    }
   ],
   "source": [
    "dev_df = std_df.loc[:24487]\n",
    "dev_df.shape"
   ]
  },
  {
   "cell_type": "code",
   "execution_count": 10,
   "id": "be647e7e-d402-4fb2-8cd4-282d3d3e5d8a",
   "metadata": {},
   "outputs": [
    {
     "data": {
      "text/plain": [
       "(12245, 39)"
      ]
     },
     "execution_count": 10,
     "metadata": {},
     "output_type": "execute_result"
    }
   ],
   "source": [
    "eval_df = std_df.loc[24488:]\n",
    "eval_df.shape"
   ]
  },
  {
   "cell_type": "code",
   "execution_count": 19,
   "id": "f76fe9dc-28c4-41cd-a74c-b4c2dd562381",
   "metadata": {},
   "outputs": [
    {
     "data": {
      "text/plain": [
       "Index(['YEAR', 'AT', 'AP', 'AH', 'AFDP', 'GTEP', 'TIT', 'TAT', 'TEY', 'CDP',\n",
       "       'NOX', 'CO', 'Austria', 'Belgium', 'Bulgaria', 'Croatia',\n",
       "       'Czech Republic', 'Denmark', 'Estonia', 'Finland', 'France', 'Germany',\n",
       "       'Greece', 'Hungary', 'Ireland', 'Italy', 'Latvia', 'Lithuania',\n",
       "       'Luxembourg', 'Malta', 'Netherlands', 'Poland', 'Portugal',\n",
       "       'Republic of Cyprus', 'Romania', 'Slovakia', 'Slovenia', 'Spain',\n",
       "       'Sweden'],\n",
       "      dtype='object')"
      ]
     },
     "execution_count": 19,
     "metadata": {},
     "output_type": "execute_result"
    }
   ],
   "source": [
    "dev_df.columns"
   ]
  },
  {
   "cell_type": "code",
   "execution_count": 63,
   "id": "85428498-5145-4b8b-947b-004893bd9120",
   "metadata": {},
   "outputs": [],
   "source": [
    "ambiental_pred = ['AT', 'AP', 'AH']\n",
    "process_pred = ['AFDP', 'GTEP', 'TIT', 'TAT', 'TEY', 'CDP']\n",
    "location_pred = ['Austria', 'Belgium', 'Bulgaria', 'Croatia',\n",
    "       'Czech Republic', 'Denmark', 'Estonia', 'Finland', 'France', 'Germany',\n",
    "       'Greece', 'Hungary', 'Ireland', 'Italy', 'Latvia', 'Lithuania',\n",
    "       'Luxembourg', 'Malta', 'Netherlands', 'Poland', 'Portugal',\n",
    "       'Republic of Cyprus', 'Romania', 'Slovakia', 'Slovenia', 'Spain',\n",
    "       'Sweden']\n",
    "nox = ['NOX']\n",
    "year = ['YEAR']"
   ]
  },
  {
   "cell_type": "code",
   "execution_count": 65,
   "id": "da6086cd-a4db-4f8f-89c3-62647f6220b1",
   "metadata": {},
   "outputs": [
    {
     "data": {
      "text/plain": [
       "['AT', 'AP', 'AH', 'AFDP', 'GTEP', 'TIT', 'TAT', 'TEY', 'CDP', 'NOX']"
      ]
     },
     "execution_count": 65,
     "metadata": {},
     "output_type": "execute_result"
    }
   ],
   "source": [
    "ambiental_pred+process_pred+nox"
   ]
  },
  {
   "cell_type": "markdown",
   "id": "792aa123-7952-4878-a816-85283a6a6930",
   "metadata": {},
   "source": [
    "# Complete dataset test"
   ]
  },
  {
   "cell_type": "code",
   "execution_count": 120,
   "id": "350a1704-04b7-4934-a173-605f20552dbb",
   "metadata": {},
   "outputs": [],
   "source": [
    "features_lists = [\n",
    "    'all',\n",
    "    ambiental_pred,\n",
    "    process_pred,\n",
    "    ambiental_pred+nox,\n",
    "    ambiental_pred+year,\n",
    "    ambiental_pred+nox+year,\n",
    "    process_pred+nox,\n",
    "    process_pred+year,\n",
    "    process_pred+nox+year,\n",
    "    ambiental_pred+process_pred,\n",
    "    ambiental_pred+process_pred+nox,\n",
    "    ambiental_pred+process_pred+year,\n",
    "    ambiental_pred+process_pred+nox+year,\n",
    "]"
   ]
  },
  {
   "cell_type": "markdown",
   "id": "f9ab6a6e-d49f-40dd-bb1b-95df6d06ab9e",
   "metadata": {},
   "source": [
    "## Lasso"
   ]
  },
  {
   "cell_type": "code",
   "execution_count": 121,
   "id": "c04735c2-9c9a-4643-8d16-29778b453149",
   "metadata": {},
   "outputs": [
    {
     "name": "stdout",
     "output_type": "stream",
     "text": [
      "X_train shape = (18366, 38), X_test shape = (6122, 38)\n",
      "X_train shape = (18366, 3), X_test shape = (6122, 3)\n",
      "X_train shape = (18366, 6), X_test shape = (6122, 6)\n",
      "X_train shape = (18366, 4), X_test shape = (6122, 4)\n",
      "X_train shape = (18366, 4), X_test shape = (6122, 4)\n",
      "X_train shape = (18366, 5), X_test shape = (6122, 5)\n",
      "X_train shape = (18366, 7), X_test shape = (6122, 7)\n",
      "X_train shape = (18366, 7), X_test shape = (6122, 7)\n",
      "X_train shape = (18366, 8), X_test shape = (6122, 8)\n",
      "X_train shape = (18366, 9), X_test shape = (6122, 9)\n",
      "X_train shape = (18366, 10), X_test shape = (6122, 10)\n",
      "X_train shape = (18366, 10), X_test shape = (6122, 10)\n",
      "X_train shape = (18366, 11), X_test shape = (6122, 11)\n"
     ]
    }
   ],
   "source": [
    "default_lasso = Lasso()\n",
    "scores = include_features(default_lasso, dev_df, features_lists)"
   ]
  },
  {
   "cell_type": "code",
   "execution_count": 122,
   "id": "0c086ee3-1aee-4d8c-9070-b5c15b1736bd",
   "metadata": {},
   "outputs": [
    {
     "name": "stdout",
     "output_type": "stream",
     "text": [
      "\n",
      "Coefficients:\n",
      "TIT -0.5760119278636129\n",
      "mse:3.5978836067143054\n",
      "\n",
      "Coefficients:\n",
      "mse:5.179609728446949\n",
      "\n",
      "Coefficients:\n",
      "TIT -0.5760119278636129\n",
      "mse:3.5978836067143054\n",
      "\n",
      "Coefficients:\n",
      "mse:5.179609728446949\n",
      "\n",
      "Coefficients:\n",
      "mse:5.179609728446949\n",
      "\n",
      "Coefficients:\n",
      "mse:5.179609728446949\n",
      "\n",
      "Coefficients:\n",
      "TIT -0.5760119278636129\n",
      "mse:3.5978836067143054\n",
      "\n",
      "Coefficients:\n",
      "TIT -0.5760119278636129\n",
      "mse:3.5978836067143054\n",
      "\n",
      "Coefficients:\n",
      "TIT -0.5760119278636129\n",
      "mse:3.5978836067143054\n",
      "\n",
      "Coefficients:\n",
      "TIT -0.5760119278636129\n",
      "mse:3.5978836067143054\n",
      "\n",
      "Coefficients:\n",
      "TIT -0.5760119278636129\n",
      "mse:3.5978836067143054\n",
      "\n",
      "Coefficients:\n",
      "TIT -0.5760119278636129\n",
      "mse:3.5978836067143054\n",
      "\n",
      "Coefficients:\n",
      "TIT -0.5760119278636129\n",
      "mse:3.5978836067143054\n"
     ]
    }
   ],
   "source": [
    "print_scores(scores, only_mse = True, print_coef=True)"
   ]
  },
  {
   "cell_type": "markdown",
   "id": "5cb67cf2-5f9c-4ef1-ba14-a4fa670a984f",
   "metadata": {},
   "source": [
    "For the default Lasso version the all the coefficients are 0 except for TIT."
   ]
  },
  {
   "cell_type": "markdown",
   "id": "41c82f9c-e9d0-4dbf-9721-5ef61c3c63c9",
   "metadata": {},
   "source": [
    "## Poly"
   ]
  },
  {
   "cell_type": "code",
   "execution_count": 123,
   "id": "344d6146-e410-4e05-a2ab-f533fc83e3cc",
   "metadata": {},
   "outputs": [
    {
     "name": "stdout",
     "output_type": "stream",
     "text": [
      "X_train shape = (18366, 780), X_test shape = (6122, 780)\n",
      "X_train shape = (18366, 10), X_test shape = (6122, 10)\n",
      "X_train shape = (18366, 28), X_test shape = (6122, 28)\n",
      "X_train shape = (18366, 15), X_test shape = (6122, 15)\n",
      "X_train shape = (18366, 15), X_test shape = (6122, 15)\n",
      "X_train shape = (18366, 21), X_test shape = (6122, 21)\n",
      "X_train shape = (18366, 36), X_test shape = (6122, 36)\n",
      "X_train shape = (18366, 36), X_test shape = (6122, 36)\n",
      "X_train shape = (18366, 45), X_test shape = (6122, 45)\n",
      "X_train shape = (18366, 55), X_test shape = (6122, 55)\n",
      "X_train shape = (18366, 66), X_test shape = (6122, 66)\n",
      "X_train shape = (18366, 66), X_test shape = (6122, 66)\n",
      "X_train shape = (18366, 78), X_test shape = (6122, 78)\n"
     ]
    }
   ],
   "source": [
    "poly = PolynomialFeatures(degree = 2)\n",
    "scores = include_features(default_lasso, dev_df, features_lists, poly = poly)"
   ]
  },
  {
   "cell_type": "code",
   "execution_count": 124,
   "id": "e607aaec-c502-4844-9d64-8099656495b5",
   "metadata": {},
   "outputs": [
    {
     "name": "stdout",
     "output_type": "stream",
     "text": [
      "\n",
      "Coefficients:\n",
      "YEAR^2 -0.01810505343297444\n",
      "YEAR TIT -0.29749713342734685\n",
      "YEAR NOX 0.035004405965254885\n",
      "TIT^2 0.18433905696919742\n",
      "NOX^2 0.02839130476537028\n",
      "mse:2.5187631219084934\n",
      "\n",
      "Coefficients:\n",
      "mse:5.179609728446949\n",
      "\n",
      "Coefficients:\n",
      "TIT -0.10106135969478913\n",
      "TIT^2 0.5529454687067905\n",
      "mse:2.9648709169375977\n",
      "\n",
      "Coefficients:\n",
      "NOX^2 0.3220124088685398\n",
      "mse:4.007002217097596\n",
      "\n",
      "Coefficients:\n",
      "AH YEAR 0.001374962043172018\n",
      "YEAR^2 -0.03268206445263081\n",
      "mse:5.008478731204563\n",
      "\n",
      "Coefficients:\n",
      "NOX^2 0.30350796648652095\n",
      "NOX YEAR 0.015451625893011306\n",
      "YEAR^2 -0.03141866077553242\n",
      "mse:3.864590972219884\n",
      "\n",
      "Coefficients:\n",
      "TIT -0.054653592382052474\n",
      "TIT^2 0.4583725462503874\n",
      "NOX^2 0.1571272427849665\n",
      "mse:2.863577494603666\n",
      "\n",
      "Coefficients:\n",
      "TIT^2 0.21677500410903502\n",
      "TIT YEAR -0.30505515173748476\n",
      "YEAR^2 -0.014793536961593572\n",
      "mse:2.5886541748878686\n",
      "\n",
      "Coefficients:\n",
      "TIT^2 0.18430158655356127\n",
      "TIT YEAR -0.2975136301932112\n",
      "NOX^2 0.02838899188004799\n",
      "NOX YEAR 0.03500793570356147\n",
      "YEAR^2 -0.018104370614654062\n",
      "mse:2.518817178796338\n",
      "\n",
      "Coefficients:\n",
      "TIT -0.10106135969478913\n",
      "TIT^2 0.5529454687067905\n",
      "mse:2.9648709169375977\n",
      "\n",
      "Coefficients:\n",
      "TIT -0.054653592382052474\n",
      "TIT^2 0.4583725462503874\n",
      "NOX^2 0.1571272427849665\n",
      "mse:2.863577494603666\n",
      "\n",
      "Coefficients:\n",
      "TIT^2 0.21677500410903502\n",
      "TIT YEAR -0.30505515173748476\n",
      "YEAR^2 -0.014793536961593572\n",
      "mse:2.5886541748878686\n",
      "\n",
      "Coefficients:\n",
      "TIT^2 0.18430158655356127\n",
      "TIT YEAR -0.2975136301932112\n",
      "NOX^2 0.02838899188004799\n",
      "NOX YEAR 0.03500793570356147\n",
      "YEAR^2 -0.018104370614654062\n",
      "mse:2.518817178796338\n"
     ]
    }
   ],
   "source": [
    "print_scores(scores, only_mse = True, print_coef=True)"
   ]
  },
  {
   "cell_type": "markdown",
   "id": "9ae338df-f1e1-4c64-93da-a63fd0f52e7a",
   "metadata": {},
   "source": [
    "# LinearRegression"
   ]
  },
  {
   "cell_type": "code",
   "execution_count": 125,
   "id": "5988cc3b-9703-43c2-9256-f9de573d54f0",
   "metadata": {},
   "outputs": [
    {
     "name": "stdout",
     "output_type": "stream",
     "text": [
      "X_train shape = (18366, 38), X_test shape = (6122, 38)\n",
      "X_train shape = (18366, 3), X_test shape = (6122, 3)\n",
      "X_train shape = (18366, 6), X_test shape = (6122, 6)\n",
      "X_train shape = (18366, 4), X_test shape = (6122, 4)\n",
      "X_train shape = (18366, 4), X_test shape = (6122, 4)\n",
      "X_train shape = (18366, 5), X_test shape = (6122, 5)\n",
      "X_train shape = (18366, 7), X_test shape = (6122, 7)\n",
      "X_train shape = (18366, 7), X_test shape = (6122, 7)\n",
      "X_train shape = (18366, 8), X_test shape = (6122, 8)\n",
      "X_train shape = (18366, 9), X_test shape = (6122, 9)\n",
      "X_train shape = (18366, 10), X_test shape = (6122, 10)\n",
      "X_train shape = (18366, 10), X_test shape = (6122, 10)\n",
      "X_train shape = (18366, 11), X_test shape = (6122, 11)\n"
     ]
    }
   ],
   "source": [
    "linear = LinearRegression()\n",
    "scores = include_features(linear, dev_df, features_lists, poly = None)"
   ]
  },
  {
   "cell_type": "code",
   "execution_count": 126,
   "id": "b69398c3-056d-40cd-a4ef-33e4da6dc7c5",
   "metadata": {},
   "outputs": [
    {
     "name": "stdout",
     "output_type": "stream",
     "text": [
      "\n",
      "Coefficients:\n",
      "YEAR -0.5471514014572199\n",
      "AT 0.340646677350231\n",
      "AP 0.050801317006002086\n",
      "AH 0.1620495962450336\n",
      "AFDP 0.013786075391155936\n",
      "GTEP -0.10523974799543677\n",
      "TIT 0.06647338808978134\n",
      "TAT -1.4423019437560445\n",
      "TEY -2.107323135520473\n",
      "CDP 0.03513882414716826\n",
      "NOX 0.7731363801321904\n",
      "Austria -718172304639.6368\n",
      "Belgium -718172304639.5671\n",
      "Bulgaria -718172304639.5255\n",
      "Croatia -718172304639.612\n",
      "Czech Republic -718172304639.5641\n",
      "Denmark -718172304639.6005\n",
      "Estonia -718172304639.6407\n",
      "Finland -718172304639.644\n",
      "France -718172304639.5696\n",
      "Germany -718172304639.6019\n",
      "Greece -718172304639.6326\n",
      "Hungary -718172304639.5051\n",
      "Ireland -718172304639.5187\n",
      "Italy -718172304639.6119\n",
      "Latvia -718172304639.6218\n",
      "Lithuania -718172304639.3953\n",
      "Luxembourg -718172304639.5763\n",
      "Malta -718172304639.5612\n",
      "Netherlands -718172304639.569\n",
      "Poland -718172304639.569\n",
      "Portugal -718172304639.6519\n",
      "Republic of Cyprus -718172304639.6097\n",
      "Romania -718172304639.5398\n",
      "Slovakia -718172304639.6279\n",
      "Slovenia -718172304639.6257\n",
      "Spain -718172304639.5203\n",
      "Sweden -718172304639.4961\n",
      "mse:1.7052814272152703\n",
      "\n",
      "Coefficients:\n",
      "AT -0.35210569130262315\n",
      "AP -0.0018281223428420756\n",
      "AH 0.08366085362738865\n",
      "mse:5.009653172901974\n",
      "\n",
      "Coefficients:\n",
      "AFDP -0.13933839036617607\n",
      "GTEP 0.24802874113847023\n",
      "TIT -1.6131882500892447\n",
      "TAT -0.6174467219281421\n",
      "TEY -1.3304535011497018\n",
      "CDP 0.9591495459629001\n",
      "mse:2.2211369780054806\n",
      "\n",
      "Coefficients:\n",
      "AT 0.22248823586593594\n",
      "AP 0.06442929006471865\n",
      "AH 0.20891034745142756\n",
      "NOX 0.839177978744015\n",
      "mse:4.454323817916602\n",
      "\n",
      "Coefficients:\n",
      "AT -0.2946862395574016\n",
      "AP 0.01721348739342965\n",
      "AH 0.1919877643353082\n",
      "YEAR -0.3026516839639749\n",
      "mse:4.797901575459193\n",
      "\n",
      "Coefficients:\n",
      "AT 0.6224631679672832\n",
      "AP 0.13508213344432285\n",
      "AH 0.4853273210676282\n",
      "NOX 1.2577033479572544\n",
      "YEAR -0.5977519563578333\n",
      "mse:3.792079701439588\n",
      "\n",
      "Coefficients:\n",
      "AFDP -0.10160172147827581\n",
      "GTEP 0.5640689833199651\n",
      "TIT -2.2500245219772017\n",
      "TAT 0.03776593530901045\n",
      "TEY -2.9098806502846832\n",
      "CDP 3.3340692708856507\n",
      "NOX 0.6199042360014376\n",
      "mse:1.930737770647919\n",
      "\n",
      "Coefficients:\n",
      "AFDP -0.013379985376811737\n",
      "GTEP -0.34245901016378155\n",
      "TIT 0.7002432884499608\n",
      "TAT -1.9659052697875783\n",
      "TEY -1.4102293334155016\n",
      "CDP -1.5088933659357953\n",
      "YEAR -0.4579946210386508\n",
      "mse:2.066677153971466\n",
      "\n",
      "Coefficients:\n",
      "AFDP 0.04797021233092784\n",
      "GTEP -0.09162296571102146\n",
      "TIT 0.3743662809621532\n",
      "TAT -1.4657333383596338\n",
      "TEY -3.148174370959422\n",
      "CDP 0.6907677472928511\n",
      "NOX 0.677116271960852\n",
      "YEAR -0.5311915903769566\n",
      "mse:1.7279172797820646\n",
      "\n",
      "Coefficients:\n",
      "AT -0.4191348948352504\n",
      "AP -0.038027293142838155\n",
      "AH -0.11254750610119095\n",
      "AFDP -0.09844242933366025\n",
      "GTEP 0.4054108035380054\n",
      "TIT -1.2142463613987098\n",
      "TAT -0.561309925758334\n",
      "TEY -3.193247495822706\n",
      "CDP 2.2822796657136397\n",
      "mse:2.202149680924359\n",
      "\n",
      "Coefficients:\n",
      "AT 0.38777247134102466\n",
      "AP 0.053392547248226396\n",
      "AH 0.08297171717504809\n",
      "AFDP -0.1276824327156902\n",
      "GTEP 0.4695784989447398\n",
      "TIT -2.7039663569452483\n",
      "TAT 0.07624924357882473\n",
      "TEY -1.3720803881352908\n",
      "CDP 2.386044200708235\n",
      "NOX 0.7113515100346729\n",
      "mse:1.9056504367981988\n",
      "\n",
      "Coefficients:\n",
      "AT -0.521863704283366\n",
      "AP -0.047293065152440444\n",
      "AH -0.05786162677851665\n",
      "AFDP 0.02877496285483104\n",
      "GTEP -0.10626571079639824\n",
      "TIT 1.3304250997738563\n",
      "TAT -1.9426030807935144\n",
      "TEY -3.973692955585017\n",
      "CDP 0.20905771964965889\n",
      "YEAR -0.4805371803822194\n",
      "mse:2.0406473436768877\n",
      "\n",
      "Coefficients:\n",
      "AT 0.3415118550211151\n",
      "AP 0.050850241076865754\n",
      "AH 0.16226603062740802\n",
      "AFDP 0.014444196410974441\n",
      "GTEP -0.10673759408341034\n",
      "TIT 0.05978947724336903\n",
      "TAT -1.438930230282276\n",
      "TEY -2.1003984929344828\n",
      "CDP 0.037250119327162046\n",
      "NOX 0.7735667066173445\n",
      "YEAR -0.5465135597927964\n",
      "mse:1.703407090661603\n"
     ]
    }
   ],
   "source": [
    "print_scores(scores, only_mse = True, print_coef=True)"
   ]
  }
 ],
 "metadata": {
  "kernelspec": {
   "display_name": "Python 3 (ipykernel)",
   "language": "python",
   "name": "python3"
  },
  "language_info": {
   "codemirror_mode": {
    "name": "ipython",
    "version": 3
   },
   "file_extension": ".py",
   "mimetype": "text/x-python",
   "name": "python",
   "nbconvert_exporter": "python",
   "pygments_lexer": "ipython3",
   "version": "3.8.10"
  }
 },
 "nbformat": 4,
 "nbformat_minor": 5
}
