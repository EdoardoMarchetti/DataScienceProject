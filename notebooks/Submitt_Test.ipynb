{
 "cells": [
  {
   "cell_type": "code",
   "execution_count": 20,
   "metadata": {},
   "outputs": [],
   "source": [
    "import numpy as np\n",
    "import pandas as pd\n",
    "import matplotlib.pyplot as plt\n",
    "\n",
    "%matplotlib inline\n",
    "\n",
    "from sklearn.model_selection import train_test_split, validation_curve\n",
    "from sklearn.ensemble import RandomForestRegressor\n",
    "from sklearn.metrics import mean_squared_error as mse\n",
    "from sklearn.preprocessing import PolynomialFeatures\n",
    "\n",
    "%matplotlib inline\n",
    "\n",
    "plt.rcParams[\"figure.figsize\"] = (10, 6)"
   ]
  },
  {
   "cell_type": "code",
   "execution_count": 21,
   "metadata": {},
   "outputs": [
    {
     "data": {
      "text/html": [
       "<div>\n",
       "<style scoped>\n",
       "    .dataframe tbody tr th:only-of-type {\n",
       "        vertical-align: middle;\n",
       "    }\n",
       "\n",
       "    .dataframe tbody tr th {\n",
       "        vertical-align: top;\n",
       "    }\n",
       "\n",
       "    .dataframe thead th {\n",
       "        text-align: right;\n",
       "    }\n",
       "</style>\n",
       "<table border=\"1\" class=\"dataframe\">\n",
       "  <thead>\n",
       "    <tr style=\"text-align: right;\">\n",
       "      <th></th>\n",
       "      <th>YEAR</th>\n",
       "      <th>AT</th>\n",
       "      <th>AP</th>\n",
       "      <th>AH</th>\n",
       "      <th>AFDP</th>\n",
       "      <th>GTEP</th>\n",
       "      <th>TIT</th>\n",
       "      <th>TAT</th>\n",
       "      <th>TEY</th>\n",
       "      <th>CDP</th>\n",
       "      <th>...</th>\n",
       "      <th>Malta</th>\n",
       "      <th>Netherlands</th>\n",
       "      <th>Poland</th>\n",
       "      <th>Portugal</th>\n",
       "      <th>Republic of Cyprus</th>\n",
       "      <th>Romania</th>\n",
       "      <th>Slovakia</th>\n",
       "      <th>Slovenia</th>\n",
       "      <th>Spain</th>\n",
       "      <th>Sweden</th>\n",
       "    </tr>\n",
       "    <tr>\n",
       "      <th>ID</th>\n",
       "      <th></th>\n",
       "      <th></th>\n",
       "      <th></th>\n",
       "      <th></th>\n",
       "      <th></th>\n",
       "      <th></th>\n",
       "      <th></th>\n",
       "      <th></th>\n",
       "      <th></th>\n",
       "      <th></th>\n",
       "      <th></th>\n",
       "      <th></th>\n",
       "      <th></th>\n",
       "      <th></th>\n",
       "      <th></th>\n",
       "      <th></th>\n",
       "      <th></th>\n",
       "      <th></th>\n",
       "      <th></th>\n",
       "      <th></th>\n",
       "      <th></th>\n",
       "    </tr>\n",
       "  </thead>\n",
       "  <tbody>\n",
       "    <tr>\n",
       "      <th>0</th>\n",
       "      <td>5</td>\n",
       "      <td>0.961592</td>\n",
       "      <td>-0.964193</td>\n",
       "      <td>-1.524936</td>\n",
       "      <td>-0.724114</td>\n",
       "      <td>-0.769905</td>\n",
       "      <td>-0.564983</td>\n",
       "      <td>0.563634</td>\n",
       "      <td>-0.872408</td>\n",
       "      <td>-0.813978</td>\n",
       "      <td>...</td>\n",
       "      <td>0</td>\n",
       "      <td>0</td>\n",
       "      <td>0</td>\n",
       "      <td>0</td>\n",
       "      <td>0</td>\n",
       "      <td>0</td>\n",
       "      <td>0</td>\n",
       "      <td>0</td>\n",
       "      <td>0</td>\n",
       "      <td>0</td>\n",
       "    </tr>\n",
       "    <tr>\n",
       "      <th>1</th>\n",
       "      <td>5</td>\n",
       "      <td>-0.455031</td>\n",
       "      <td>1.708863</td>\n",
       "      <td>0.275700</td>\n",
       "      <td>-0.837779</td>\n",
       "      <td>-1.312530</td>\n",
       "      <td>-2.518071</td>\n",
       "      <td>-1.827585</td>\n",
       "      <td>-1.499082</td>\n",
       "      <td>-1.254529</td>\n",
       "      <td>...</td>\n",
       "      <td>0</td>\n",
       "      <td>0</td>\n",
       "      <td>0</td>\n",
       "      <td>0</td>\n",
       "      <td>0</td>\n",
       "      <td>1</td>\n",
       "      <td>0</td>\n",
       "      <td>0</td>\n",
       "      <td>0</td>\n",
       "      <td>0</td>\n",
       "    </tr>\n",
       "    <tr>\n",
       "      <th>2</th>\n",
       "      <td>5</td>\n",
       "      <td>-0.827587</td>\n",
       "      <td>-0.608815</td>\n",
       "      <td>0.036992</td>\n",
       "      <td>1.274906</td>\n",
       "      <td>0.732639</td>\n",
       "      <td>0.714232</td>\n",
       "      <td>-0.988535</td>\n",
       "      <td>0.880742</td>\n",
       "      <td>0.848897</td>\n",
       "      <td>...</td>\n",
       "      <td>0</td>\n",
       "      <td>0</td>\n",
       "      <td>0</td>\n",
       "      <td>0</td>\n",
       "      <td>0</td>\n",
       "      <td>0</td>\n",
       "      <td>0</td>\n",
       "      <td>0</td>\n",
       "      <td>0</td>\n",
       "      <td>1</td>\n",
       "    </tr>\n",
       "    <tr>\n",
       "      <th>3</th>\n",
       "      <td>5</td>\n",
       "      <td>1.052456</td>\n",
       "      <td>-1.551338</td>\n",
       "      <td>-0.007405</td>\n",
       "      <td>-0.894806</td>\n",
       "      <td>-1.145422</td>\n",
       "      <td>-1.101797</td>\n",
       "      <td>0.551920</td>\n",
       "      <td>-1.323511</td>\n",
       "      <td>-1.317071</td>\n",
       "      <td>...</td>\n",
       "      <td>0</td>\n",
       "      <td>0</td>\n",
       "      <td>0</td>\n",
       "      <td>0</td>\n",
       "      <td>0</td>\n",
       "      <td>0</td>\n",
       "      <td>0</td>\n",
       "      <td>0</td>\n",
       "      <td>0</td>\n",
       "      <td>0</td>\n",
       "    </tr>\n",
       "    <tr>\n",
       "      <th>4</th>\n",
       "      <td>5</td>\n",
       "      <td>-0.568511</td>\n",
       "      <td>-0.299791</td>\n",
       "      <td>1.282019</td>\n",
       "      <td>0.349324</td>\n",
       "      <td>-0.314415</td>\n",
       "      <td>0.268791</td>\n",
       "      <td>0.570956</td>\n",
       "      <td>0.016982</td>\n",
       "      <td>-0.124179</td>\n",
       "      <td>...</td>\n",
       "      <td>0</td>\n",
       "      <td>0</td>\n",
       "      <td>0</td>\n",
       "      <td>0</td>\n",
       "      <td>0</td>\n",
       "      <td>0</td>\n",
       "      <td>0</td>\n",
       "      <td>0</td>\n",
       "      <td>0</td>\n",
       "      <td>0</td>\n",
       "    </tr>\n",
       "  </tbody>\n",
       "</table>\n",
       "<p>5 rows × 39 columns</p>\n",
       "</div>"
      ],
      "text/plain": [
       "    YEAR        AT        AP        AH      AFDP      GTEP       TIT  \\\n",
       "ID                                                                     \n",
       "0      5  0.961592 -0.964193 -1.524936 -0.724114 -0.769905 -0.564983   \n",
       "1      5 -0.455031  1.708863  0.275700 -0.837779 -1.312530 -2.518071   \n",
       "2      5 -0.827587 -0.608815  0.036992  1.274906  0.732639  0.714232   \n",
       "3      5  1.052456 -1.551338 -0.007405 -0.894806 -1.145422 -1.101797   \n",
       "4      5 -0.568511 -0.299791  1.282019  0.349324 -0.314415  0.268791   \n",
       "\n",
       "         TAT       TEY       CDP  ...  Malta  Netherlands  Poland  Portugal  \\\n",
       "ID                                ...                                         \n",
       "0   0.563634 -0.872408 -0.813978  ...      0            0       0         0   \n",
       "1  -1.827585 -1.499082 -1.254529  ...      0            0       0         0   \n",
       "2  -0.988535  0.880742  0.848897  ...      0            0       0         0   \n",
       "3   0.551920 -1.323511 -1.317071  ...      0            0       0         0   \n",
       "4   0.570956  0.016982 -0.124179  ...      0            0       0         0   \n",
       "\n",
       "    Republic of Cyprus  Romania  Slovakia  Slovenia  Spain  Sweden  \n",
       "ID                                                                  \n",
       "0                    0        0         0         0      0       0  \n",
       "1                    0        1         0         0      0       0  \n",
       "2                    0        0         0         0      0       1  \n",
       "3                    0        0         0         0      0       0  \n",
       "4                    0        0         0         0      0       0  \n",
       "\n",
       "[5 rows x 39 columns]"
      ]
     },
     "execution_count": 21,
     "metadata": {},
     "output_type": "execute_result"
    }
   ],
   "source": [
    "standard_df = pd.read_csv(\"processed_dataset/std_dataset.csv\", index_col=0)\n",
    "standard_df.head()"
   ]
  },
  {
   "cell_type": "code",
   "execution_count": 22,
   "metadata": {},
   "outputs": [],
   "source": [
    "countries = ['Austria', 'Belgium', 'Bulgaria', 'Croatia',\n",
    "       'Czech Republic', 'Denmark', 'Estonia', 'Finland', 'France', 'Germany',\n",
    "       'Greece', 'Hungary', 'Ireland', 'Italy', 'Latvia', 'Lithuania',\n",
    "       'Luxembourg', 'Malta', 'Netherlands', 'Poland', 'Portugal',\n",
    "       'Republic of Cyprus', 'Romania', 'Slovakia', 'Slovenia', 'Spain',\n",
    "       'Sweden']"
   ]
  },
  {
   "cell_type": "code",
   "execution_count": 23,
   "metadata": {},
   "outputs": [
    {
     "data": {
      "text/plain": [
       "(24488, 10)"
      ]
     },
     "execution_count": 23,
     "metadata": {},
     "output_type": "execute_result"
    }
   ],
   "source": [
    "dev_df = standard_df.loc[:24487]\n",
    "dev_df = dev_df.drop(columns = list(countries + ['TEY', 'CDP']))\n",
    "dev_df.shape"
   ]
  },
  {
   "cell_type": "code",
   "execution_count": 5,
   "metadata": {},
   "outputs": [
    {
     "data": {
      "text/plain": [
       "(12245, 10)"
      ]
     },
     "execution_count": 5,
     "metadata": {},
     "output_type": "execute_result"
    }
   ],
   "source": [
    "eval_df = standard_df.loc[24488:]\n",
    "eval_df = eval_df.drop(columns= list(countries + ['TEY', 'CDP']))\n",
    "eval_df.shape"
   ]
  },
  {
   "cell_type": "code",
   "execution_count": 24,
   "metadata": {},
   "outputs": [],
   "source": [
    "poly = PolynomialFeatures(degree=3)"
   ]
  },
  {
   "cell_type": "code",
   "execution_count": 25,
   "metadata": {},
   "outputs": [
    {
     "data": {
      "text/plain": [
       "(24488, 220)"
      ]
     },
     "execution_count": 25,
     "metadata": {},
     "output_type": "execute_result"
    }
   ],
   "source": [
    "X = poly.fit_transform(dev_df.drop(columns='CO'))\n",
    "X.shape"
   ]
  },
  {
   "cell_type": "code",
   "execution_count": 26,
   "metadata": {},
   "outputs": [],
   "source": [
    "X_train, X_test, y_train, y_test = train_test_split(X, dev_df['CO'], test_size=0.25, random_state=42)"
   ]
  },
  {
   "cell_type": "code",
   "execution_count": 27,
   "metadata": {},
   "outputs": [],
   "source": [
    "rf = RandomForestRegressor(bootstrap=False, max_depth=110, max_features='sqrt', \n",
    "                           min_samples_leaf=2, n_estimators=300, random_state=42)"
   ]
  },
  {
   "cell_type": "code",
   "execution_count": 28,
   "metadata": {},
   "outputs": [
    {
     "data": {
      "text/html": [
       "<style>#sk-container-id-2 {color: black;background-color: white;}#sk-container-id-2 pre{padding: 0;}#sk-container-id-2 div.sk-toggleable {background-color: white;}#sk-container-id-2 label.sk-toggleable__label {cursor: pointer;display: block;width: 100%;margin-bottom: 0;padding: 0.3em;box-sizing: border-box;text-align: center;}#sk-container-id-2 label.sk-toggleable__label-arrow:before {content: \"▸\";float: left;margin-right: 0.25em;color: #696969;}#sk-container-id-2 label.sk-toggleable__label-arrow:hover:before {color: black;}#sk-container-id-2 div.sk-estimator:hover label.sk-toggleable__label-arrow:before {color: black;}#sk-container-id-2 div.sk-toggleable__content {max-height: 0;max-width: 0;overflow: hidden;text-align: left;background-color: #f0f8ff;}#sk-container-id-2 div.sk-toggleable__content pre {margin: 0.2em;color: black;border-radius: 0.25em;background-color: #f0f8ff;}#sk-container-id-2 input.sk-toggleable__control:checked~div.sk-toggleable__content {max-height: 200px;max-width: 100%;overflow: auto;}#sk-container-id-2 input.sk-toggleable__control:checked~label.sk-toggleable__label-arrow:before {content: \"▾\";}#sk-container-id-2 div.sk-estimator input.sk-toggleable__control:checked~label.sk-toggleable__label {background-color: #d4ebff;}#sk-container-id-2 div.sk-label input.sk-toggleable__control:checked~label.sk-toggleable__label {background-color: #d4ebff;}#sk-container-id-2 input.sk-hidden--visually {border: 0;clip: rect(1px 1px 1px 1px);clip: rect(1px, 1px, 1px, 1px);height: 1px;margin: -1px;overflow: hidden;padding: 0;position: absolute;width: 1px;}#sk-container-id-2 div.sk-estimator {font-family: monospace;background-color: #f0f8ff;border: 1px dotted black;border-radius: 0.25em;box-sizing: border-box;margin-bottom: 0.5em;}#sk-container-id-2 div.sk-estimator:hover {background-color: #d4ebff;}#sk-container-id-2 div.sk-parallel-item::after {content: \"\";width: 100%;border-bottom: 1px solid gray;flex-grow: 1;}#sk-container-id-2 div.sk-label:hover label.sk-toggleable__label {background-color: #d4ebff;}#sk-container-id-2 div.sk-serial::before {content: \"\";position: absolute;border-left: 1px solid gray;box-sizing: border-box;top: 0;bottom: 0;left: 50%;z-index: 0;}#sk-container-id-2 div.sk-serial {display: flex;flex-direction: column;align-items: center;background-color: white;padding-right: 0.2em;padding-left: 0.2em;position: relative;}#sk-container-id-2 div.sk-item {position: relative;z-index: 1;}#sk-container-id-2 div.sk-parallel {display: flex;align-items: stretch;justify-content: center;background-color: white;position: relative;}#sk-container-id-2 div.sk-item::before, #sk-container-id-2 div.sk-parallel-item::before {content: \"\";position: absolute;border-left: 1px solid gray;box-sizing: border-box;top: 0;bottom: 0;left: 50%;z-index: -1;}#sk-container-id-2 div.sk-parallel-item {display: flex;flex-direction: column;z-index: 1;position: relative;background-color: white;}#sk-container-id-2 div.sk-parallel-item:first-child::after {align-self: flex-end;width: 50%;}#sk-container-id-2 div.sk-parallel-item:last-child::after {align-self: flex-start;width: 50%;}#sk-container-id-2 div.sk-parallel-item:only-child::after {width: 0;}#sk-container-id-2 div.sk-dashed-wrapped {border: 1px dashed gray;margin: 0 0.4em 0.5em 0.4em;box-sizing: border-box;padding-bottom: 0.4em;background-color: white;}#sk-container-id-2 div.sk-label label {font-family: monospace;font-weight: bold;display: inline-block;line-height: 1.2em;}#sk-container-id-2 div.sk-label-container {text-align: center;}#sk-container-id-2 div.sk-container {/* jupyter's `normalize.less` sets `[hidden] { display: none; }` but bootstrap.min.css set `[hidden] { display: none !important; }` so we also need the `!important` here to be able to override the default hidden behavior on the sphinx rendered scikit-learn.org. See: https://github.com/scikit-learn/scikit-learn/issues/21755 */display: inline-block !important;position: relative;}#sk-container-id-2 div.sk-text-repr-fallback {display: none;}</style><div id=\"sk-container-id-2\" class=\"sk-top-container\"><div class=\"sk-text-repr-fallback\"><pre>RandomForestRegressor(bootstrap=False, max_depth=110, max_features=&#x27;sqrt&#x27;,\n",
       "                      min_samples_leaf=2, n_estimators=300, random_state=42)</pre><b>In a Jupyter environment, please rerun this cell to show the HTML representation or trust the notebook. <br />On GitHub, the HTML representation is unable to render, please try loading this page with nbviewer.org.</b></div><div class=\"sk-container\" hidden><div class=\"sk-item\"><div class=\"sk-estimator sk-toggleable\"><input class=\"sk-toggleable__control sk-hidden--visually\" id=\"sk-estimator-id-2\" type=\"checkbox\" checked><label for=\"sk-estimator-id-2\" class=\"sk-toggleable__label sk-toggleable__label-arrow\">RandomForestRegressor</label><div class=\"sk-toggleable__content\"><pre>RandomForestRegressor(bootstrap=False, max_depth=110, max_features=&#x27;sqrt&#x27;,\n",
       "                      min_samples_leaf=2, n_estimators=300, random_state=42)</pre></div></div></div></div></div>"
      ],
      "text/plain": [
       "RandomForestRegressor(bootstrap=False, max_depth=110, max_features='sqrt',\n",
       "                      min_samples_leaf=2, n_estimators=300, random_state=42)"
      ]
     },
     "execution_count": 28,
     "metadata": {},
     "output_type": "execute_result"
    }
   ],
   "source": [
    "rf.fit(X_train, y_train)"
   ]
  },
  {
   "cell_type": "code",
   "execution_count": 43,
   "metadata": {},
   "outputs": [
    {
     "data": {
      "text/plain": [
       "1.1770907951478295"
      ]
     },
     "execution_count": 43,
     "metadata": {},
     "output_type": "execute_result"
    }
   ],
   "source": [
    "y_pred = rf.predict(X_test)\n",
    "mse(y_test, y_pred)"
   ]
  },
  {
   "cell_type": "code",
   "execution_count": 59,
   "metadata": {},
   "outputs": [
    {
     "name": "stdout",
     "output_type": "stream",
     "text": [
      "1.0000000000000004 0.89424663638431\n",
      "['YEAR', 'AFDP', 'GTEP', 'TIT', 'TAT', 'NOX', 'YEAR^2', 'YEAR AT', 'YEAR AFDP', 'YEAR GTEP', 'YEAR TIT', 'YEAR TAT', 'AT GTEP', 'AT TIT', 'AH TAT', 'AFDP^2', 'AFDP GTEP', 'AFDP TIT', 'AFDP TAT', 'AFDP NOX', 'GTEP^2', 'GTEP TIT', 'GTEP TAT', 'GTEP NOX', 'TIT^2', 'TIT TAT', 'TIT NOX', 'TAT^2', 'TAT NOX', 'YEAR^3', 'YEAR^2 AT', 'YEAR^2 AFDP', 'YEAR^2 GTEP', 'YEAR^2 TIT', 'YEAR^2 TAT', 'YEAR^2 NOX', 'YEAR AT GTEP', 'YEAR AT TIT', 'YEAR AT TAT', 'YEAR AH TAT', 'YEAR AFDP^2', 'YEAR AFDP GTEP', 'YEAR AFDP TIT', 'YEAR AFDP TAT', 'YEAR AFDP NOX', 'YEAR GTEP^2', 'YEAR GTEP TIT', 'YEAR GTEP TAT', 'YEAR GTEP NOX', 'YEAR TIT^2', 'YEAR TIT TAT', 'YEAR TIT NOX', 'YEAR TAT^2', 'YEAR TAT NOX', 'AT^2 TIT', 'AT^2 TAT', 'AT AH TAT', 'AT AFDP^2', 'AT AFDP TAT', 'AT GTEP^2', 'AT TIT^2', 'AT TIT TAT', 'AT TIT NOX', 'AT TAT^2', 'AT TAT NOX', 'AP^2 GTEP', 'AP^2 TIT', 'AP^2 TAT', 'AP TIT NOX', 'AP TAT^2', 'AH^2 TIT', 'AH^2 TAT', 'AH TIT^2', 'AH TIT TAT', 'AH TAT^2', 'AFDP^3', 'AFDP^2 GTEP', 'AFDP^2 TIT', 'AFDP^2 TAT', 'AFDP^2 NOX', 'AFDP GTEP^2', 'AFDP GTEP TIT', 'AFDP GTEP TAT', 'AFDP GTEP NOX', 'AFDP TIT^2', 'AFDP TIT TAT', 'AFDP TIT NOX', 'AFDP TAT^2', 'AFDP TAT NOX', 'AFDP NOX^2', 'GTEP^3', 'GTEP^2 TIT', 'GTEP^2 TAT', 'GTEP^2 NOX', 'GTEP TIT^2', 'GTEP TIT TAT', 'GTEP TIT NOX', 'GTEP TAT^2', 'GTEP TAT NOX', 'GTEP NOX^2', 'TIT^3', 'TIT^2 TAT', 'TIT^2 NOX', 'TIT TAT^2', 'TIT TAT NOX', 'TIT NOX^2', 'TAT^3', 'TAT^2 NOX', 'TAT NOX^2', 'NOX^3']\n"
     ]
    }
   ],
   "source": [
    "cum_sum = 0\n",
    "imp_sum = 0\n",
    "features = []\n",
    "for (f,v) in zip (poly.get_feature_names_out(), rf.feature_importances_):\n",
    "    cum_sum = cum_sum + v\n",
    "    if v>0.0015: \n",
    "        features.append(f)\n",
    "        imp_sum = imp_sum + v\n",
    "print(cum_sum,imp_sum)\n",
    "print(features)"
   ]
  },
  {
   "cell_type": "code",
   "execution_count": 60,
   "metadata": {},
   "outputs": [],
   "source": [
    "df_poly = pd.DataFrame(X, columns=poly.get_feature_names_out())\n",
    "X_train, X_test, y_train, y_test = train_test_split(df_poly, dev_df['CO'], test_size=0.25, random_state=42)"
   ]
  },
  {
   "cell_type": "code",
   "execution_count": 61,
   "metadata": {},
   "outputs": [
    {
     "data": {
      "text/plain": [
       "1.2149431073661583"
      ]
     },
     "execution_count": 61,
     "metadata": {},
     "output_type": "execute_result"
    }
   ],
   "source": [
    "rf_feat = RandomForestRegressor()\n",
    "rf_feat.fit(X_train.loc[:,features], y_train)\n",
    "y_pred_feat = rf_feat.predict(X_test.loc[:,features])\n",
    "mse(y_test, y_pred_feat)"
   ]
  },
  {
   "cell_type": "code",
   "execution_count": 15,
   "metadata": {},
   "outputs": [],
   "source": [
    "evaluation = poly.fit_transform(eval_df.drop(columns='CO'))\n",
    "pred = rf.predict(evaluation)\n"
   ]
  },
  {
   "cell_type": "code",
   "execution_count": 16,
   "metadata": {},
   "outputs": [
    {
     "data": {
      "text/html": [
       "<div>\n",
       "<style scoped>\n",
       "    .dataframe tbody tr th:only-of-type {\n",
       "        vertical-align: middle;\n",
       "    }\n",
       "\n",
       "    .dataframe tbody tr th {\n",
       "        vertical-align: top;\n",
       "    }\n",
       "\n",
       "    .dataframe thead th {\n",
       "        text-align: right;\n",
       "    }\n",
       "</style>\n",
       "<table border=\"1\" class=\"dataframe\">\n",
       "  <thead>\n",
       "    <tr style=\"text-align: right;\">\n",
       "      <th></th>\n",
       "      <th>Id</th>\n",
       "      <th>Predicted</th>\n",
       "    </tr>\n",
       "  </thead>\n",
       "  <tbody>\n",
       "  </tbody>\n",
       "</table>\n",
       "</div>"
      ],
      "text/plain": [
       "Empty DataFrame\n",
       "Columns: [Id, Predicted]\n",
       "Index: []"
      ]
     },
     "execution_count": 16,
     "metadata": {},
     "output_type": "execute_result"
    }
   ],
   "source": [
    "submission_df = pd.DataFrame(columns=['Id','Predicted'])\n",
    "submission_df"
   ]
  },
  {
   "cell_type": "code",
   "execution_count": 17,
   "metadata": {},
   "outputs": [
    {
     "data": {
      "text/html": [
       "<div>\n",
       "<style scoped>\n",
       "    .dataframe tbody tr th:only-of-type {\n",
       "        vertical-align: middle;\n",
       "    }\n",
       "\n",
       "    .dataframe tbody tr th {\n",
       "        vertical-align: top;\n",
       "    }\n",
       "\n",
       "    .dataframe thead th {\n",
       "        text-align: right;\n",
       "    }\n",
       "</style>\n",
       "<table border=\"1\" class=\"dataframe\">\n",
       "  <thead>\n",
       "    <tr style=\"text-align: right;\">\n",
       "      <th></th>\n",
       "      <th>Id</th>\n",
       "      <th>Predicted</th>\n",
       "    </tr>\n",
       "  </thead>\n",
       "  <tbody>\n",
       "    <tr>\n",
       "      <th>0</th>\n",
       "      <td>24488</td>\n",
       "      <td>0.608116</td>\n",
       "    </tr>\n",
       "    <tr>\n",
       "      <th>1</th>\n",
       "      <td>24489</td>\n",
       "      <td>4.893186</td>\n",
       "    </tr>\n",
       "    <tr>\n",
       "      <th>2</th>\n",
       "      <td>24490</td>\n",
       "      <td>1.502217</td>\n",
       "    </tr>\n",
       "    <tr>\n",
       "      <th>3</th>\n",
       "      <td>24491</td>\n",
       "      <td>3.835660</td>\n",
       "    </tr>\n",
       "    <tr>\n",
       "      <th>4</th>\n",
       "      <td>24492</td>\n",
       "      <td>4.388692</td>\n",
       "    </tr>\n",
       "  </tbody>\n",
       "</table>\n",
       "</div>"
      ],
      "text/plain": [
       "      Id  Predicted\n",
       "0  24488   0.608116\n",
       "1  24489   4.893186\n",
       "2  24490   1.502217\n",
       "3  24491   3.835660\n",
       "4  24492   4.388692"
      ]
     },
     "execution_count": 17,
     "metadata": {},
     "output_type": "execute_result"
    }
   ],
   "source": [
    "submission_df['Id'] = eval_df.reset_index()['ID']\n",
    "submission_df['Predicted'] = pred\n",
    "submission_df.head()"
   ]
  },
  {
   "cell_type": "code",
   "execution_count": 19,
   "metadata": {},
   "outputs": [],
   "source": [
    "submission_df.to_csv(\"submission/submission_no_outliers.csv\", index=False)"
   ]
  },
  {
   "cell_type": "code",
   "execution_count": null,
   "metadata": {},
   "outputs": [],
   "source": []
  }
 ],
 "metadata": {
  "kernelspec": {
   "display_name": "Python 3 (ipykernel)",
   "language": "python",
   "name": "python3"
  },
  "language_info": {
   "codemirror_mode": {
    "name": "ipython",
    "version": 3
   },
   "file_extension": ".py",
   "mimetype": "text/x-python",
   "name": "python",
   "nbconvert_exporter": "python",
   "pygments_lexer": "ipython3",
   "version": "3.8.10"
  }
 },
 "nbformat": 4,
 "nbformat_minor": 4
}
