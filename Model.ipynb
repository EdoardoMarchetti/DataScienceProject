{
 "cells": [
  {
   "cell_type": "markdown",
   "id": "d02287d6-7f55-44e5-9b19-c4ba455b02c4",
   "metadata": {},
   "source": [
    "# Configuration"
   ]
  },
  {
   "cell_type": "code",
   "execution_count": 50,
   "id": "28e45c60-beba-4259-b039-9bb36e30cb49",
   "metadata": {},
   "outputs": [],
   "source": [
    "import pandas as pd\n",
    "import numpy as np\n",
    "import matplotlib.pyplot as plt\n",
    "\n",
    "%matplotlib inline\n",
    "\n",
    "from sklearn.ensemble import RandomForestClassifier, RandomForestRegressor\n",
    "from sklearn.model_selection import train_test_split\n",
    "from sklearn.metrics import mean_squared_error as mse\n"
   ]
  },
  {
   "cell_type": "markdown",
   "id": "fe4a652f-ff7f-405e-b995-4a6082bea7d8",
   "metadata": {},
   "source": [
    "# Importing dataset "
   ]
  },
  {
   "cell_type": "code",
   "execution_count": 4,
   "id": "bf50cc34-2ab2-4adc-bf38-0ff246d48a79",
   "metadata": {},
   "outputs": [
    {
     "data": {
      "text/plain": [
       "(36733, 39)"
      ]
     },
     "execution_count": 4,
     "metadata": {},
     "output_type": "execute_result"
    }
   ],
   "source": [
    "std_df = pd.read_csv('processed_dataset/std_dataset.csv', index_col = 0)\n",
    "std_df.shape"
   ]
  },
  {
   "cell_type": "code",
   "execution_count": 6,
   "id": "2cfdff04-e1d3-49bf-9912-2e40a1a1285f",
   "metadata": {},
   "outputs": [
    {
     "data": {
      "text/plain": [
       "(24488, 39)"
      ]
     },
     "execution_count": 6,
     "metadata": {},
     "output_type": "execute_result"
    }
   ],
   "source": [
    "dev_df = std_df.loc[:24487,:]\n",
    "dev_df.shape"
   ]
  },
  {
   "cell_type": "code",
   "execution_count": 8,
   "id": "a3c44500-a30d-438e-9381-42ab1bdeed47",
   "metadata": {},
   "outputs": [
    {
     "data": {
      "text/plain": [
       "(12245, 39)"
      ]
     },
     "execution_count": 8,
     "metadata": {},
     "output_type": "execute_result"
    }
   ],
   "source": [
    "eval_df = std_df.loc[24488:, :]\n",
    "eval_df.shape"
   ]
  },
  {
   "cell_type": "markdown",
   "id": "5ff29167-521c-4e50-9ff5-a04b2ce059c1",
   "metadata": {},
   "source": [
    "# Model building "
   ]
  },
  {
   "cell_type": "code",
   "execution_count": 55,
   "id": "adc0fe15-4466-46e1-9785-1367c046c61c",
   "metadata": {},
   "outputs": [],
   "source": [
    "class Model():\n",
    "    \n",
    "    def __init__(self, model_classifier, standard_regressor, extreme_regressor):\n",
    "        \n",
    "        self.classifier = model_classifier\n",
    "        self.std_regr = standard_regressor\n",
    "        self.ext_regr = extreme_regressor\n",
    "        \n",
    "    def fit(self, X, co_values, binary_labels):\n",
    "        \n",
    "        self.classifier.fit(X,binary_labels)\n",
    "        print('Classifier fitted')\n",
    "        \n",
    "        mask = binary_labels.values == 0\n",
    "        std_X, std_co_values = X.loc[mask,:], co_values.loc[mask]\n",
    "        ext_X, ext_co_values = X.loc[~mask,:], co_values.loc[~mask]\n",
    "        \n",
    "        print(std_X.shape, ext_X.shape)\n",
    "        \n",
    "        self.std_regr.fit(std_X, std_co_values)\n",
    "        print('Standard Regressor fitted')\n",
    "        self.ext_regr.fit(ext_X, ext_co_values)\n",
    "        print('Extrem Regressor fitted')\n",
    "        \n",
    "        return True\n",
    "    \n",
    "    def predict(self,X):\n",
    "        \n",
    "        pred_labels = self.classifier.predict(X)\n",
    "        \n",
    "        mask = pred_labels == 0\n",
    "        std_X = X.loc[mask, :]\n",
    "        ext_X = X.loc[~mask, :]\n",
    "        \n",
    "        std_pred = self.std_regr.predict(std_X)\n",
    "        ext_pred = self.ext_regr.predict(ext_X)\n",
    "        \n",
    "        y_pred = np.zeros(shape = pred_labels.shape)\n",
    "        y_pred[mask] = std_pred\n",
    "        y_pred[~mask] = ext_pred\n",
    "        \n",
    "        return y_pred\n",
    "        \n",
    "        "
   ]
  },
  {
   "cell_type": "code",
   "execution_count": 20,
   "id": "abc85ba2-1d70-42fd-b3d6-e9106b62177e",
   "metadata": {},
   "outputs": [
    {
     "name": "stderr",
     "output_type": "stream",
     "text": [
      "/tmp/ipykernel_2882/3230006167.py:1: SettingWithCopyWarning: \n",
      "A value is trying to be set on a copy of a slice from a DataFrame.\n",
      "Try using .loc[row_indexer,col_indexer] = value instead\n",
      "\n",
      "See the caveats in the documentation: https://pandas.pydata.org/pandas-docs/stable/user_guide/indexing.html#returning-a-view-versus-a-copy\n",
      "  dev_df['labels'] = dev_df['CO'].apply(lambda x : 0 if x < 4.5 else 1)\n"
     ]
    },
    {
     "data": {
      "text/html": [
       "<div>\n",
       "<style scoped>\n",
       "    .dataframe tbody tr th:only-of-type {\n",
       "        vertical-align: middle;\n",
       "    }\n",
       "\n",
       "    .dataframe tbody tr th {\n",
       "        vertical-align: top;\n",
       "    }\n",
       "\n",
       "    .dataframe thead th {\n",
       "        text-align: right;\n",
       "    }\n",
       "</style>\n",
       "<table border=\"1\" class=\"dataframe\">\n",
       "  <thead>\n",
       "    <tr style=\"text-align: right;\">\n",
       "      <th></th>\n",
       "      <th>CO</th>\n",
       "      <th>labels</th>\n",
       "    </tr>\n",
       "    <tr>\n",
       "      <th>ID</th>\n",
       "      <th></th>\n",
       "      <th></th>\n",
       "    </tr>\n",
       "  </thead>\n",
       "  <tbody>\n",
       "    <tr>\n",
       "      <th>0</th>\n",
       "      <td>1.07640</td>\n",
       "      <td>0</td>\n",
       "    </tr>\n",
       "    <tr>\n",
       "      <th>1</th>\n",
       "      <td>10.19600</td>\n",
       "      <td>1</td>\n",
       "    </tr>\n",
       "    <tr>\n",
       "      <th>2</th>\n",
       "      <td>0.78407</td>\n",
       "      <td>0</td>\n",
       "    </tr>\n",
       "    <tr>\n",
       "      <th>3</th>\n",
       "      <td>1.61530</td>\n",
       "      <td>0</td>\n",
       "    </tr>\n",
       "    <tr>\n",
       "      <th>4</th>\n",
       "      <td>1.40710</td>\n",
       "      <td>0</td>\n",
       "    </tr>\n",
       "    <tr>\n",
       "      <th>...</th>\n",
       "      <td>...</td>\n",
       "      <td>...</td>\n",
       "    </tr>\n",
       "    <tr>\n",
       "      <th>24483</th>\n",
       "      <td>1.60010</td>\n",
       "      <td>0</td>\n",
       "    </tr>\n",
       "    <tr>\n",
       "      <th>24484</th>\n",
       "      <td>2.21050</td>\n",
       "      <td>0</td>\n",
       "    </tr>\n",
       "    <tr>\n",
       "      <th>24485</th>\n",
       "      <td>2.00960</td>\n",
       "      <td>0</td>\n",
       "    </tr>\n",
       "    <tr>\n",
       "      <th>24486</th>\n",
       "      <td>5.06680</td>\n",
       "      <td>1</td>\n",
       "    </tr>\n",
       "    <tr>\n",
       "      <th>24487</th>\n",
       "      <td>1.89830</td>\n",
       "      <td>0</td>\n",
       "    </tr>\n",
       "  </tbody>\n",
       "</table>\n",
       "<p>24488 rows × 2 columns</p>\n",
       "</div>"
      ],
      "text/plain": [
       "             CO  labels\n",
       "ID                     \n",
       "0       1.07640       0\n",
       "1      10.19600       1\n",
       "2       0.78407       0\n",
       "3       1.61530       0\n",
       "4       1.40710       0\n",
       "...         ...     ...\n",
       "24483   1.60010       0\n",
       "24484   2.21050       0\n",
       "24485   2.00960       0\n",
       "24486   5.06680       1\n",
       "24487   1.89830       0\n",
       "\n",
       "[24488 rows x 2 columns]"
      ]
     },
     "execution_count": 20,
     "metadata": {},
     "output_type": "execute_result"
    }
   ],
   "source": [
    "dev_df['labels'] = dev_df['CO'].apply(lambda x : 0 if x < 4.5 else 1)\n",
    "dev_df[['CO','labels']]"
   ]
  },
  {
   "cell_type": "code",
   "execution_count": 23,
   "id": "28d4ff28-0877-4c9c-9ade-7052efce42b1",
   "metadata": {},
   "outputs": [
    {
     "data": {
      "text/plain": [
       "21652"
      ]
     },
     "execution_count": 23,
     "metadata": {},
     "output_type": "execute_result"
    }
   ],
   "source": [
    "dev_df['CO'].loc[dev_df['CO'] < 4.5,].count()"
   ]
  },
  {
   "cell_type": "code",
   "execution_count": 25,
   "id": "7d84d671-92fd-4d3d-abb2-834db28dc38d",
   "metadata": {},
   "outputs": [
    {
     "data": {
      "text/plain": [
       "0    21652\n",
       "1     2836\n",
       "Name: labels, dtype: int64"
      ]
     },
     "execution_count": 25,
     "metadata": {},
     "output_type": "execute_result"
    }
   ],
   "source": [
    "dev_df['labels'].value_counts()"
   ]
  },
  {
   "cell_type": "code",
   "execution_count": 75,
   "id": "d29467dc-f0fc-40d7-aa72-6f8c8919ddd3",
   "metadata": {},
   "outputs": [
    {
     "data": {
      "text/plain": [
       "((18366, 38), (6122, 38), (18366, 2), (6122, 2))"
      ]
     },
     "execution_count": 75,
     "metadata": {},
     "output_type": "execute_result"
    }
   ],
   "source": [
    "X = dev_df.drop(columns = ['CO', 'labels'])\n",
    "co_values = dev_df['CO']\n",
    "labels = dev_df['labels']\n",
    "\n",
    "X_train, X_test, y_train, y_test = train_test_split(X, pd.DataFrame({'CO': co_values, 'labels':labels}),\n",
    "                                                    random_state=42, test_size=0.25,\n",
    "                                                    stratify=dev_df['labels'])\n",
    "X_train.shape, X_test.shape, y_train.shape, y_test.shape\n",
    "\n"
   ]
  },
  {
   "cell_type": "code",
   "execution_count": 77,
   "id": "698be4b3-3da5-4ae0-a824-93bc4488d7bc",
   "metadata": {},
   "outputs": [
    {
     "data": {
      "text/plain": [
       "Index(['YEAR', 'AT', 'AP', 'AH', 'AFDP', 'GTEP', 'TIT', 'TAT', 'TEY', 'CDP',\n",
       "       'NOX', 'Austria', 'Belgium', 'Bulgaria', 'Croatia', 'Czech Republic',\n",
       "       'Denmark', 'Estonia', 'Finland', 'France', 'Germany', 'Greece',\n",
       "       'Hungary', 'Ireland', 'Italy', 'Latvia', 'Lithuania', 'Luxembourg',\n",
       "       'Malta', 'Netherlands', 'Poland', 'Portugal', 'Republic of Cyprus',\n",
       "       'Romania', 'Slovakia', 'Slovenia', 'Spain', 'Sweden'],\n",
       "      dtype='object')"
      ]
     },
     "execution_count": 77,
     "metadata": {},
     "output_type": "execute_result"
    }
   ],
   "source": [
    "X_train.columns"
   ]
  },
  {
   "cell_type": "code",
   "execution_count": 78,
   "id": "fbb5df95-b66f-45c3-aca4-2b34d07d1051",
   "metadata": {},
   "outputs": [
    {
     "name": "stdout",
     "output_type": "stream",
     "text": [
      "Classifier fitted\n",
      "(16239, 38) (2127, 38)\n",
      "Standard Regressor fitted\n",
      "Extrem Regressor fitted\n"
     ]
    },
    {
     "data": {
      "text/plain": [
       "True"
      ]
     },
     "execution_count": 78,
     "metadata": {},
     "output_type": "execute_result"
    }
   ],
   "source": [
    "clf = RandomForestClassifier()\n",
    "std_regr = RandomForestRegressor()\n",
    "ext_regr = RandomForestRegressor()\n",
    "\n",
    "model = Model(model_classifier = clf, standard_regressor = std_regr, extreme_regressor=ext_regr)\n",
    "model.fit(X_train, co_values= y_train['CO'], binary_labels=y_train['labels'])"
   ]
  },
  {
   "cell_type": "code",
   "execution_count": 86,
   "id": "88131d89-a677-40e6-a3c2-3807c6fa8607",
   "metadata": {},
   "outputs": [],
   "source": [
    "y_pred = model.predict(X_test)"
   ]
  },
  {
   "cell_type": "code",
   "execution_count": 80,
   "id": "d8f8244f-f7f5-4fab-b40d-5501d94915c6",
   "metadata": {},
   "outputs": [
    {
     "data": {
      "text/plain": [
       "1.4415824649186537"
      ]
     },
     "execution_count": 80,
     "metadata": {},
     "output_type": "execute_result"
    }
   ],
   "source": [
    "mse(y_test['CO'].values, y_pred)"
   ]
  },
  {
   "cell_type": "code",
   "execution_count": 88,
   "id": "f2458479-3f34-4277-b222-822e4ab5e0b8",
   "metadata": {},
   "outputs": [
    {
     "data": {
      "text/plain": [
       "[<matplotlib.lines.Line2D at 0x7ff8dd35ad60>]"
      ]
     },
     "execution_count": 88,
     "metadata": {},
     "output_type": "execute_result"
    },
    {
     "data": {
      "image/png": "[encoded data removed]",
      "text/plain": [
       "<Figure size 432x288 with 1 Axes>"
      ]
     },
     "metadata": {
      "needs_background": "light"
     },
     "output_type": "display_data"
    }
   ],
   "source": [
    "plt.scatter(y_test['CO'].loc[y_test['labels'] == 1].values, y_pred[y_test['labels'] == 1], c = 'red')\n",
    "plt.scatter(y_test['CO'].loc[y_test['labels'] == 0].values, y_pred[y_test['labels'] == 0], c = 'green')\n",
    "plt.plot(np.linspace(0,40), np.linspace(0,40), c = 'orange')"
   ]
  },
  {
   "cell_type": "code",
   "execution_count": 84,
   "id": "ae24d085-2395-4f86-8899-1c871d13d61a",
   "metadata": {},
   "outputs": [
    {
     "data": {
      "text/plain": [
       "<matplotlib.collections.PathCollection at 0x7ff8df402c40>"
      ]
     },
     "execution_count": 84,
     "metadata": {},
     "output_type": "execute_result"
    },
    {
     "data": {
      "image/png": "[encoded data removed]",
      "text/plain": [
       "<Figure size 432x288 with 1 Axes>"
      ]
     },
     "metadata": {
      "needs_background": "light"
     },
     "output_type": "display_data"
    }
   ],
   "source": [
    "y_ext = model.ext_regr.predict(X_test.loc[y_test['labels'] == 1,:])\n",
    "plt.scatter(y_test['CO'].loc[y_test['labels']==1], y_ext)"
   ]
  }
 ],
 "metadata": {
  "kernelspec": {
   "display_name": "Python 3 (ipykernel)",
   "language": "python",
   "name": "python3"
  },
  "language_info": {
   "codemirror_mode": {
    "name": "ipython",
    "version": 3
   },
   "file_extension": ".py",
   "mimetype": "text/x-python",
   "name": "python",
   "nbconvert_exporter": "python",
   "pygments_lexer": "ipython3",
   "version": "3.8.10"
  }
 },
 "nbformat": 4,
 "nbformat_minor": 5
}
