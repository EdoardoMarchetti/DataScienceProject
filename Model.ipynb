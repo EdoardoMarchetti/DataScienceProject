{
 "cells": [
  {
   "cell_type": "markdown",
   "id": "d02287d6-7f55-44e5-9b19-c4ba455b02c4",
   "metadata": {},
   "source": [
    "# Configuration"
   ]
  },
  {
   "cell_type": "code",
   "execution_count": 1,
   "id": "28e45c60-beba-4259-b039-9bb36e30cb49",
   "metadata": {},
   "outputs": [],
   "source": [
    "import pandas as pd\n",
    "import numpy as np\n",
    "import matplotlib.pyplot as plt\n",
    "\n",
    "%matplotlib inline\n",
    "\n",
    "from sklearn.ensemble import RandomForestClassifier, RandomForestRegressor\n",
    "from sklearn.model_selection import train_test_split\n",
    "from sklearn.metrics import mean_squared_error as mse, precision_recall_fscore_support, accuracy_score, confusion_matrix\n",
    "from sklearn.svm import SVC\n",
    "from sklearn.neural_network import MLPClassifier"
   ]
  },
  {
   "cell_type": "markdown",
   "id": "fe4a652f-ff7f-405e-b995-4a6082bea7d8",
   "metadata": {},
   "source": [
    "# Importing dataset "
   ]
  },
  {
   "cell_type": "code",
   "execution_count": 2,
   "id": "bf50cc34-2ab2-4adc-bf38-0ff246d48a79",
   "metadata": {},
   "outputs": [
    {
     "data": {
      "text/plain": [
       "(36733, 39)"
      ]
     },
     "execution_count": 2,
     "metadata": {},
     "output_type": "execute_result"
    }
   ],
   "source": [
    "std_df = pd.read_csv('processed_dataset/std_dataset.csv', index_col = 0)\n",
    "std_df.shape"
   ]
  },
  {
   "cell_type": "code",
   "execution_count": 3,
   "id": "2cfdff04-e1d3-49bf-9912-2e40a1a1285f",
   "metadata": {},
   "outputs": [
    {
     "data": {
      "text/plain": [
       "(24488, 39)"
      ]
     },
     "execution_count": 3,
     "metadata": {},
     "output_type": "execute_result"
    }
   ],
   "source": [
    "dev_df = std_df.loc[:24487,:]\n",
    "dev_df.shape"
   ]
  },
  {
   "cell_type": "code",
   "execution_count": 4,
   "id": "a3c44500-a30d-438e-9381-42ab1bdeed47",
   "metadata": {},
   "outputs": [
    {
     "data": {
      "text/plain": [
       "(12245, 39)"
      ]
     },
     "execution_count": 4,
     "metadata": {},
     "output_type": "execute_result"
    }
   ],
   "source": [
    "eval_df = std_df.loc[24488:, :]\n",
    "eval_df.shape"
   ]
  },
  {
   "cell_type": "code",
   "execution_count": 5,
   "id": "d967fc56-6f06-44a2-8421-da684c6862e2",
   "metadata": {},
   "outputs": [],
   "source": [
    "ambiental_pred = ['AT', 'AP', 'AH']\n",
    "process_pred = ['AFDP', 'GTEP', 'TIT', 'TAT', 'TEY', 'CDP']\n",
    "location_pred = ['Austria', 'Belgium', 'Bulgaria', 'Croatia',\n",
    "       'Czech Republic', 'Denmark', 'Estonia', 'Finland', 'France', 'Germany',\n",
    "       'Greece', 'Hungary', 'Ireland', 'Italy', 'Latvia', 'Lithuania',\n",
    "       'Luxembourg', 'Malta', 'Netherlands', 'Poland', 'Portugal',\n",
    "       'Republic of Cyprus', 'Romania', 'Slovakia', 'Slovenia', 'Spain',\n",
    "       'Sweden']\n",
    "nox = ['NOX']\n",
    "year = ['YEAR']"
   ]
  },
  {
   "cell_type": "code",
   "execution_count": 6,
   "id": "89deaf1f-eb53-4a7f-8d43-e315f8fe66c9",
   "metadata": {},
   "outputs": [],
   "source": [
    "features_lists = [\n",
    "    'all',\n",
    "    ambiental_pred,\n",
    "    process_pred,\n",
    "    ambiental_pred+nox,\n",
    "    ambiental_pred+year,\n",
    "    ambiental_pred+nox+year,\n",
    "    process_pred+nox,\n",
    "    process_pred+year,\n",
    "    process_pred+nox+year,\n",
    "    ambiental_pred+process_pred,\n",
    "    ambiental_pred+process_pred+nox,\n",
    "    ambiental_pred+process_pred+year,\n",
    "    ambiental_pred+process_pred+nox+year,\n",
    "]"
   ]
  },
  {
   "cell_type": "markdown",
   "id": "5ff29167-521c-4e50-9ff5-a04b2ce059c1",
   "metadata": {},
   "source": [
    "# Model building "
   ]
  },
  {
   "cell_type": "code",
   "execution_count": 7,
   "id": "adc0fe15-4466-46e1-9785-1367c046c61c",
   "metadata": {},
   "outputs": [],
   "source": [
    "class Model():\n",
    "    \n",
    "    def __init__(self, model_classifier, standard_regressor, extreme_regressor):\n",
    "        \n",
    "        self.classifier = model_classifier\n",
    "        self.std_regr = standard_regressor\n",
    "        self.ext_regr = extreme_regressor\n",
    "        self.std_columns = 'all'\n",
    "        self.ext_columns = 'all'\n",
    "        \n",
    "        \n",
    "    def fit(self, X, co_values, binary_labels, std_columns = 'all', ext_columns = 'all'):\n",
    "        \n",
    "        self.classifier.fit(X,binary_labels)\n",
    "        print('Classifier fitted')\n",
    "        \n",
    "        mask = binary_labels.values == 0\n",
    "        \n",
    "        if std_columns == 'all':\n",
    "            std_X, std_co_values = X.loc[mask,:], co_values.loc[mask]\n",
    "        else:\n",
    "            self.std_columns = std_columns\n",
    "            std_X, std_co_values = X.loc[mask,std_columns], co_values.loc[mask]\n",
    "            \n",
    "            \n",
    "        if ext_columns == 'all':\n",
    "            ext_X, ext_co_values = X.loc[~mask,:], co_values.loc[~mask]\n",
    "        else:\n",
    "            ext_X, ext_co_values = X.loc[~mask,ext_columns], co_values.loc[~mask]\n",
    "            self.ext_columns = ext_columns\n",
    "        \n",
    "        print(std_X.shape, ext_X.shape)\n",
    "        \n",
    "        self.std_regr.fit(std_X, std_co_values)\n",
    "        print('Standard Regressor fitted')\n",
    "        self.ext_regr.fit(ext_X, ext_co_values)\n",
    "        print('Extrem Regressor fitted')\n",
    "        \n",
    "        return True\n",
    "    \n",
    "    def predict(self,X,labels):\n",
    "        \n",
    "        pred_labels = self.classifier.predict(X)\n",
    "        \n",
    "        mask = pred_labels == 0\n",
    "        #mask = labels.values == 0\n",
    "        \n",
    "        if self.std_columns == 'all':\n",
    "            std_X = X.loc[mask,:]\n",
    "        else:\n",
    "            std_X = X.loc[mask,self.std_columns]\n",
    "          \n",
    "        if self.ext_columns == 'all':\n",
    "            ext_X = X.loc[~mask,:]\n",
    "        else:\n",
    "            ext_X = X.loc[~mask,self.ext_columns]\n",
    "        \n",
    "        \n",
    "        print(type(self.std_columns))\n",
    "        std_pred = self.std_regr.predict(std_X)\n",
    "        ext_pred = self.ext_regr.predict(ext_X)\n",
    "        \n",
    "        y_pred = np.zeros(shape = pred_labels.shape)\n",
    "        y_pred[mask] = std_pred\n",
    "        y_pred[~mask] = ext_pred\n",
    "        \n",
    "        return y_pred, pred_labels\n",
    "        \n",
    "        "
   ]
  },
  {
   "cell_type": "markdown",
   "id": "2242f801-ceba-4790-a5f3-37ab1fafb861",
   "metadata": {},
   "source": [
    "### Dataset preparation"
   ]
  },
  {
   "cell_type": "code",
   "execution_count": 8,
   "id": "abc85ba2-1d70-42fd-b3d6-e9106b62177e",
   "metadata": {},
   "outputs": [
    {
     "name": "stderr",
     "output_type": "stream",
     "text": [
      "/tmp/ipykernel_3968/3577560697.py:1: SettingWithCopyWarning: \n",
      "A value is trying to be set on a copy of a slice from a DataFrame.\n",
      "Try using .loc[row_indexer,col_indexer] = value instead\n",
      "\n",
      "See the caveats in the documentation: https://pandas.pydata.org/pandas-docs/stable/user_guide/indexing.html#returning-a-view-versus-a-copy\n",
      "  dev_df['labels'] = dev_df['CO'].apply(lambda x : 0 if x < 5.38 else 1)\n"
     ]
    },
    {
     "data": {
      "text/html": [
       "<div>\n",
       "<style scoped>\n",
       "    .dataframe tbody tr th:only-of-type {\n",
       "        vertical-align: middle;\n",
       "    }\n",
       "\n",
       "    .dataframe tbody tr th {\n",
       "        vertical-align: top;\n",
       "    }\n",
       "\n",
       "    .dataframe thead th {\n",
       "        text-align: right;\n",
       "    }\n",
       "</style>\n",
       "<table border=\"1\" class=\"dataframe\">\n",
       "  <thead>\n",
       "    <tr style=\"text-align: right;\">\n",
       "      <th></th>\n",
       "      <th>CO</th>\n",
       "      <th>labels</th>\n",
       "    </tr>\n",
       "    <tr>\n",
       "      <th>ID</th>\n",
       "      <th></th>\n",
       "      <th></th>\n",
       "    </tr>\n",
       "  </thead>\n",
       "  <tbody>\n",
       "    <tr>\n",
       "      <th>0</th>\n",
       "      <td>1.07640</td>\n",
       "      <td>0</td>\n",
       "    </tr>\n",
       "    <tr>\n",
       "      <th>1</th>\n",
       "      <td>10.19600</td>\n",
       "      <td>1</td>\n",
       "    </tr>\n",
       "    <tr>\n",
       "      <th>2</th>\n",
       "      <td>0.78407</td>\n",
       "      <td>0</td>\n",
       "    </tr>\n",
       "    <tr>\n",
       "      <th>3</th>\n",
       "      <td>1.61530</td>\n",
       "      <td>0</td>\n",
       "    </tr>\n",
       "    <tr>\n",
       "      <th>4</th>\n",
       "      <td>1.40710</td>\n",
       "      <td>0</td>\n",
       "    </tr>\n",
       "    <tr>\n",
       "      <th>...</th>\n",
       "      <td>...</td>\n",
       "      <td>...</td>\n",
       "    </tr>\n",
       "    <tr>\n",
       "      <th>24483</th>\n",
       "      <td>1.60010</td>\n",
       "      <td>0</td>\n",
       "    </tr>\n",
       "    <tr>\n",
       "      <th>24484</th>\n",
       "      <td>2.21050</td>\n",
       "      <td>0</td>\n",
       "    </tr>\n",
       "    <tr>\n",
       "      <th>24485</th>\n",
       "      <td>2.00960</td>\n",
       "      <td>0</td>\n",
       "    </tr>\n",
       "    <tr>\n",
       "      <th>24486</th>\n",
       "      <td>5.06680</td>\n",
       "      <td>0</td>\n",
       "    </tr>\n",
       "    <tr>\n",
       "      <th>24487</th>\n",
       "      <td>1.89830</td>\n",
       "      <td>0</td>\n",
       "    </tr>\n",
       "  </tbody>\n",
       "</table>\n",
       "<p>24488 rows × 2 columns</p>\n",
       "</div>"
      ],
      "text/plain": [
       "             CO  labels\n",
       "ID                     \n",
       "0       1.07640       0\n",
       "1      10.19600       1\n",
       "2       0.78407       0\n",
       "3       1.61530       0\n",
       "4       1.40710       0\n",
       "...         ...     ...\n",
       "24483   1.60010       0\n",
       "24484   2.21050       0\n",
       "24485   2.00960       0\n",
       "24486   5.06680       0\n",
       "24487   1.89830       0\n",
       "\n",
       "[24488 rows x 2 columns]"
      ]
     },
     "execution_count": 8,
     "metadata": {},
     "output_type": "execute_result"
    }
   ],
   "source": [
    "dev_df['labels'] = dev_df['CO'].apply(lambda x : 0 if x < 5.38 else 1)\n",
    "dev_df[['CO','labels']]"
   ]
  },
  {
   "cell_type": "code",
   "execution_count": 10,
   "id": "28d4ff28-0877-4c9c-9ade-7052efce42b1",
   "metadata": {},
   "outputs": [
    {
     "data": {
      "text/plain": [
       "22803"
      ]
     },
     "execution_count": 10,
     "metadata": {},
     "output_type": "execute_result"
    }
   ],
   "source": [
    "dev_df['CO'].loc[dev_df['CO'] < 5.38,].count()"
   ]
  },
  {
   "cell_type": "code",
   "execution_count": 11,
   "id": "7d84d671-92fd-4d3d-abb2-834db28dc38d",
   "metadata": {},
   "outputs": [
    {
     "data": {
      "text/plain": [
       "0    22803\n",
       "1     1685\n",
       "Name: labels, dtype: int64"
      ]
     },
     "execution_count": 11,
     "metadata": {},
     "output_type": "execute_result"
    }
   ],
   "source": [
    "dev_df['labels'].value_counts()"
   ]
  },
  {
   "cell_type": "code",
   "execution_count": 12,
   "id": "d29467dc-f0fc-40d7-aa72-6f8c8919ddd3",
   "metadata": {},
   "outputs": [
    {
     "data": {
      "text/plain": [
       "((18366, 11), (6122, 11), (18366, 2), (6122, 2))"
      ]
     },
     "execution_count": 12,
     "metadata": {},
     "output_type": "execute_result"
    }
   ],
   "source": [
    "X = dev_df[ambiental_pred+process_pred+nox+year]\n",
    "co_values = dev_df['CO']\n",
    "labels = dev_df['labels']\n",
    "\n",
    "X_train, X_test, y_train, y_test = train_test_split(X, pd.DataFrame({'CO': co_values, 'labels':labels}),\n",
    "                                                    random_state=42, test_size=0.25,\n",
    "                                                    stratify=dev_df['labels'])\n",
    "X_train.shape, X_test.shape, y_train.shape, y_test.shape\n",
    "\n"
   ]
  },
  {
   "cell_type": "markdown",
   "id": "05158da7-cffd-491b-a7ab-d750669b792a",
   "metadata": {},
   "source": [
    "### Random Forest"
   ]
  },
  {
   "cell_type": "code",
   "execution_count": 13,
   "id": "fbb5df95-b66f-45c3-aca4-2b34d07d1051",
   "metadata": {},
   "outputs": [
    {
     "name": "stdout",
     "output_type": "stream",
     "text": [
      "Classifier fitted\n",
      "(17102, 11) (1264, 11)\n",
      "Standard Regressor fitted\n",
      "Extrem Regressor fitted\n"
     ]
    },
    {
     "data": {
      "text/plain": [
       "True"
      ]
     },
     "execution_count": 13,
     "metadata": {},
     "output_type": "execute_result"
    }
   ],
   "source": [
    "clf = RandomForestClassifier(n_estimators= 400, min_samples_split=2, min_samples_leaf=1, \n",
    "                             max_features= 'log2', max_depth = 110,\n",
    "                             random_state=42)\n",
    "\n",
    "std_regr = RandomForestRegressor(n_estimators=700, min_samples_split=2, min_samples_leaf=2, max_features=None,\n",
    "                                 max_depth=30, bootstrap=True, \n",
    "                                 random_state = 42)\n",
    "\n",
    "ext_regr = RandomForestRegressor(random_state = 42, n_estimators = 500, \n",
    "                                 min_samples_split=2, min_samples_leaf = 1, \n",
    "                                 max_features='sqrt')\n",
    "\n",
    "model = Model(model_classifier = clf, standard_regressor = std_regr, extreme_regressor=ext_regr)\n",
    "model.fit(X_train, co_values= y_train['CO'], binary_labels=y_train['labels'])"
   ]
  },
  {
   "cell_type": "code",
   "execution_count": 14,
   "id": "88131d89-a677-40e6-a3c2-3807c6fa8607",
   "metadata": {},
   "outputs": [
    {
     "name": "stdout",
     "output_type": "stream",
     "text": [
      "<class 'str'>\n"
     ]
    }
   ],
   "source": [
    "y_pred, pred_labels = model.predict(X_test, y_test['labels'])"
   ]
  },
  {
   "cell_type": "code",
   "execution_count": 15,
   "id": "d8f8244f-f7f5-4fab-b40d-5501d94915c6",
   "metadata": {},
   "outputs": [
    {
     "data": {
      "text/plain": [
       "1.900005674194252"
      ]
     },
     "execution_count": 15,
     "metadata": {},
     "output_type": "execute_result"
    }
   ],
   "source": [
    "mse(y_test['CO'].values, y_pred)"
   ]
  },
  {
   "cell_type": "code",
   "execution_count": 122,
   "id": "e72dc7c6-3abf-4271-871f-e609445c6756",
   "metadata": {},
   "outputs": [
    {
     "data": {
      "text/plain": [
       "[('TIT', 0.5263653908976524),\n",
       " ('YEAR', 0.13635108555758907),\n",
       " ('TEY', 0.11871023323828069),\n",
       " ('AT', 0.11259982828924023),\n",
       " ('NOX', 0.1059734620172376)]"
      ]
     },
     "execution_count": 122,
     "metadata": {},
     "output_type": "execute_result"
    }
   ],
   "source": [
    "sorted(zip(model.std_regr.feature_names_in_, model.std_regr.feature_importances_), key = lambda x : x[1], reverse = True)"
   ]
  },
  {
   "cell_type": "code",
   "execution_count": 123,
   "id": "74e0b8e5-8eea-41d7-8072-f619aa985cbd",
   "metadata": {},
   "outputs": [
    {
     "data": {
      "text/plain": [
       "[('TAT', 0.5460966523167575),\n",
       " ('TIT', 0.14143824373207087),\n",
       " ('NOX', 0.1102080586308961),\n",
       " ('GTEP', 0.10966403581271976),\n",
       " ('CDP', 0.09259300950755583)]"
      ]
     },
     "execution_count": 123,
     "metadata": {},
     "output_type": "execute_result"
    }
   ],
   "source": [
    "sorted(zip(model.ext_regr.feature_names_in_, model.ext_regr.feature_importances_), key = lambda x : x[1], reverse = True)"
   ]
  },
  {
   "cell_type": "code",
   "execution_count": 124,
   "id": "56eb442d-876f-4cba-9cbd-88a83f77650e",
   "metadata": {},
   "outputs": [
    {
     "data": {
      "text/plain": [
       "[('TIT', 0.19146776861870676),\n",
       " ('CDP', 0.17448398007655463),\n",
       " ('TEY', 0.12764619009635794),\n",
       " ('GTEP', 0.10294689319627162),\n",
       " ('AFDP', 0.09795872163393265),\n",
       " ('NOX', 0.07938146780143301),\n",
       " ('TAT', 0.059219959323953),\n",
       " ('AT', 0.05233942519130438),\n",
       " ('AH', 0.04384871168280635),\n",
       " ('YEAR', 0.03572982577402099),\n",
       " ('AP', 0.03497705660465879)]"
      ]
     },
     "execution_count": 124,
     "metadata": {},
     "output_type": "execute_result"
    }
   ],
   "source": [
    "sorted(zip(model.classifier.feature_names_in_, model.classifier.feature_importances_), key = lambda x : x[1], reverse = True)"
   ]
  },
  {
   "cell_type": "code",
   "execution_count": 81,
   "id": "68db941a-d5e7-4ce5-9c25-82da5eb4b02c",
   "metadata": {},
   "outputs": [
    {
     "data": {
      "text/plain": [
       "(array([0.97453746, 0.85972851]),\n",
       " array([0.98281914, 0.80394922]),\n",
       " array([0.97866078, 0.83090379]),\n",
       " array([5413,  709]))"
      ]
     },
     "execution_count": 81,
     "metadata": {},
     "output_type": "execute_result"
    }
   ],
   "source": [
    "precision_recall_fscore_support(y_test['labels'], pred_labels)"
   ]
  },
  {
   "cell_type": "code",
   "execution_count": 26,
   "id": "f2458479-3f34-4277-b222-822e4ab5e0b8",
   "metadata": {},
   "outputs": [
    {
     "data": {
      "text/plain": [
       "[<matplotlib.lines.Line2D at 0x7f653806b7f0>]"
      ]
     },
     "execution_count": 26,
     "metadata": {},
     "output_type": "execute_result"
    },
    {
     "data": {
      "image/png": "[encoded data removed]",
      "text/plain": [
       "<Figure size 432x288 with 1 Axes>"
      ]
     },
     "metadata": {
      "needs_background": "light"
     },
     "output_type": "display_data"
    }
   ],
   "source": [
    "plt.scatter(y_test['CO'].loc[y_test['labels'] == 1].values, y_pred[y_test['labels'] == 1], c = 'red')\n",
    "plt.scatter(y_test['CO'].loc[y_test['labels'] == 0].values, y_pred[y_test['labels'] == 0], c = 'green')\n",
    "plt.plot(np.linspace(0,40), np.linspace(0,40), c = 'orange')"
   ]
  },
  {
   "cell_type": "code",
   "execution_count": 28,
   "id": "1b6d5e48-881e-4361-bf25-fa7c52978045",
   "metadata": {},
   "outputs": [
    {
     "data": {
      "text/plain": [
       "[<matplotlib.lines.Line2D at 0x7f6537fd7cd0>]"
      ]
     },
     "execution_count": 28,
     "metadata": {},
     "output_type": "execute_result"
    },
    {
     "data": {
      "image/png": "[encoded data removed]",
      "text/plain": [
       "<Figure size 432x288 with 1 Axes>"
      ]
     },
     "metadata": {
      "needs_background": "light"
     },
     "output_type": "display_data"
    }
   ],
   "source": [
    "plt.scatter(y_test['CO'].loc[pred_labels == 1].values, y_pred[pred_labels == 1], c = 'red')\n",
    "plt.scatter(y_test['CO'].loc[pred_labels == 0].values, y_pred[pred_labels == 0], c = 'green')\n",
    "plt.plot(np.linspace(0,40), np.linspace(0,40), c = 'orange')"
   ]
  },
  {
   "cell_type": "code",
   "execution_count": 40,
   "id": "594809af-b875-484f-b764-e984ba723df3",
   "metadata": {},
   "outputs": [
    {
     "data": {
      "text/plain": [
       "<matplotlib.legend.Legend at 0x7f65335325e0>"
      ]
     },
     "execution_count": 40,
     "metadata": {},
     "output_type": "execute_result"
    },
    {
     "data": {
      "image/png": "[encoded data removed]",
      "text/plain": [
       "<Figure size 432x288 with 1 Axes>"
      ]
     },
     "metadata": {
      "needs_background": "light"
     },
     "output_type": "display_data"
    }
   ],
   "source": [
    "plt.scatter(y_test['CO'].loc[(y_test['labels'] == 1) & (pred_labels == 1)].values, y_pred[(y_test['labels'] == 1) & (pred_labels == 1)], c = 'red', label = 'True extreme')\n",
    "plt.scatter(y_test['CO'].loc[(y_test['labels'] == 1) & (pred_labels == 0)].values, y_pred[(y_test['labels'] == 1) & (pred_labels == 0)], c = 'green', label = 'False standard')\n",
    "plt.scatter(y_test['CO'].loc[(y_test['labels'] == 0) & (pred_labels == 1)].values, y_pred[(y_test['labels'] == 0) & (pred_labels == 1)], c = 'blue', label = 'False extreme')\n",
    "plt.scatter(y_test['CO'].loc[(y_test['labels'] == 0) & (pred_labels == 0)].values, y_pred[(y_test['labels'] == 0) & (pred_labels == 0)], c = 'orange', label = 'True standard')\n",
    "plt.plot(np.linspace(0,40), np.linspace(0,40), c = 'black')\n",
    "plt.legend()"
   ]
  },
  {
   "cell_type": "code",
   "execution_count": 82,
   "id": "7742faeb-1542-4876-9cec-893a460e7323",
   "metadata": {},
   "outputs": [
    {
     "data": {
      "text/plain": [
       "array([[5320,   93],\n",
       "       [ 139,  570]])"
      ]
     },
     "execution_count": 82,
     "metadata": {},
     "output_type": "execute_result"
    }
   ],
   "source": [
    "confusion_matrix(y_test['labels'], pred_labels)"
   ]
  },
  {
   "cell_type": "markdown",
   "id": "f5f47867-ab6f-4611-ab85-62af6db5ff1a",
   "metadata": {},
   "source": [
    "### SVM classifier"
   ]
  },
  {
   "cell_type": "code",
   "execution_count": 68,
   "id": "46715d87-46fe-4668-bc97-cb3c1e9db2eb",
   "metadata": {},
   "outputs": [
    {
     "name": "stdout",
     "output_type": "stream",
     "text": [
      "Classifier fitted\n",
      "(16239, 37) (2127, 37)\n",
      "Standard Regressor fitted\n",
      "Extrem Regressor fitted\n"
     ]
    },
    {
     "data": {
      "text/plain": [
       "True"
      ]
     },
     "execution_count": 68,
     "metadata": {},
     "output_type": "execute_result"
    }
   ],
   "source": [
    "clf = SVC(random_state=42)\n",
    "std_regr = RandomForestRegressor(random_state = 42)\n",
    "ext_regr = RandomForestRegressor(random_state = 42)\n",
    "\n",
    "model = Model(model_classifier = clf, standard_regressor = std_regr, extreme_regressor=ext_regr)\n",
    "model.fit(X_train, co_values= y_train['CO'], binary_labels=y_train['labels'])"
   ]
  },
  {
   "cell_type": "code",
   "execution_count": 69,
   "id": "c9ab3da8-679a-4951-8a1a-6343c19f6f46",
   "metadata": {},
   "outputs": [],
   "source": [
    "y_pred, pred_labels = model.predict(X_test, y_test['labels'])"
   ]
  },
  {
   "cell_type": "code",
   "execution_count": 73,
   "id": "2ce77025-d760-4042-a8df-6bf6bed95b4c",
   "metadata": {},
   "outputs": [
    {
     "data": {
      "text/plain": [
       "1.4861789733783997"
      ]
     },
     "execution_count": 73,
     "metadata": {},
     "output_type": "execute_result"
    }
   ],
   "source": [
    "mse(y_test['CO'].values, y_pred)"
   ]
  },
  {
   "cell_type": "code",
   "execution_count": 74,
   "id": "8550ab53-cdca-48cb-a6e5-b2491af77f66",
   "metadata": {},
   "outputs": [
    {
     "data": {
      "text/plain": [
       "array([[5317,   96],\n",
       "       [ 192,  517]])"
      ]
     },
     "execution_count": 74,
     "metadata": {},
     "output_type": "execute_result"
    }
   ],
   "source": [
    "confusion_matrix(y_test['labels'], pred_labels)"
   ]
  },
  {
   "cell_type": "code",
   "execution_count": 75,
   "id": "1d5aff4c-ae83-45db-8f91-d384679df205",
   "metadata": {},
   "outputs": [
    {
     "data": {
      "text/plain": [
       "<matplotlib.legend.Legend at 0x7f65327c0100>"
      ]
     },
     "execution_count": 75,
     "metadata": {},
     "output_type": "execute_result"
    },
    {
     "data": {
      "image/png": "[encoded data removed]",
      "text/plain": [
       "<Figure size 432x288 with 1 Axes>"
      ]
     },
     "metadata": {
      "needs_background": "light"
     },
     "output_type": "display_data"
    }
   ],
   "source": [
    "plt.scatter(y_test['CO'].loc[(y_test['labels'] == 1) & (pred_labels == 1)].values, y_pred[(y_test['labels'] == 1) & (pred_labels == 1)], c = 'red', label = 'True extreme')\n",
    "plt.scatter(y_test['CO'].loc[(y_test['labels'] == 1) & (pred_labels == 0)].values, y_pred[(y_test['labels'] == 1) & (pred_labels == 0)], c = 'green', label = 'False standard')\n",
    "plt.scatter(y_test['CO'].loc[(y_test['labels'] == 0) & (pred_labels == 1)].values, y_pred[(y_test['labels'] == 0) & (pred_labels == 1)], c = 'blue', label = 'False extreme')\n",
    "plt.scatter(y_test['CO'].loc[(y_test['labels'] == 0) & (pred_labels == 0)].values, y_pred[(y_test['labels'] == 0) & (pred_labels == 0)], c = 'orange', label = 'True standard')\n",
    "plt.plot(np.linspace(0,40), np.linspace(0,40), c = 'black')\n",
    "plt.legend()"
   ]
  },
  {
   "cell_type": "markdown",
   "id": "690228bb-3e87-4634-a7a8-880954b60eaf",
   "metadata": {},
   "source": [
    "### MLP Classifier"
   ]
  },
  {
   "cell_type": "code",
   "execution_count": 134,
   "id": "69377d30-a1b2-475d-93b8-41fd40b2631e",
   "metadata": {},
   "outputs": [
    {
     "name": "stdout",
     "output_type": "stream",
     "text": [
      "Classifier fitted\n",
      "(16239, 11) (2127, 11)\n",
      "Standard Regressor fitted\n",
      "Extrem Regressor fitted\n"
     ]
    },
    {
     "data": {
      "text/plain": [
       "True"
      ]
     },
     "execution_count": 134,
     "metadata": {},
     "output_type": "execute_result"
    }
   ],
   "source": [
    "clf = MLPClassifier(random_state=42, max_iter = 10000)\n",
    "std_regr = RandomForestRegressor(n_estimators=700, min_samples_split=2, min_samples_leaf=2, max_features=None,\n",
    "                                 max_depth=30, bootstrap=True, \n",
    "                                 random_state = 42)\n",
    "\n",
    "ext_regr = RandomForestRegressor(random_state = 42, n_estimators = 500, \n",
    "                                 min_samples_split=2, min_samples_leaf = 1, \n",
    "                                 max_features='sqrt')\n",
    "\n",
    "model = Model(model_classifier = clf, standard_regressor = std_regr, extreme_regressor=ext_regr)\n",
    "model.fit(X_train, co_values= y_train['CO'], binary_labels=y_train['labels'])"
   ]
  },
  {
   "cell_type": "code",
   "execution_count": 135,
   "id": "6466b5e4-04db-4e38-988a-48c18c35d5c0",
   "metadata": {},
   "outputs": [
    {
     "name": "stdout",
     "output_type": "stream",
     "text": [
      "<class 'str'>\n"
     ]
    }
   ],
   "source": [
    "y_pred, pred_labels = model.predict(X_test, y_test['labels'])"
   ]
  },
  {
   "cell_type": "code",
   "execution_count": 136,
   "id": "8fbcde02-66b7-4aee-80b9-b65b6e8eedaa",
   "metadata": {},
   "outputs": [
    {
     "data": {
      "text/plain": [
       "1.3527174273452256"
      ]
     },
     "execution_count": 136,
     "metadata": {},
     "output_type": "execute_result"
    }
   ],
   "source": [
    "mse(y_test['CO'].values, y_pred)"
   ]
  },
  {
   "cell_type": "code",
   "execution_count": 137,
   "id": "a0dcee0f-1914-46de-a6df-93234207ff6e",
   "metadata": {},
   "outputs": [
    {
     "data": {
      "text/plain": [
       "array([[5314,   99],\n",
       "       [ 146,  563]])"
      ]
     },
     "execution_count": 137,
     "metadata": {},
     "output_type": "execute_result"
    }
   ],
   "source": [
    "confusion_matrix(y_test['labels'], pred_labels)"
   ]
  },
  {
   "cell_type": "code",
   "execution_count": 133,
   "id": "871a318d-567a-4fd1-bf23-bc019a1e3a66",
   "metadata": {},
   "outputs": [
    {
     "data": {
      "text/plain": [
       "<matplotlib.legend.Legend at 0x7f652c603070>"
      ]
     },
     "execution_count": 133,
     "metadata": {},
     "output_type": "execute_result"
    },
    {
     "data": {
      "image/png": "[encoded data removed]",
      "text/plain": [
       "<Figure size 432x288 with 1 Axes>"
      ]
     },
     "metadata": {
      "needs_background": "light"
     },
     "output_type": "display_data"
    }
   ],
   "source": [
    "plt.scatter(y_test['CO'].loc[(y_test['labels'] == 1) & (pred_labels == 1)].values, y_pred[(y_test['labels'] == 1) & (pred_labels == 1)], c = 'red', label = 'True extreme')\n",
    "plt.scatter(y_test['CO'].loc[(y_test['labels'] == 1) & (pred_labels == 0)].values, y_pred[(y_test['labels'] == 1) & (pred_labels == 0)], c = 'green', label = 'False standard')\n",
    "plt.scatter(y_test['CO'].loc[(y_test['labels'] == 0) & (pred_labels == 1)].values, y_pred[(y_test['labels'] == 0) & (pred_labels == 1)], c = 'blue', label = 'False extreme')\n",
    "plt.scatter(y_test['CO'].loc[(y_test['labels'] == 0) & (pred_labels == 0)].values, y_pred[(y_test['labels'] == 0) & (pred_labels == 0)], c = 'orange', label = 'True standard')\n",
    "plt.plot(np.linspace(0,40), np.linspace(0,40), c = 'black')\n",
    "plt.legend()"
   ]
  }
 ],
 "metadata": {
  "kernelspec": {
   "display_name": "Python 3 (ipykernel)",
   "language": "python",
   "name": "python3"
  },
  "language_info": {
   "codemirror_mode": {
    "name": "ipython",
    "version": 3
   },
   "file_extension": ".py",
   "mimetype": "text/x-python",
   "name": "python",
   "nbconvert_exporter": "python",
   "pygments_lexer": "ipython3",
   "version": "3.8.10"
  }
 },
 "nbformat": 4,
 "nbformat_minor": 5
}
