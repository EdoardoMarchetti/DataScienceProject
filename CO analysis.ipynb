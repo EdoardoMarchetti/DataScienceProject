{
 "cells": [
  {
   "cell_type": "markdown",
   "id": "c4b694e7-5227-4b39-a45c-88b4cc4cdd7d",
   "metadata": {},
   "source": [
    "In this notebook is reported an analysis of the values distribution of each feature"
   ]
  },
  {
   "cell_type": "markdown",
   "id": "b200cabb-6f69-47ca-9e1a-fa8941a8e232",
   "metadata": {},
   "source": [
    "# Configuration"
   ]
  },
  {
   "cell_type": "code",
   "execution_count": 28,
   "id": "37003ae3-dbf7-4988-b354-f05973ab4b55",
   "metadata": {},
   "outputs": [],
   "source": [
    "import pandas as pd\n",
    "import matplotlib.pyplot as plt\n",
    "import numpy as np\n",
    "%matplotlib inline"
   ]
  },
  {
   "cell_type": "markdown",
   "id": "d98adee4-3a7e-4fa1-aaff-9f1de836d773",
   "metadata": {},
   "source": [
    "# Import the dataset"
   ]
  },
  {
   "cell_type": "code",
   "execution_count": 3,
   "id": "f6ef1bda-6bf1-44f9-99ce-abf8fe63729c",
   "metadata": {},
   "outputs": [
    {
     "data": {
      "text/html": [
       "<div>\n",
       "<style scoped>\n",
       "    .dataframe tbody tr th:only-of-type {\n",
       "        vertical-align: middle;\n",
       "    }\n",
       "\n",
       "    .dataframe tbody tr th {\n",
       "        vertical-align: top;\n",
       "    }\n",
       "\n",
       "    .dataframe thead th {\n",
       "        text-align: right;\n",
       "    }\n",
       "</style>\n",
       "<table border=\"1\" class=\"dataframe\">\n",
       "  <thead>\n",
       "    <tr style=\"text-align: right;\">\n",
       "      <th></th>\n",
       "      <th>YEAR</th>\n",
       "      <th>LOC</th>\n",
       "      <th>SN</th>\n",
       "      <th>AT</th>\n",
       "      <th>AP</th>\n",
       "      <th>AH</th>\n",
       "      <th>AFDP</th>\n",
       "      <th>GTEP</th>\n",
       "      <th>TIT</th>\n",
       "      <th>TAT</th>\n",
       "      <th>TEY</th>\n",
       "      <th>CDP</th>\n",
       "      <th>NOX</th>\n",
       "      <th>CO</th>\n",
       "    </tr>\n",
       "    <tr>\n",
       "      <th>ID</th>\n",
       "      <th></th>\n",
       "      <th></th>\n",
       "      <th></th>\n",
       "      <th></th>\n",
       "      <th></th>\n",
       "      <th></th>\n",
       "      <th></th>\n",
       "      <th></th>\n",
       "      <th></th>\n",
       "      <th></th>\n",
       "      <th></th>\n",
       "      <th></th>\n",
       "      <th></th>\n",
       "      <th></th>\n",
       "    </tr>\n",
       "  </thead>\n",
       "  <tbody>\n",
       "    <tr>\n",
       "      <th>0</th>\n",
       "      <td>2022</td>\n",
       "      <td>Austria</td>\n",
       "      <td>0903XTR</td>\n",
       "      <td>24.918</td>\n",
       "      <td>1006.8</td>\n",
       "      <td>55.697</td>\n",
       "      <td>3.3648</td>\n",
       "      <td>22.322</td>\n",
       "      <td>1071.5</td>\n",
       "      <td>550.03</td>\n",
       "      <td>119.83</td>\n",
       "      <td>11.171</td>\n",
       "      <td>-</td>\n",
       "      <td>1.07640</td>\n",
       "    </tr>\n",
       "    <tr>\n",
       "      <th>1</th>\n",
       "      <td>2022</td>\n",
       "      <td>Romania</td>\n",
       "      <td>0903XTR</td>\n",
       "      <td>14.332</td>\n",
       "      <td>1024.1</td>\n",
       "      <td>81.857</td>\n",
       "      <td>3.2767</td>\n",
       "      <td>20.049</td>\n",
       "      <td>1037.3</td>\n",
       "      <td>533.70</td>\n",
       "      <td>110.05</td>\n",
       "      <td>10.692</td>\n",
       "      <td>102.01</td>\n",
       "      <td>10.19600</td>\n",
       "    </tr>\n",
       "    <tr>\n",
       "      <th>2</th>\n",
       "      <td>2022</td>\n",
       "      <td>Sweden</td>\n",
       "      <td>0903XTR</td>\n",
       "      <td>11.548</td>\n",
       "      <td>1009.1</td>\n",
       "      <td>78.389</td>\n",
       "      <td>4.9142</td>\n",
       "      <td>28.616</td>\n",
       "      <td>1093.9</td>\n",
       "      <td>539.43</td>\n",
       "      <td>147.19</td>\n",
       "      <td>12.979</td>\n",
       "      <td>-</td>\n",
       "      <td>0.78407</td>\n",
       "    </tr>\n",
       "    <tr>\n",
       "      <th>3</th>\n",
       "      <td>2022</td>\n",
       "      <td>Finland</td>\n",
       "      <td>0903XTR</td>\n",
       "      <td>25.597</td>\n",
       "      <td>1003.0</td>\n",
       "      <td>77.744</td>\n",
       "      <td>3.2325</td>\n",
       "      <td>20.749</td>\n",
       "      <td>1062.1</td>\n",
       "      <td>549.95</td>\n",
       "      <td>112.79</td>\n",
       "      <td>10.624</td>\n",
       "      <td>52.225</td>\n",
       "      <td>1.61530</td>\n",
       "    </tr>\n",
       "    <tr>\n",
       "      <th>4</th>\n",
       "      <td>2022</td>\n",
       "      <td>Estonia</td>\n",
       "      <td>0903XTR</td>\n",
       "      <td>13.484</td>\n",
       "      <td>1011.1</td>\n",
       "      <td>96.477</td>\n",
       "      <td>4.1968</td>\n",
       "      <td>24.230</td>\n",
       "      <td>1086.1</td>\n",
       "      <td>550.08</td>\n",
       "      <td>133.71</td>\n",
       "      <td>11.921</td>\n",
       "      <td>71.915</td>\n",
       "      <td>1.40710</td>\n",
       "    </tr>\n",
       "  </tbody>\n",
       "</table>\n",
       "</div>"
      ],
      "text/plain": [
       "    YEAR      LOC       SN      AT      AP      AH    AFDP    GTEP     TIT  \\\n",
       "ID                                                                           \n",
       "0   2022  Austria  0903XTR  24.918  1006.8  55.697  3.3648  22.322  1071.5   \n",
       "1   2022  Romania  0903XTR  14.332  1024.1  81.857  3.2767  20.049  1037.3   \n",
       "2   2022   Sweden  0903XTR  11.548  1009.1  78.389  4.9142  28.616  1093.9   \n",
       "3   2022  Finland  0903XTR  25.597  1003.0  77.744  3.2325  20.749  1062.1   \n",
       "4   2022  Estonia  0903XTR  13.484  1011.1  96.477  4.1968  24.230  1086.1   \n",
       "\n",
       "       TAT     TEY     CDP     NOX        CO  \n",
       "ID                                            \n",
       "0   550.03  119.83  11.171       -   1.07640  \n",
       "1   533.70  110.05  10.692  102.01  10.19600  \n",
       "2   539.43  147.19  12.979       -   0.78407  \n",
       "3   549.95  112.79  10.624  52.225   1.61530  \n",
       "4   550.08  133.71  11.921  71.915   1.40710  "
      ]
     },
     "execution_count": 3,
     "metadata": {},
     "output_type": "execute_result"
    }
   ],
   "source": [
    "df = pd.read_csv('dataset/development.csv', index_col = 0)\n",
    "df.head()"
   ]
  },
  {
   "cell_type": "markdown",
   "id": "ae85512f-06eb-49a0-90b0-5dd29346a409",
   "metadata": {},
   "source": [
    "# CO emission analysis"
   ]
  },
  {
   "cell_type": "markdown",
   "id": "294eb758-b3d0-4799-8d40-a2d792034b0b",
   "metadata": {},
   "source": [
    "### Univariate analysis"
   ]
  },
  {
   "cell_type": "markdown",
   "id": "bfe72f73-93c6-41b8-b718-4de75a730504",
   "metadata": {},
   "source": [
    "As first CO emission analysis let to observe the distriution."
   ]
  },
  {
   "cell_type": "code",
   "execution_count": 63,
   "id": "49160e0b-f01e-425c-b53c-f0649659ca5e",
   "metadata": {},
   "outputs": [
    {
     "data": {
      "text/plain": [
       "count    24488.000000\n",
       "mean         2.379069\n",
       "std          2.270383\n",
       "min          0.000388\n",
       "25%          1.186750\n",
       "50%          1.719450\n",
       "75%          2.866625\n",
       "max         44.103000\n",
       "Name: CO, dtype: float64"
      ]
     },
     "execution_count": 63,
     "metadata": {},
     "output_type": "execute_result"
    }
   ],
   "source": [
    "df['CO'].describe()"
   ]
  },
  {
   "cell_type": "code",
   "execution_count": 93,
   "id": "768142a6-8a12-4bd1-b7f3-d9c25e6ab33c",
   "metadata": {},
   "outputs": [
    {
     "data": {
      "text/plain": [
       "0.5"
      ]
     },
     "execution_count": 93,
     "metadata": {},
     "output_type": "execute_result"
    }
   ],
   "source": [
    "within_quantiles = df[ (df['CO'] > df.CO.quantile(0.25)) & (df['CO'] < df.CO.quantile(0.75)) ].count()['CO']\n",
    "within_quantiles / df['CO'].count()"
   ]
  },
  {
   "cell_type": "markdown",
   "id": "b4a879ad-779a-4473-b5f5-17231d97d780",
   "metadata": {},
   "source": [
    "Half of the CO values fall between the first and the third quantile"
   ]
  },
  {
   "cell_type": "code",
   "execution_count": 105,
   "id": "52caa8eb-6e58-4781-ad72-22886b052719",
   "metadata": {},
   "outputs": [
    {
     "data": {
      "text/plain": [
       "<matplotlib.lines.Line2D at 0x7f3502548880>"
      ]
     },
     "execution_count": 105,
     "metadata": {},
     "output_type": "execute_result"
    },
    {
     "data": {
      "image/png": "[encoded data removed]",
      "text/plain": [
       "<Figure size 720x360 with 1 Axes>"
      ]
     },
     "metadata": {
      "needs_background": "light"
     },
     "output_type": "display_data"
    }
   ],
   "source": [
    "fig, ax = plt.subplots(figsize = (10,5))\n",
    "_ = ax.hist(df['CO'].values, bins = 100, alpha = 0.3)      \n",
    "ax.axvline(df['CO'].median(), c  = 'red')\n",
    "\n",
    "#Green lines: 1st and 3rd quantiles\n",
    "ax.axvline(df.CO.quantile(0.25), c = 'green')\n",
    "ax.axvline(df.CO.quantile(0.75), c = 'green')\n",
    "\n",
    "#Purple lines: 0.025 and 0.975 quantiles\n",
    "ax.axvline(df.CO.quantile(0.025), c = 'purple')\n",
    "ax.axvline(df.CO.quantile(0.975), c = 'purple')"
   ]
  },
  {
   "cell_type": "code",
   "execution_count": 102,
   "id": "14edec9e-36d1-40d4-929e-6c1d9970f505",
   "metadata": {},
   "outputs": [
    {
     "data": {
      "text/plain": [
       "0.025    0.315\n",
       "0.250    1.187\n",
       "0.750    2.867\n",
       "0.975    8.117\n",
       "Name: CO, dtype: float64"
      ]
     },
     "execution_count": 102,
     "metadata": {},
     "output_type": "execute_result"
    }
   ],
   "source": [
    "round(df.CO.quantile([0.025,0.25,0.75,0.975]), 3)"
   ]
  },
  {
   "cell_type": "markdown",
   "id": "cfc427f1-b93c-4c62-a7df-cec25cb8d416",
   "metadata": {},
   "source": [
    "The CO emission values does not follow a normal distribution but seem to have an high concetration around small values. In particular between 0.315 and 8.117."
   ]
  },
  {
   "cell_type": "markdown",
   "id": "3d43b0b8-2e4f-4805-81e9-5a7c1eea8854",
   "metadata": {},
   "source": [
    "## Multivariate analysis"
   ]
  },
  {
   "cell_type": "markdown",
   "id": "bf37fd6f-be01-4543-aa73-c2a9bdfeda3e",
   "metadata": {},
   "source": [
    "### CO vs YEAR"
   ]
  },
  {
   "cell_type": "code",
   "execution_count": 125,
   "id": "5e8e331b-02f0-4378-a9c7-d8a31f6ebf08",
   "metadata": {},
   "outputs": [
    {
     "data": {
      "text/plain": [
       "Text(0.5, 0.98, '')"
      ]
     },
     "execution_count": 125,
     "metadata": {},
     "output_type": "execute_result"
    },
    {
     "data": {
      "image/png": "[encoded data removed]",
      "text/plain": [
       "<Figure size 1008x504 with 2 Axes>"
      ]
     },
     "metadata": {
      "needs_background": "light"
     },
     "output_type": "display_data"
    }
   ],
   "source": [
    "fig, [out, no_out] = plt.subplots(1,2, figsize= (14,7))\n",
    "\n",
    "plt.tight_layout()\n",
    "\n",
    "df.boxplot(column = 'CO', by = 'YEAR', showfliers = True, grid = False, ax = out)\n",
    "out.set_title('CO emission With outliers')\n",
    "\n",
    "\n",
    "df.boxplot(column = 'CO', by = 'YEAR', showfliers = False, grid = False, ax = no_out)\n",
    "no_out.set_title('CO emission without outliers')\n",
    "\n",
    "plt.suptitle('')"
   ]
  },
  {
   "cell_type": "markdown",
   "id": "fcef1524-64f7-4659-bb40-2de6db1ecb04",
   "metadata": {},
   "source": [
    "The CO emissions present decreasing trend for the meadian and the first quantile values. This may imply an improvement of the gas-turbine efficiency thanks to new tachnologies or strategies adopted. "
   ]
  },
  {
   "cell_type": "code",
   "execution_count": 51,
   "id": "2101c662-8a81-4664-9eb3-6fce3852a99f",
   "metadata": {},
   "outputs": [
    {
     "data": {
      "text/html": [
       "<div>\n",
       "<style scoped>\n",
       "    .dataframe tbody tr th:only-of-type {\n",
       "        vertical-align: middle;\n",
       "    }\n",
       "\n",
       "    .dataframe tbody tr th {\n",
       "        vertical-align: top;\n",
       "    }\n",
       "\n",
       "    .dataframe thead tr th {\n",
       "        text-align: left;\n",
       "    }\n",
       "\n",
       "    .dataframe thead tr:last-of-type th {\n",
       "        text-align: right;\n",
       "    }\n",
       "</style>\n",
       "<table border=\"1\" class=\"dataframe\">\n",
       "  <thead>\n",
       "    <tr>\n",
       "      <th></th>\n",
       "      <th colspan=\"8\" halign=\"left\">CO</th>\n",
       "    </tr>\n",
       "    <tr>\n",
       "      <th></th>\n",
       "      <th>count</th>\n",
       "      <th>mean</th>\n",
       "      <th>std</th>\n",
       "      <th>min</th>\n",
       "      <th>25%</th>\n",
       "      <th>50%</th>\n",
       "      <th>75%</th>\n",
       "      <th>max</th>\n",
       "    </tr>\n",
       "    <tr>\n",
       "      <th>YEAR</th>\n",
       "      <th></th>\n",
       "      <th></th>\n",
       "      <th></th>\n",
       "      <th></th>\n",
       "      <th></th>\n",
       "      <th></th>\n",
       "      <th></th>\n",
       "      <th></th>\n",
       "    </tr>\n",
       "  </thead>\n",
       "  <tbody>\n",
       "    <tr>\n",
       "      <th>2018</th>\n",
       "      <td>4877.0</td>\n",
       "      <td>3.130690</td>\n",
       "      <td>2.252167</td>\n",
       "      <td>0.212800</td>\n",
       "      <td>1.813000</td>\n",
       "      <td>2.57350</td>\n",
       "      <td>3.699100</td>\n",
       "      <td>41.097</td>\n",
       "    </tr>\n",
       "    <tr>\n",
       "      <th>2019</th>\n",
       "      <td>4760.0</td>\n",
       "      <td>2.089425</td>\n",
       "      <td>1.930739</td>\n",
       "      <td>0.006915</td>\n",
       "      <td>1.257250</td>\n",
       "      <td>1.66510</td>\n",
       "      <td>2.168100</td>\n",
       "      <td>34.820</td>\n",
       "    </tr>\n",
       "    <tr>\n",
       "      <th>2020</th>\n",
       "      <td>4759.0</td>\n",
       "      <td>2.751337</td>\n",
       "      <td>2.405253</td>\n",
       "      <td>0.029480</td>\n",
       "      <td>1.272950</td>\n",
       "      <td>1.78850</td>\n",
       "      <td>3.609850</td>\n",
       "      <td>35.045</td>\n",
       "    </tr>\n",
       "    <tr>\n",
       "      <th>2021</th>\n",
       "      <td>5142.0</td>\n",
       "      <td>2.365469</td>\n",
       "      <td>2.512320</td>\n",
       "      <td>0.007505</td>\n",
       "      <td>1.121675</td>\n",
       "      <td>1.63890</td>\n",
       "      <td>2.948025</td>\n",
       "      <td>44.103</td>\n",
       "    </tr>\n",
       "    <tr>\n",
       "      <th>2022</th>\n",
       "      <td>4950.0</td>\n",
       "      <td>1.573285</td>\n",
       "      <td>1.839435</td>\n",
       "      <td>0.000388</td>\n",
       "      <td>0.726328</td>\n",
       "      <td>1.14855</td>\n",
       "      <td>1.752750</td>\n",
       "      <td>39.050</td>\n",
       "    </tr>\n",
       "  </tbody>\n",
       "</table>\n",
       "</div>"
      ],
      "text/plain": [
       "          CO                                                             \\\n",
       "       count      mean       std       min       25%      50%       75%   \n",
       "YEAR                                                                      \n",
       "2018  4877.0  3.130690  2.252167  0.212800  1.813000  2.57350  3.699100   \n",
       "2019  4760.0  2.089425  1.930739  0.006915  1.257250  1.66510  2.168100   \n",
       "2020  4759.0  2.751337  2.405253  0.029480  1.272950  1.78850  3.609850   \n",
       "2021  5142.0  2.365469  2.512320  0.007505  1.121675  1.63890  2.948025   \n",
       "2022  4950.0  1.573285  1.839435  0.000388  0.726328  1.14855  1.752750   \n",
       "\n",
       "              \n",
       "         max  \n",
       "YEAR          \n",
       "2018  41.097  \n",
       "2019  34.820  \n",
       "2020  35.045  \n",
       "2021  44.103  \n",
       "2022  39.050  "
      ]
     },
     "execution_count": 51,
     "metadata": {},
     "output_type": "execute_result"
    }
   ],
   "source": [
    "df[['CO', 'YEAR']].groupby('YEAR').describe()"
   ]
  },
  {
   "cell_type": "markdown",
   "id": "0ff58d35-cc0c-4318-a172-56588438228e",
   "metadata": {
    "tags": []
   },
   "source": [
    "### CO vs LOC"
   ]
  },
  {
   "cell_type": "code",
   "execution_count": 34,
   "id": "5a43fb9c-32dc-4614-ace8-f1f71df317b4",
   "metadata": {},
   "outputs": [
    {
     "data": {
      "text/plain": [
       "<AxesSubplot:title={'center':'CO'}, xlabel='LOC'>"
      ]
     },
     "execution_count": 34,
     "metadata": {},
     "output_type": "execute_result"
    },
    {
     "data": {
      "image/png": "[encoded data removed]",
      "text/plain": [
       "<Figure size 720x720 with 1 Axes>"
      ]
     },
     "metadata": {
      "needs_background": "light"
     },
     "output_type": "display_data"
    }
   ],
   "source": [
    "df.boxplot(column = 'CO', by = 'LOC', rot= 90, figsize = (10,10))"
   ]
  },
  {
   "cell_type": "markdown",
   "id": "188fbc25-4847-41ff-a790-acd6d1938471",
   "metadata": {},
   "source": [
    "The boxplot describing CO emission with respect to the location (LOC) shows a constant meadian value. Probably the location will be not usefull during the analysis. As a further inspection we report also the statistics of CO emission grouped by countries."
   ]
  },
  {
   "cell_type": "code",
   "execution_count": 38,
   "id": "689afa0a-4e72-411f-9ec6-2a158a35714e",
   "metadata": {},
   "outputs": [
    {
     "data": {
      "text/html": [
       "<div>\n",
       "<style scoped>\n",
       "    .dataframe tbody tr th:only-of-type {\n",
       "        vertical-align: middle;\n",
       "    }\n",
       "\n",
       "    .dataframe tbody tr th {\n",
       "        vertical-align: top;\n",
       "    }\n",
       "\n",
       "    .dataframe thead tr th {\n",
       "        text-align: left;\n",
       "    }\n",
       "\n",
       "    .dataframe thead tr:last-of-type th {\n",
       "        text-align: right;\n",
       "    }\n",
       "</style>\n",
       "<table border=\"1\" class=\"dataframe\">\n",
       "  <thead>\n",
       "    <tr>\n",
       "      <th></th>\n",
       "      <th colspan=\"8\" halign=\"left\">CO</th>\n",
       "    </tr>\n",
       "    <tr>\n",
       "      <th></th>\n",
       "      <th>count</th>\n",
       "      <th>mean</th>\n",
       "      <th>std</th>\n",
       "      <th>min</th>\n",
       "      <th>25%</th>\n",
       "      <th>50%</th>\n",
       "      <th>75%</th>\n",
       "      <th>max</th>\n",
       "    </tr>\n",
       "    <tr>\n",
       "      <th>LOC</th>\n",
       "      <th></th>\n",
       "      <th></th>\n",
       "      <th></th>\n",
       "      <th></th>\n",
       "      <th></th>\n",
       "      <th></th>\n",
       "      <th></th>\n",
       "      <th></th>\n",
       "    </tr>\n",
       "  </thead>\n",
       "  <tbody>\n",
       "    <tr>\n",
       "      <th>Austria</th>\n",
       "      <td>869.0</td>\n",
       "      <td>2.396225</td>\n",
       "      <td>2.373099</td>\n",
       "      <td>0.010960</td>\n",
       "      <td>1.160000</td>\n",
       "      <td>1.71780</td>\n",
       "      <td>2.868200</td>\n",
       "      <td>29.084</td>\n",
       "    </tr>\n",
       "    <tr>\n",
       "      <th>Belgium</th>\n",
       "      <td>909.0</td>\n",
       "      <td>2.327204</td>\n",
       "      <td>2.166127</td>\n",
       "      <td>0.000388</td>\n",
       "      <td>1.155400</td>\n",
       "      <td>1.72070</td>\n",
       "      <td>2.845800</td>\n",
       "      <td>35.045</td>\n",
       "    </tr>\n",
       "    <tr>\n",
       "      <th>Bulgaria</th>\n",
       "      <td>888.0</td>\n",
       "      <td>2.489912</td>\n",
       "      <td>2.492534</td>\n",
       "      <td>0.042265</td>\n",
       "      <td>1.204775</td>\n",
       "      <td>1.76105</td>\n",
       "      <td>3.092050</td>\n",
       "      <td>35.019</td>\n",
       "    </tr>\n",
       "    <tr>\n",
       "      <th>Croatia</th>\n",
       "      <td>920.0</td>\n",
       "      <td>2.353900</td>\n",
       "      <td>2.338390</td>\n",
       "      <td>0.045731</td>\n",
       "      <td>1.183725</td>\n",
       "      <td>1.65695</td>\n",
       "      <td>2.757000</td>\n",
       "      <td>26.026</td>\n",
       "    </tr>\n",
       "    <tr>\n",
       "      <th>Czech Republic</th>\n",
       "      <td>937.0</td>\n",
       "      <td>2.381492</td>\n",
       "      <td>2.168382</td>\n",
       "      <td>0.020591</td>\n",
       "      <td>1.164500</td>\n",
       "      <td>1.69050</td>\n",
       "      <td>2.904700</td>\n",
       "      <td>24.239</td>\n",
       "    </tr>\n",
       "    <tr>\n",
       "      <th>Denmark</th>\n",
       "      <td>954.0</td>\n",
       "      <td>2.280000</td>\n",
       "      <td>1.949931</td>\n",
       "      <td>0.062556</td>\n",
       "      <td>1.179975</td>\n",
       "      <td>1.68500</td>\n",
       "      <td>2.757625</td>\n",
       "      <td>16.883</td>\n",
       "    </tr>\n",
       "    <tr>\n",
       "      <th>Estonia</th>\n",
       "      <td>845.0</td>\n",
       "      <td>2.284559</td>\n",
       "      <td>1.881075</td>\n",
       "      <td>0.006915</td>\n",
       "      <td>1.215700</td>\n",
       "      <td>1.75490</td>\n",
       "      <td>2.612000</td>\n",
       "      <td>13.657</td>\n",
       "    </tr>\n",
       "    <tr>\n",
       "      <th>Finland</th>\n",
       "      <td>867.0</td>\n",
       "      <td>2.289974</td>\n",
       "      <td>1.891694</td>\n",
       "      <td>0.027221</td>\n",
       "      <td>1.176800</td>\n",
       "      <td>1.70420</td>\n",
       "      <td>2.659100</td>\n",
       "      <td>16.022</td>\n",
       "    </tr>\n",
       "    <tr>\n",
       "      <th>France</th>\n",
       "      <td>872.0</td>\n",
       "      <td>2.429210</td>\n",
       "      <td>2.200943</td>\n",
       "      <td>0.003665</td>\n",
       "      <td>1.186850</td>\n",
       "      <td>1.71480</td>\n",
       "      <td>3.075900</td>\n",
       "      <td>22.511</td>\n",
       "    </tr>\n",
       "    <tr>\n",
       "      <th>Germany</th>\n",
       "      <td>960.0</td>\n",
       "      <td>2.353815</td>\n",
       "      <td>2.023082</td>\n",
       "      <td>0.035076</td>\n",
       "      <td>1.176100</td>\n",
       "      <td>1.76450</td>\n",
       "      <td>3.062175</td>\n",
       "      <td>29.341</td>\n",
       "    </tr>\n",
       "    <tr>\n",
       "      <th>Greece</th>\n",
       "      <td>947.0</td>\n",
       "      <td>2.312705</td>\n",
       "      <td>2.196780</td>\n",
       "      <td>0.016447</td>\n",
       "      <td>1.178400</td>\n",
       "      <td>1.72880</td>\n",
       "      <td>2.680350</td>\n",
       "      <td>36.454</td>\n",
       "    </tr>\n",
       "    <tr>\n",
       "      <th>Hungary</th>\n",
       "      <td>878.0</td>\n",
       "      <td>2.375815</td>\n",
       "      <td>2.296535</td>\n",
       "      <td>0.044665</td>\n",
       "      <td>1.201600</td>\n",
       "      <td>1.72025</td>\n",
       "      <td>2.802050</td>\n",
       "      <td>33.913</td>\n",
       "    </tr>\n",
       "    <tr>\n",
       "      <th>Ireland</th>\n",
       "      <td>876.0</td>\n",
       "      <td>2.477619</td>\n",
       "      <td>2.506142</td>\n",
       "      <td>0.007505</td>\n",
       "      <td>1.189250</td>\n",
       "      <td>1.78215</td>\n",
       "      <td>3.071675</td>\n",
       "      <td>33.346</td>\n",
       "    </tr>\n",
       "    <tr>\n",
       "      <th>Italy</th>\n",
       "      <td>910.0</td>\n",
       "      <td>2.332138</td>\n",
       "      <td>2.051564</td>\n",
       "      <td>0.013877</td>\n",
       "      <td>1.199950</td>\n",
       "      <td>1.71395</td>\n",
       "      <td>2.808125</td>\n",
       "      <td>23.629</td>\n",
       "    </tr>\n",
       "    <tr>\n",
       "      <th>Latvia</th>\n",
       "      <td>905.0</td>\n",
       "      <td>2.308665</td>\n",
       "      <td>2.072646</td>\n",
       "      <td>0.026562</td>\n",
       "      <td>1.166600</td>\n",
       "      <td>1.67690</td>\n",
       "      <td>2.713300</td>\n",
       "      <td>14.163</td>\n",
       "    </tr>\n",
       "    <tr>\n",
       "      <th>Lithuania</th>\n",
       "      <td>938.0</td>\n",
       "      <td>2.558181</td>\n",
       "      <td>3.265424</td>\n",
       "      <td>0.041929</td>\n",
       "      <td>1.172725</td>\n",
       "      <td>1.72900</td>\n",
       "      <td>2.895100</td>\n",
       "      <td>39.050</td>\n",
       "    </tr>\n",
       "    <tr>\n",
       "      <th>Luxembourg</th>\n",
       "      <td>853.0</td>\n",
       "      <td>2.394341</td>\n",
       "      <td>2.049718</td>\n",
       "      <td>0.019098</td>\n",
       "      <td>1.201600</td>\n",
       "      <td>1.71240</td>\n",
       "      <td>2.916400</td>\n",
       "      <td>14.354</td>\n",
       "    </tr>\n",
       "    <tr>\n",
       "      <th>Malta</th>\n",
       "      <td>955.0</td>\n",
       "      <td>2.316858</td>\n",
       "      <td>2.105545</td>\n",
       "      <td>0.051019</td>\n",
       "      <td>1.170650</td>\n",
       "      <td>1.72670</td>\n",
       "      <td>2.673350</td>\n",
       "      <td>26.999</td>\n",
       "    </tr>\n",
       "    <tr>\n",
       "      <th>Netherlands</th>\n",
       "      <td>855.0</td>\n",
       "      <td>2.369634</td>\n",
       "      <td>2.088505</td>\n",
       "      <td>0.018433</td>\n",
       "      <td>1.179900</td>\n",
       "      <td>1.74260</td>\n",
       "      <td>2.946300</td>\n",
       "      <td>26.752</td>\n",
       "    </tr>\n",
       "    <tr>\n",
       "      <th>Poland</th>\n",
       "      <td>837.0</td>\n",
       "      <td>2.442858</td>\n",
       "      <td>2.308612</td>\n",
       "      <td>0.037001</td>\n",
       "      <td>1.214100</td>\n",
       "      <td>1.77680</td>\n",
       "      <td>3.029800</td>\n",
       "      <td>31.538</td>\n",
       "    </tr>\n",
       "    <tr>\n",
       "      <th>Portugal</th>\n",
       "      <td>965.0</td>\n",
       "      <td>2.401878</td>\n",
       "      <td>2.393654</td>\n",
       "      <td>0.017149</td>\n",
       "      <td>1.165000</td>\n",
       "      <td>1.72160</td>\n",
       "      <td>3.082400</td>\n",
       "      <td>41.097</td>\n",
       "    </tr>\n",
       "    <tr>\n",
       "      <th>Republic of Cyprus</th>\n",
       "      <td>890.0</td>\n",
       "      <td>2.428440</td>\n",
       "      <td>2.180466</td>\n",
       "      <td>0.026376</td>\n",
       "      <td>1.196375</td>\n",
       "      <td>1.71470</td>\n",
       "      <td>2.887925</td>\n",
       "      <td>19.798</td>\n",
       "    </tr>\n",
       "    <tr>\n",
       "      <th>Romania</th>\n",
       "      <td>925.0</td>\n",
       "      <td>2.508321</td>\n",
       "      <td>2.675786</td>\n",
       "      <td>0.001594</td>\n",
       "      <td>1.208900</td>\n",
       "      <td>1.72520</td>\n",
       "      <td>2.928200</td>\n",
       "      <td>43.428</td>\n",
       "    </tr>\n",
       "    <tr>\n",
       "      <th>Slovakia</th>\n",
       "      <td>935.0</td>\n",
       "      <td>2.280816</td>\n",
       "      <td>1.994698</td>\n",
       "      <td>0.022105</td>\n",
       "      <td>1.195400</td>\n",
       "      <td>1.72630</td>\n",
       "      <td>2.724100</td>\n",
       "      <td>30.866</td>\n",
       "    </tr>\n",
       "    <tr>\n",
       "      <th>Slovenia</th>\n",
       "      <td>938.0</td>\n",
       "      <td>2.345568</td>\n",
       "      <td>2.279563</td>\n",
       "      <td>0.069452</td>\n",
       "      <td>1.224000</td>\n",
       "      <td>1.74560</td>\n",
       "      <td>2.963275</td>\n",
       "      <td>43.397</td>\n",
       "    </tr>\n",
       "    <tr>\n",
       "      <th>Spain</th>\n",
       "      <td>924.0</td>\n",
       "      <td>2.293435</td>\n",
       "      <td>2.025137</td>\n",
       "      <td>0.020066</td>\n",
       "      <td>1.172525</td>\n",
       "      <td>1.65930</td>\n",
       "      <td>2.711325</td>\n",
       "      <td>18.049</td>\n",
       "    </tr>\n",
       "    <tr>\n",
       "      <th>Sweden</th>\n",
       "      <td>936.0</td>\n",
       "      <td>2.510044</td>\n",
       "      <td>2.740395</td>\n",
       "      <td>0.008931</td>\n",
       "      <td>1.217075</td>\n",
       "      <td>1.71565</td>\n",
       "      <td>2.985300</td>\n",
       "      <td>44.103</td>\n",
       "    </tr>\n",
       "  </tbody>\n",
       "</table>\n",
       "</div>"
      ],
      "text/plain": [
       "                       CO                                                   \\\n",
       "                    count      mean       std       min       25%      50%   \n",
       "LOC                                                                          \n",
       "Austria             869.0  2.396225  2.373099  0.010960  1.160000  1.71780   \n",
       "Belgium             909.0  2.327204  2.166127  0.000388  1.155400  1.72070   \n",
       "Bulgaria            888.0  2.489912  2.492534  0.042265  1.204775  1.76105   \n",
       "Croatia             920.0  2.353900  2.338390  0.045731  1.183725  1.65695   \n",
       "Czech Republic      937.0  2.381492  2.168382  0.020591  1.164500  1.69050   \n",
       "Denmark             954.0  2.280000  1.949931  0.062556  1.179975  1.68500   \n",
       "Estonia             845.0  2.284559  1.881075  0.006915  1.215700  1.75490   \n",
       "Finland             867.0  2.289974  1.891694  0.027221  1.176800  1.70420   \n",
       "France              872.0  2.429210  2.200943  0.003665  1.186850  1.71480   \n",
       "Germany             960.0  2.353815  2.023082  0.035076  1.176100  1.76450   \n",
       "Greece              947.0  2.312705  2.196780  0.016447  1.178400  1.72880   \n",
       "Hungary             878.0  2.375815  2.296535  0.044665  1.201600  1.72025   \n",
       "Ireland             876.0  2.477619  2.506142  0.007505  1.189250  1.78215   \n",
       "Italy               910.0  2.332138  2.051564  0.013877  1.199950  1.71395   \n",
       "Latvia              905.0  2.308665  2.072646  0.026562  1.166600  1.67690   \n",
       "Lithuania           938.0  2.558181  3.265424  0.041929  1.172725  1.72900   \n",
       "Luxembourg          853.0  2.394341  2.049718  0.019098  1.201600  1.71240   \n",
       "Malta               955.0  2.316858  2.105545  0.051019  1.170650  1.72670   \n",
       "Netherlands         855.0  2.369634  2.088505  0.018433  1.179900  1.74260   \n",
       "Poland              837.0  2.442858  2.308612  0.037001  1.214100  1.77680   \n",
       "Portugal            965.0  2.401878  2.393654  0.017149  1.165000  1.72160   \n",
       "Republic of Cyprus  890.0  2.428440  2.180466  0.026376  1.196375  1.71470   \n",
       "Romania             925.0  2.508321  2.675786  0.001594  1.208900  1.72520   \n",
       "Slovakia            935.0  2.280816  1.994698  0.022105  1.195400  1.72630   \n",
       "Slovenia            938.0  2.345568  2.279563  0.069452  1.224000  1.74560   \n",
       "Spain               924.0  2.293435  2.025137  0.020066  1.172525  1.65930   \n",
       "Sweden              936.0  2.510044  2.740395  0.008931  1.217075  1.71565   \n",
       "\n",
       "                                      \n",
       "                         75%     max  \n",
       "LOC                                   \n",
       "Austria             2.868200  29.084  \n",
       "Belgium             2.845800  35.045  \n",
       "Bulgaria            3.092050  35.019  \n",
       "Croatia             2.757000  26.026  \n",
       "Czech Republic      2.904700  24.239  \n",
       "Denmark             2.757625  16.883  \n",
       "Estonia             2.612000  13.657  \n",
       "Finland             2.659100  16.022  \n",
       "France              3.075900  22.511  \n",
       "Germany             3.062175  29.341  \n",
       "Greece              2.680350  36.454  \n",
       "Hungary             2.802050  33.913  \n",
       "Ireland             3.071675  33.346  \n",
       "Italy               2.808125  23.629  \n",
       "Latvia              2.713300  14.163  \n",
       "Lithuania           2.895100  39.050  \n",
       "Luxembourg          2.916400  14.354  \n",
       "Malta               2.673350  26.999  \n",
       "Netherlands         2.946300  26.752  \n",
       "Poland              3.029800  31.538  \n",
       "Portugal            3.082400  41.097  \n",
       "Republic of Cyprus  2.887925  19.798  \n",
       "Romania             2.928200  43.428  \n",
       "Slovakia            2.724100  30.866  \n",
       "Slovenia            2.963275  43.397  \n",
       "Spain               2.711325  18.049  \n",
       "Sweden              2.985300  44.103  "
      ]
     },
     "execution_count": 38,
     "metadata": {},
     "output_type": "execute_result"
    }
   ],
   "source": [
    "by_countries_CO_stats = df[['CO','LOC']].groupby('LOC').describe()\n",
    "by_countries_CO_stats"
   ]
  },
  {
   "cell_type": "markdown",
   "id": "5bb8bee8-2e28-479d-8537-60d00de38419",
   "metadata": {},
   "source": [
    "### CO vs Natural Predictors"
   ]
  },
  {
   "cell_type": "markdown",
   "id": "05473f44-52c6-446e-9e01-84d2779e32ee",
   "metadata": {},
   "source": [
    "With the term natural predictors we indicate the AT, AP, and AH features."
   ]
  },
  {
   "cell_type": "code",
   "execution_count": 128,
   "id": "452275b9-b307-4e84-b1ee-35ca28811b5a",
   "metadata": {},
   "outputs": [],
   "source": [
    "df_nat = df[['AT','AP','AH','CO']]"
   ]
  },
  {
   "cell_type": "code",
   "execution_count": 143,
   "id": "fb00cfb9-d928-4464-86c2-dd4db88d2234",
   "metadata": {},
   "outputs": [
    {
     "data": {
      "text/plain": [
       "AT   -0.173731\n",
       "AP    0.066065\n",
       "AH    0.112168\n",
       "CO    1.000000\n",
       "Name: CO, dtype: float64"
      ]
     },
     "execution_count": 143,
     "metadata": {},
     "output_type": "execute_result"
    }
   ],
   "source": [
    "df_nat.corr()['CO']"
   ]
  },
  {
   "cell_type": "code",
   "execution_count": 142,
   "id": "d3f91b22-0e8a-4f6b-90cb-1734791d65e8",
   "metadata": {},
   "outputs": [
    {
     "data": {
      "text/plain": [
       "AT   -0.111238\n",
       "AP    0.030471\n",
       "AH    0.085916\n",
       "CO    1.000000\n",
       "Name: CO, dtype: float64"
      ]
     },
     "execution_count": 142,
     "metadata": {},
     "output_type": "execute_result"
    }
   ],
   "source": [
    "df_nat.corr('spearman')['CO']"
   ]
  },
  {
   "cell_type": "markdown",
   "id": "65e70d48-1e07-4e59-88e9-1861d9e18ebc",
   "metadata": {},
   "source": [
    "No significant relationship between the CO emission values and the Natural Predictors."
   ]
  },
  {
   "cell_type": "code",
   "execution_count": null,
   "id": "ae0ee508-ade3-4a13-b30f-7ab93b170d7f",
   "metadata": {},
   "outputs": [],
   "source": []
  }
 ],
 "metadata": {
  "kernelspec": {
   "display_name": "Python 3 (ipykernel)",
   "language": "python",
   "name": "python3"
  },
  "language_info": {
   "codemirror_mode": {
    "name": "ipython",
    "version": 3
   },
   "file_extension": ".py",
   "mimetype": "text/x-python",
   "name": "python",
   "nbconvert_exporter": "python",
   "pygments_lexer": "ipython3",
   "version": "3.8.10"
  }
 },
 "nbformat": 4,
 "nbformat_minor": 5
}
