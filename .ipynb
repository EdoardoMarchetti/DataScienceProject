{
 "cells": [
  {
   "cell_type": "markdown",
   "id": "2125a873-68ee-4462-8ae6-99d55817b480",
   "metadata": {},
   "source": [
    "# Configuration"
   ]
  },
  {
   "cell_type": "code",
   "execution_count": 40,
   "id": "2400f8a9-fb68-4c14-9e88-2bfa9d56cf6d",
   "metadata": {},
   "outputs": [],
   "source": [
    "import pandas as pd\n",
    "import numpy as np\n",
    "import matplotlib.pyplot as plt\n",
    "import seaborn as sns\n",
    "\n",
    "#scikitlearn importing\n",
    "from sklearn.impute import KNNImputer\n",
    "from sklearn.model_selection import train_test_split\n",
    "from sklearn.preprocessing import StandardScaler\n",
    "\n",
    "#models importing\n",
    "from sklearn.linear_model import LinearRegression\n",
    "from sklearn.linear_model import Ridge\n",
    "from sklearn.metrics import mean_squared_error\n",
    "\n",
    "%matplotlib inline\n",
    "\n",
    "plt.rcParams[\"figure.figsize\"] = (10, 6)"
   ]
  },
  {
   "cell_type": "markdown",
   "metadata": {},
   "source": [
    "### Dataset preparation"
   ]
  },
  {
   "cell_type": "code",
   "execution_count": 3,
   "metadata": {},
   "outputs": [],
   "source": [
    "std_df = pd.read_csv(\"processed_dataset/std_dataset.csv\")"
   ]
  },
  {
   "cell_type": "code",
   "execution_count": 4,
   "metadata": {},
   "outputs": [],
   "source": [
    "dev_df = std_df.loc[:24487,:]"
   ]
  },
  {
   "cell_type": "code",
   "execution_count": 5,
   "metadata": {},
   "outputs": [
    {
     "name": "stdout",
     "output_type": "stream",
     "text": [
      "<class 'pandas.core.frame.DataFrame'>\n",
      "RangeIndex: 24488 entries, 0 to 24487\n",
      "Data columns (total 40 columns):\n",
      " #   Column              Non-Null Count  Dtype  \n",
      "---  ------              --------------  -----  \n",
      " 0   ID                  24488 non-null  int64  \n",
      " 1   YEAR                24488 non-null  int64  \n",
      " 2   AT                  24488 non-null  float64\n",
      " 3   AP                  24488 non-null  float64\n",
      " 4   AH                  24488 non-null  float64\n",
      " 5   AFDP                24488 non-null  float64\n",
      " 6   GTEP                24488 non-null  float64\n",
      " 7   TIT                 24488 non-null  float64\n",
      " 8   TAT                 24488 non-null  float64\n",
      " 9   TEY                 24488 non-null  float64\n",
      " 10  CDP                 24488 non-null  float64\n",
      " 11  NOX                 24488 non-null  float64\n",
      " 12  CO                  24488 non-null  float64\n",
      " 13  Austria             24488 non-null  int64  \n",
      " 14  Belgium             24488 non-null  int64  \n",
      " 15  Bulgaria            24488 non-null  int64  \n",
      " 16  Croatia             24488 non-null  int64  \n",
      " 17  Czech Republic      24488 non-null  int64  \n",
      " 18  Denmark             24488 non-null  int64  \n",
      " 19  Estonia             24488 non-null  int64  \n",
      " 20  Finland             24488 non-null  int64  \n",
      " 21  France              24488 non-null  int64  \n",
      " 22  Germany             24488 non-null  int64  \n",
      " 23  Greece              24488 non-null  int64  \n",
      " 24  Hungary             24488 non-null  int64  \n",
      " 25  Ireland             24488 non-null  int64  \n",
      " 26  Italy               24488 non-null  int64  \n",
      " 27  Latvia              24488 non-null  int64  \n",
      " 28  Lithuania           24488 non-null  int64  \n",
      " 29  Luxembourg          24488 non-null  int64  \n",
      " 30  Malta               24488 non-null  int64  \n",
      " 31  Netherlands         24488 non-null  int64  \n",
      " 32  Poland              24488 non-null  int64  \n",
      " 33  Portugal            24488 non-null  int64  \n",
      " 34  Republic of Cyprus  24488 non-null  int64  \n",
      " 35  Romania             24488 non-null  int64  \n",
      " 36  Slovakia            24488 non-null  int64  \n",
      " 37  Slovenia            24488 non-null  int64  \n",
      " 38  Spain               24488 non-null  int64  \n",
      " 39  Sweden              24488 non-null  int64  \n",
      "dtypes: float64(11), int64(29)\n",
      "memory usage: 7.5 MB\n"
     ]
    }
   ],
   "source": [
    "dev_df.info()"
   ]
  },
  {
   "cell_type": "code",
   "execution_count": 14,
   "metadata": {},
   "outputs": [],
   "source": [
    "eval_df = std_df.loc[24488::,:].drop(columns=['CO'])"
   ]
  },
  {
   "cell_type": "code",
   "execution_count": 15,
   "metadata": {},
   "outputs": [
    {
     "name": "stdout",
     "output_type": "stream",
     "text": [
      "<class 'pandas.core.frame.DataFrame'>\n",
      "RangeIndex: 12245 entries, 24488 to 36732\n",
      "Data columns (total 39 columns):\n",
      " #   Column              Non-Null Count  Dtype  \n",
      "---  ------              --------------  -----  \n",
      " 0   ID                  12245 non-null  int64  \n",
      " 1   YEAR                12245 non-null  int64  \n",
      " 2   AT                  12245 non-null  float64\n",
      " 3   AP                  12245 non-null  float64\n",
      " 4   AH                  12245 non-null  float64\n",
      " 5   AFDP                12245 non-null  float64\n",
      " 6   GTEP                12245 non-null  float64\n",
      " 7   TIT                 12245 non-null  float64\n",
      " 8   TAT                 12245 non-null  float64\n",
      " 9   TEY                 12245 non-null  float64\n",
      " 10  CDP                 12245 non-null  float64\n",
      " 11  NOX                 12245 non-null  float64\n",
      " 12  Austria             12245 non-null  int64  \n",
      " 13  Belgium             12245 non-null  int64  \n",
      " 14  Bulgaria            12245 non-null  int64  \n",
      " 15  Croatia             12245 non-null  int64  \n",
      " 16  Czech Republic      12245 non-null  int64  \n",
      " 17  Denmark             12245 non-null  int64  \n",
      " 18  Estonia             12245 non-null  int64  \n",
      " 19  Finland             12245 non-null  int64  \n",
      " 20  France              12245 non-null  int64  \n",
      " 21  Germany             12245 non-null  int64  \n",
      " 22  Greece              12245 non-null  int64  \n",
      " 23  Hungary             12245 non-null  int64  \n",
      " 24  Ireland             12245 non-null  int64  \n",
      " 25  Italy               12245 non-null  int64  \n",
      " 26  Latvia              12245 non-null  int64  \n",
      " 27  Lithuania           12245 non-null  int64  \n",
      " 28  Luxembourg          12245 non-null  int64  \n",
      " 29  Malta               12245 non-null  int64  \n",
      " 30  Netherlands         12245 non-null  int64  \n",
      " 31  Poland              12245 non-null  int64  \n",
      " 32  Portugal            12245 non-null  int64  \n",
      " 33  Republic of Cyprus  12245 non-null  int64  \n",
      " 34  Romania             12245 non-null  int64  \n",
      " 35  Slovakia            12245 non-null  int64  \n",
      " 36  Slovenia            12245 non-null  int64  \n",
      " 37  Spain               12245 non-null  int64  \n",
      " 38  Sweden              12245 non-null  int64  \n",
      "dtypes: float64(10), int64(29)\n",
      "memory usage: 3.6 MB\n"
     ]
    }
   ],
   "source": [
    "eval_df.info()"
   ]
  },
  {
   "cell_type": "code",
   "execution_count": 23,
   "metadata": {},
   "outputs": [],
   "source": [
    "X_df = dev_df.drop(columns=['ID','CO'])\n",
    "Y_df = pd.DataFrame(dev_df['CO'])"
   ]
  },
  {
   "cell_type": "markdown",
   "metadata": {},
   "source": [
    "# Models all predictors"
   ]
  },
  {
   "cell_type": "code",
   "execution_count": 41,
   "metadata": {},
   "outputs": [],
   "source": [
    "X_train, X_test = train_test_split(X_df.values, test_size=0.2, random_state=42, shuffle=True)\n",
    "Y_train, Y_test = train_test_split(Y_df.values, test_size=0.2, random_state=42, shuffle=True)"
   ]
  },
  {
   "cell_type": "markdown",
   "metadata": {},
   "source": [
    "### Linear Regression"
   ]
  },
  {
   "cell_type": "code",
   "execution_count": 47,
   "metadata": {},
   "outputs": [],
   "source": [
    "linear = LinearRegression()\n",
    "linear.fit(X_train,Y_train)\n",
    "Y_linear = linear.predict(X_test)"
   ]
  },
  {
   "cell_type": "code",
   "execution_count": 48,
   "metadata": {},
   "outputs": [
    {
     "data": {
      "text/plain": [
       "1.8493793939580176"
      ]
     },
     "execution_count": 48,
     "metadata": {},
     "output_type": "execute_result"
    }
   ],
   "source": [
    "mean_squared_error(Y_test, Y_linear)"
   ]
  },
  {
   "cell_type": "markdown",
   "metadata": {},
   "source": [
    "### RIDGE "
   ]
  },
  {
   "cell_type": "code",
   "execution_count": 50,
   "metadata": {},
   "outputs": [],
   "source": [
    "ridge = Ridge()\n",
    "ridge.fit(X_train,Y_train)\n",
    "Y_ridge = ridge.predict(X_test)"
   ]
  },
  {
   "cell_type": "code",
   "execution_count": 51,
   "metadata": {},
   "outputs": [
    {
     "data": {
      "text/plain": [
       "1.8492947228280479"
      ]
     },
     "execution_count": 51,
     "metadata": {},
     "output_type": "execute_result"
    }
   ],
   "source": [
    "mean_squared_error(Y_test, Y_ridge)"
   ]
  },
  {
   "cell_type": "markdown",
   "metadata": {},
   "source": [
    "# Models without NOX"
   ]
  },
  {
   "cell_type": "code",
   "execution_count": 58,
   "metadata": {},
   "outputs": [],
   "source": [
    "X_train, X_test = train_test_split(X_df.drop(columns=['NOX']).values, test_size=0.2, random_state=42, shuffle=True)\n",
    "Y_train, Y_test = train_test_split(Y_df.values, test_size=0.2, random_state=42, shuffle=True)"
   ]
  },
  {
   "cell_type": "markdown",
   "metadata": {},
   "source": [
    "### Linear Regression"
   ]
  },
  {
   "cell_type": "code",
   "execution_count": 61,
   "metadata": {},
   "outputs": [],
   "source": [
    "linear = LinearRegression()\n",
    "linear.fit(X_train,Y_train)\n",
    "Y_linear = linear.predict(X_test)"
   ]
  },
  {
   "cell_type": "code",
   "execution_count": 62,
   "metadata": {},
   "outputs": [
    {
     "data": {
      "text/plain": [
       "2.1931232619856864"
      ]
     },
     "execution_count": 62,
     "metadata": {},
     "output_type": "execute_result"
    }
   ],
   "source": [
    "mean_squared_error(Y_test, Y_linear)"
   ]
  },
  {
   "cell_type": "markdown",
   "metadata": {},
   "source": [
    "### RIDGE "
   ]
  },
  {
   "cell_type": "code",
   "execution_count": 63,
   "metadata": {},
   "outputs": [],
   "source": [
    "ridge = Ridge()\n",
    "ridge.fit(X_train,Y_train)\n",
    "Y_ridge = ridge.predict(X_test)"
   ]
  },
  {
   "cell_type": "code",
   "execution_count": 64,
   "metadata": {},
   "outputs": [
    {
     "data": {
      "text/plain": [
       "2.193121482839718"
      ]
     },
     "execution_count": 64,
     "metadata": {},
     "output_type": "execute_result"
    }
   ],
   "source": [
    "mean_squared_error(Y_test, Y_ridge)"
   ]
  },
  {
   "cell_type": "markdown",
   "metadata": {},
   "source": [
    "# Models only ambiental and process predictors\n"
   ]
  },
  {
   "cell_type": "code",
   "execution_count": 70,
   "metadata": {},
   "outputs": [],
   "source": [
    "X_train, X_test = train_test_split(X_df.loc[:,'AT':'CDP'].values, test_size=0.2, random_state=42, shuffle=True)\n",
    "Y_train, Y_test = train_test_split(Y_df.values, test_size=0.2, random_state=42, shuffle=True)"
   ]
  },
  {
   "cell_type": "markdown",
   "metadata": {},
   "source": [
    "### Linear Regression"
   ]
  },
  {
   "cell_type": "code",
   "execution_count": 71,
   "metadata": {},
   "outputs": [],
   "source": [
    "linear = LinearRegression()\n",
    "linear.fit(X_train,Y_train)\n",
    "Y_linear = linear.predict(X_test)"
   ]
  },
  {
   "cell_type": "code",
   "execution_count": 72,
   "metadata": {},
   "outputs": [
    {
     "data": {
      "text/plain": [
       "2.3475072700813"
      ]
     },
     "execution_count": 72,
     "metadata": {},
     "output_type": "execute_result"
    }
   ],
   "source": [
    "mean_squared_error(Y_test, Y_linear)"
   ]
  },
  {
   "cell_type": "markdown",
   "metadata": {},
   "source": [
    "### RIDGE "
   ]
  },
  {
   "cell_type": "code",
   "execution_count": 73,
   "metadata": {},
   "outputs": [],
   "source": [
    "ridge = Ridge()\n",
    "ridge.fit(X_train,Y_train)\n",
    "Y_ridge = ridge.predict(X_test)"
   ]
  },
  {
   "cell_type": "code",
   "execution_count": 74,
   "metadata": {},
   "outputs": [
    {
     "data": {
      "text/plain": [
       "2.3474641994792536"
      ]
     },
     "execution_count": 74,
     "metadata": {},
     "output_type": "execute_result"
    }
   ],
   "source": [
    "mean_squared_error(Y_test, Y_ridge)"
   ]
  }
 ],
 "metadata": {
  "interpreter": {
   "hash": "f285bb5f8983d1aafa033d6733ae0de2189f69ae4c0ee5aa1b3ca39129c61fab"
  },
  "kernelspec": {
   "display_name": "Python 3.8.6 64-bit",
   "language": "python",
   "name": "python3"
  },
  "language_info": {
   "codemirror_mode": {
    "name": "ipython",
    "version": 3
   },
   "file_extension": ".py",
   "mimetype": "text/x-python",
   "name": "python",
   "nbconvert_exporter": "python",
   "pygments_lexer": "ipython3",
   "version": "3.8.6"
  },
  "orig_nbformat": 4
 },
 "nbformat": 4,
 "nbformat_minor": 2
}
