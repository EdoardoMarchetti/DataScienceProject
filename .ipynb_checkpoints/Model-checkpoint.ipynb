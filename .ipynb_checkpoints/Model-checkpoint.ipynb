{
 "cells": [
  {
   "cell_type": "markdown",
   "id": "d02287d6-7f55-44e5-9b19-c4ba455b02c4",
   "metadata": {},
   "source": [
    "# Configuration"
   ]
  },
  {
   "cell_type": "code",
   "execution_count": 2,
   "id": "28e45c60-beba-4259-b039-9bb36e30cb49",
   "metadata": {},
   "outputs": [],
   "source": [
    "import pandas as pd\n",
    "import numpy as np\n",
    "import matplotlib.pyplot as plt\n",
    "\n",
    "%matplotlib inline\n",
    "\n",
    "from sklearn.ensemble import RandomForestClassifier, RandomForestRegressor\n",
    "from sklearn.model_selection import train_test_split\n"
   ]
  },
  {
   "cell_type": "markdown",
   "id": "fe4a652f-ff7f-405e-b995-4a6082bea7d8",
   "metadata": {},
   "source": [
    "# Importing dataset "
   ]
  },
  {
   "cell_type": "code",
   "execution_count": 4,
   "id": "bf50cc34-2ab2-4adc-bf38-0ff246d48a79",
   "metadata": {},
   "outputs": [
    {
     "data": {
      "text/plain": [
       "(36733, 39)"
      ]
     },
     "execution_count": 4,
     "metadata": {},
     "output_type": "execute_result"
    }
   ],
   "source": [
    "std_df = pd.read_csv('processed_dataset/std_dataset.csv', index_col = 0)\n",
    "std_df.shape"
   ]
  },
  {
   "cell_type": "code",
   "execution_count": 6,
   "id": "2cfdff04-e1d3-49bf-9912-2e40a1a1285f",
   "metadata": {},
   "outputs": [
    {
     "data": {
      "text/plain": [
       "(24488, 39)"
      ]
     },
     "execution_count": 6,
     "metadata": {},
     "output_type": "execute_result"
    }
   ],
   "source": [
    "dev_df = std_df.loc[:24487,:]\n",
    "dev_df.shape"
   ]
  },
  {
   "cell_type": "code",
   "execution_count": 8,
   "id": "a3c44500-a30d-438e-9381-42ab1bdeed47",
   "metadata": {},
   "outputs": [
    {
     "data": {
      "text/plain": [
       "(12245, 39)"
      ]
     },
     "execution_count": 8,
     "metadata": {},
     "output_type": "execute_result"
    }
   ],
   "source": [
    "eval_df = std_df.loc[24488:, :]\n",
    "eval_df.shape"
   ]
  },
  {
   "cell_type": "markdown",
   "id": "5ff29167-521c-4e50-9ff5-a04b2ce059c1",
   "metadata": {},
   "source": [
    "# Model building "
   ]
  },
  {
   "cell_type": "code",
   "execution_count": 9,
   "id": "adc0fe15-4466-46e1-9785-1367c046c61c",
   "metadata": {},
   "outputs": [],
   "source": [
    "class Model():\n",
    "    \n",
    "    def __init__(self, model_classifier, standard_regressor, extreme_regressor):\n",
    "        \n",
    "        self.classifier = model_classifier\n",
    "        self.std_regr = standard_regressor\n",
    "        self.ext_regr = extreme_regressor\n",
    "        \n",
    "    def fit(self, X, co_values, binary_labels):\n",
    "        \n",
    "        self.classifier.fit(X,binary_labels)\n",
    "        \n",
    "        mask = binary_labels == 0\n",
    "        std_X, std_co_values = X[mask,:], co_values[mask]\n",
    "        ext_X, ext_co_values = X[~mask,:], co_values[~mask]\n",
    "        \n",
    "        self.std_regr.fit(std_X, std_co_values)\n",
    "        self.extr_regr.fit(ext_X, ext_co_values)\n",
    "        \n",
    "        return True\n",
    "    \n",
    "    def predict(X):\n",
    "        \n",
    "        pred_labels = self.classifier.predict(X)\n",
    "        \n",
    "        mask = pred_labels == 0\n",
    "        std_X = X[mask, :]\n",
    "        ext_X = X[~mask, :]\n",
    "        \n",
    "        std_pred = self.std_regr.predict(std_X)\n",
    "        ext_pred = self.ext_regr.predict(ext_X)\n",
    "        \n",
    "        y_pred = np.zeros(shape = pred_labels.shape)\n",
    "        y_pred[mask] = std_pred\n",
    "        y_pred[~mask] = ext_pred\n",
    "        \n",
    "        return y_pred\n",
    "        \n",
    "        "
   ]
  },
  {
   "cell_type": "code",
   "execution_count": 16,
   "id": "f8ed439b-ada2-4416-9a68-c0213814c311",
   "metadata": {},
   "outputs": [
    {
     "data": {
      "text/plain": [
       "array([ True, False,  True, False,  True,  True,  True, False])"
      ]
     },
     "execution_count": 16,
     "metadata": {},
     "output_type": "execute_result"
    }
   ],
   "source": [
    "binary_labels = np.array([0,1,0,1,0,0,0,1])\n",
    "\n",
    "mask = binary_labels == 0\n",
    "mask"
   ]
  }
 ],
 "metadata": {
  "kernelspec": {
   "display_name": "Python 3 (ipykernel)",
   "language": "python",
   "name": "python3"
  },
  "language_info": {
   "codemirror_mode": {
    "name": "ipython",
    "version": 3
   },
   "file_extension": ".py",
   "mimetype": "text/x-python",
   "name": "python",
   "nbconvert_exporter": "python",
   "pygments_lexer": "ipython3",
   "version": "3.8.10"
  }
 },
 "nbformat": 4,
 "nbformat_minor": 5
}
