{
 "cells": [
  {
   "cell_type": "markdown",
   "id": "08442803-ea33-4be3-bb92-4cf3944ae24d",
   "metadata": {},
   "source": [
    "# Configuration"
   ]
  },
  {
   "cell_type": "code",
   "execution_count": 137,
   "id": "bbf3cb36-aa59-47c8-8be5-89befa443ffe",
   "metadata": {},
   "outputs": [],
   "source": [
    "import pandas as pd\n",
    "import numpy as np\n",
    "import matplotlib.pyplot as plt\n",
    "import seaborn as sns\n",
    "\n",
    "#scikitlearn importing\n",
    "from sklearn.impute import KNNImputer\n",
    "from sklearn.model_selection import train_test_split, validation_curve\n",
    "from sklearn.linear_model import Lasso\n",
    "from sklearn.metrics import mean_squared_error as mse\n",
    "\n",
    "%matplotlib inline\n",
    "\n",
    "plt.rcParams[\"figure.figsize\"] = (10, 6)"
   ]
  },
  {
   "cell_type": "markdown",
   "id": "3f1ff6da-0610-4243-a774-70507dda74dc",
   "metadata": {},
   "source": [
    "# Importing Dataset"
   ]
  },
  {
   "cell_type": "code",
   "execution_count": 2,
   "id": "f8e3e04f-912b-4398-b079-42062a6c9a60",
   "metadata": {},
   "outputs": [
    {
     "data": {
      "text/html": [
       "<div>\n",
       "<style scoped>\n",
       "    .dataframe tbody tr th:only-of-type {\n",
       "        vertical-align: middle;\n",
       "    }\n",
       "\n",
       "    .dataframe tbody tr th {\n",
       "        vertical-align: top;\n",
       "    }\n",
       "\n",
       "    .dataframe thead th {\n",
       "        text-align: right;\n",
       "    }\n",
       "</style>\n",
       "<table border=\"1\" class=\"dataframe\">\n",
       "  <thead>\n",
       "    <tr style=\"text-align: right;\">\n",
       "      <th></th>\n",
       "      <th>YEAR</th>\n",
       "      <th>AT</th>\n",
       "      <th>AP</th>\n",
       "      <th>AH</th>\n",
       "      <th>AFDP</th>\n",
       "      <th>GTEP</th>\n",
       "      <th>TIT</th>\n",
       "      <th>TAT</th>\n",
       "      <th>TEY</th>\n",
       "      <th>CDP</th>\n",
       "      <th>...</th>\n",
       "      <th>Malta</th>\n",
       "      <th>Netherlands</th>\n",
       "      <th>Poland</th>\n",
       "      <th>Portugal</th>\n",
       "      <th>Republic of Cyprus</th>\n",
       "      <th>Romania</th>\n",
       "      <th>Slovakia</th>\n",
       "      <th>Slovenia</th>\n",
       "      <th>Spain</th>\n",
       "      <th>Sweden</th>\n",
       "    </tr>\n",
       "    <tr>\n",
       "      <th>ID</th>\n",
       "      <th></th>\n",
       "      <th></th>\n",
       "      <th></th>\n",
       "      <th></th>\n",
       "      <th></th>\n",
       "      <th></th>\n",
       "      <th></th>\n",
       "      <th></th>\n",
       "      <th></th>\n",
       "      <th></th>\n",
       "      <th></th>\n",
       "      <th></th>\n",
       "      <th></th>\n",
       "      <th></th>\n",
       "      <th></th>\n",
       "      <th></th>\n",
       "      <th></th>\n",
       "      <th></th>\n",
       "      <th></th>\n",
       "      <th></th>\n",
       "      <th></th>\n",
       "    </tr>\n",
       "  </thead>\n",
       "  <tbody>\n",
       "    <tr>\n",
       "      <th>0</th>\n",
       "      <td>5</td>\n",
       "      <td>0.961592</td>\n",
       "      <td>-0.964193</td>\n",
       "      <td>-1.524936</td>\n",
       "      <td>-0.724114</td>\n",
       "      <td>-0.769905</td>\n",
       "      <td>-0.564983</td>\n",
       "      <td>0.563634</td>\n",
       "      <td>-0.872408</td>\n",
       "      <td>-0.813978</td>\n",
       "      <td>...</td>\n",
       "      <td>0</td>\n",
       "      <td>0</td>\n",
       "      <td>0</td>\n",
       "      <td>0</td>\n",
       "      <td>0</td>\n",
       "      <td>0</td>\n",
       "      <td>0</td>\n",
       "      <td>0</td>\n",
       "      <td>0</td>\n",
       "      <td>0</td>\n",
       "    </tr>\n",
       "    <tr>\n",
       "      <th>1</th>\n",
       "      <td>5</td>\n",
       "      <td>-0.455031</td>\n",
       "      <td>1.708863</td>\n",
       "      <td>0.275700</td>\n",
       "      <td>-0.837779</td>\n",
       "      <td>-1.312530</td>\n",
       "      <td>-2.518071</td>\n",
       "      <td>-1.827585</td>\n",
       "      <td>-1.499082</td>\n",
       "      <td>-1.254529</td>\n",
       "      <td>...</td>\n",
       "      <td>0</td>\n",
       "      <td>0</td>\n",
       "      <td>0</td>\n",
       "      <td>0</td>\n",
       "      <td>0</td>\n",
       "      <td>1</td>\n",
       "      <td>0</td>\n",
       "      <td>0</td>\n",
       "      <td>0</td>\n",
       "      <td>0</td>\n",
       "    </tr>\n",
       "    <tr>\n",
       "      <th>2</th>\n",
       "      <td>5</td>\n",
       "      <td>-0.827587</td>\n",
       "      <td>-0.608815</td>\n",
       "      <td>0.036992</td>\n",
       "      <td>1.274906</td>\n",
       "      <td>0.732639</td>\n",
       "      <td>0.714232</td>\n",
       "      <td>-0.988535</td>\n",
       "      <td>0.880742</td>\n",
       "      <td>0.848897</td>\n",
       "      <td>...</td>\n",
       "      <td>0</td>\n",
       "      <td>0</td>\n",
       "      <td>0</td>\n",
       "      <td>0</td>\n",
       "      <td>0</td>\n",
       "      <td>0</td>\n",
       "      <td>0</td>\n",
       "      <td>0</td>\n",
       "      <td>0</td>\n",
       "      <td>1</td>\n",
       "    </tr>\n",
       "    <tr>\n",
       "      <th>3</th>\n",
       "      <td>5</td>\n",
       "      <td>1.052456</td>\n",
       "      <td>-1.551338</td>\n",
       "      <td>-0.007405</td>\n",
       "      <td>-0.894806</td>\n",
       "      <td>-1.145422</td>\n",
       "      <td>-1.101797</td>\n",
       "      <td>0.551920</td>\n",
       "      <td>-1.323511</td>\n",
       "      <td>-1.317071</td>\n",
       "      <td>...</td>\n",
       "      <td>0</td>\n",
       "      <td>0</td>\n",
       "      <td>0</td>\n",
       "      <td>0</td>\n",
       "      <td>0</td>\n",
       "      <td>0</td>\n",
       "      <td>0</td>\n",
       "      <td>0</td>\n",
       "      <td>0</td>\n",
       "      <td>0</td>\n",
       "    </tr>\n",
       "    <tr>\n",
       "      <th>4</th>\n",
       "      <td>5</td>\n",
       "      <td>-0.568511</td>\n",
       "      <td>-0.299791</td>\n",
       "      <td>1.282019</td>\n",
       "      <td>0.349324</td>\n",
       "      <td>-0.314415</td>\n",
       "      <td>0.268791</td>\n",
       "      <td>0.570956</td>\n",
       "      <td>0.016982</td>\n",
       "      <td>-0.124179</td>\n",
       "      <td>...</td>\n",
       "      <td>0</td>\n",
       "      <td>0</td>\n",
       "      <td>0</td>\n",
       "      <td>0</td>\n",
       "      <td>0</td>\n",
       "      <td>0</td>\n",
       "      <td>0</td>\n",
       "      <td>0</td>\n",
       "      <td>0</td>\n",
       "      <td>0</td>\n",
       "    </tr>\n",
       "  </tbody>\n",
       "</table>\n",
       "<p>5 rows × 39 columns</p>\n",
       "</div>"
      ],
      "text/plain": [
       "    YEAR        AT        AP        AH      AFDP      GTEP       TIT  \\\n",
       "ID                                                                     \n",
       "0      5  0.961592 -0.964193 -1.524936 -0.724114 -0.769905 -0.564983   \n",
       "1      5 -0.455031  1.708863  0.275700 -0.837779 -1.312530 -2.518071   \n",
       "2      5 -0.827587 -0.608815  0.036992  1.274906  0.732639  0.714232   \n",
       "3      5  1.052456 -1.551338 -0.007405 -0.894806 -1.145422 -1.101797   \n",
       "4      5 -0.568511 -0.299791  1.282019  0.349324 -0.314415  0.268791   \n",
       "\n",
       "         TAT       TEY       CDP  ...  Malta  Netherlands  Poland  Portugal  \\\n",
       "ID                                ...                                         \n",
       "0   0.563634 -0.872408 -0.813978  ...      0            0       0         0   \n",
       "1  -1.827585 -1.499082 -1.254529  ...      0            0       0         0   \n",
       "2  -0.988535  0.880742  0.848897  ...      0            0       0         0   \n",
       "3   0.551920 -1.323511 -1.317071  ...      0            0       0         0   \n",
       "4   0.570956  0.016982 -0.124179  ...      0            0       0         0   \n",
       "\n",
       "    Republic of Cyprus  Romania  Slovakia  Slovenia  Spain  Sweden  \n",
       "ID                                                                  \n",
       "0                    0        0         0         0      0       0  \n",
       "1                    0        1         0         0      0       0  \n",
       "2                    0        0         0         0      0       1  \n",
       "3                    0        0         0         0      0       0  \n",
       "4                    0        0         0         0      0       0  \n",
       "\n",
       "[5 rows x 39 columns]"
      ]
     },
     "execution_count": 2,
     "metadata": {},
     "output_type": "execute_result"
    }
   ],
   "source": [
    "std_df = pd.read_csv('processed_dataset/std_dataset', index_col = 0, na_values = '-')\n",
    "std_df.head()"
   ]
  },
  {
   "cell_type": "code",
   "execution_count": 3,
   "id": "487b5fc4-b3f6-4caf-9eed-46375eaa73ba",
   "metadata": {},
   "outputs": [
    {
     "data": {
      "text/html": [
       "<div>\n",
       "<style scoped>\n",
       "    .dataframe tbody tr th:only-of-type {\n",
       "        vertical-align: middle;\n",
       "    }\n",
       "\n",
       "    .dataframe tbody tr th {\n",
       "        vertical-align: top;\n",
       "    }\n",
       "\n",
       "    .dataframe thead th {\n",
       "        text-align: right;\n",
       "    }\n",
       "</style>\n",
       "<table border=\"1\" class=\"dataframe\">\n",
       "  <thead>\n",
       "    <tr style=\"text-align: right;\">\n",
       "      <th></th>\n",
       "      <th>YEAR</th>\n",
       "      <th>AT</th>\n",
       "      <th>AP</th>\n",
       "      <th>AH</th>\n",
       "      <th>AFDP</th>\n",
       "      <th>GTEP</th>\n",
       "      <th>TIT</th>\n",
       "      <th>TAT</th>\n",
       "      <th>TEY</th>\n",
       "      <th>CDP</th>\n",
       "      <th>...</th>\n",
       "      <th>Malta</th>\n",
       "      <th>Netherlands</th>\n",
       "      <th>Poland</th>\n",
       "      <th>Portugal</th>\n",
       "      <th>Republic of Cyprus</th>\n",
       "      <th>Romania</th>\n",
       "      <th>Slovakia</th>\n",
       "      <th>Slovenia</th>\n",
       "      <th>Spain</th>\n",
       "      <th>Sweden</th>\n",
       "    </tr>\n",
       "    <tr>\n",
       "      <th>ID</th>\n",
       "      <th></th>\n",
       "      <th></th>\n",
       "      <th></th>\n",
       "      <th></th>\n",
       "      <th></th>\n",
       "      <th></th>\n",
       "      <th></th>\n",
       "      <th></th>\n",
       "      <th></th>\n",
       "      <th></th>\n",
       "      <th></th>\n",
       "      <th></th>\n",
       "      <th></th>\n",
       "      <th></th>\n",
       "      <th></th>\n",
       "      <th></th>\n",
       "      <th></th>\n",
       "      <th></th>\n",
       "      <th></th>\n",
       "      <th></th>\n",
       "      <th></th>\n",
       "    </tr>\n",
       "  </thead>\n",
       "  <tbody>\n",
       "    <tr>\n",
       "      <th>0</th>\n",
       "      <td>5</td>\n",
       "      <td>0.961592</td>\n",
       "      <td>-0.964193</td>\n",
       "      <td>-1.524936</td>\n",
       "      <td>-0.724114</td>\n",
       "      <td>-0.769905</td>\n",
       "      <td>-0.564983</td>\n",
       "      <td>0.563634</td>\n",
       "      <td>-0.872408</td>\n",
       "      <td>-0.813978</td>\n",
       "      <td>...</td>\n",
       "      <td>0</td>\n",
       "      <td>0</td>\n",
       "      <td>0</td>\n",
       "      <td>0</td>\n",
       "      <td>0</td>\n",
       "      <td>0</td>\n",
       "      <td>0</td>\n",
       "      <td>0</td>\n",
       "      <td>0</td>\n",
       "      <td>0</td>\n",
       "    </tr>\n",
       "    <tr>\n",
       "      <th>1</th>\n",
       "      <td>5</td>\n",
       "      <td>-0.455031</td>\n",
       "      <td>1.708863</td>\n",
       "      <td>0.275700</td>\n",
       "      <td>-0.837779</td>\n",
       "      <td>-1.312530</td>\n",
       "      <td>-2.518071</td>\n",
       "      <td>-1.827585</td>\n",
       "      <td>-1.499082</td>\n",
       "      <td>-1.254529</td>\n",
       "      <td>...</td>\n",
       "      <td>0</td>\n",
       "      <td>0</td>\n",
       "      <td>0</td>\n",
       "      <td>0</td>\n",
       "      <td>0</td>\n",
       "      <td>1</td>\n",
       "      <td>0</td>\n",
       "      <td>0</td>\n",
       "      <td>0</td>\n",
       "      <td>0</td>\n",
       "    </tr>\n",
       "    <tr>\n",
       "      <th>2</th>\n",
       "      <td>5</td>\n",
       "      <td>-0.827587</td>\n",
       "      <td>-0.608815</td>\n",
       "      <td>0.036992</td>\n",
       "      <td>1.274906</td>\n",
       "      <td>0.732639</td>\n",
       "      <td>0.714232</td>\n",
       "      <td>-0.988535</td>\n",
       "      <td>0.880742</td>\n",
       "      <td>0.848897</td>\n",
       "      <td>...</td>\n",
       "      <td>0</td>\n",
       "      <td>0</td>\n",
       "      <td>0</td>\n",
       "      <td>0</td>\n",
       "      <td>0</td>\n",
       "      <td>0</td>\n",
       "      <td>0</td>\n",
       "      <td>0</td>\n",
       "      <td>0</td>\n",
       "      <td>1</td>\n",
       "    </tr>\n",
       "    <tr>\n",
       "      <th>3</th>\n",
       "      <td>5</td>\n",
       "      <td>1.052456</td>\n",
       "      <td>-1.551338</td>\n",
       "      <td>-0.007405</td>\n",
       "      <td>-0.894806</td>\n",
       "      <td>-1.145422</td>\n",
       "      <td>-1.101797</td>\n",
       "      <td>0.551920</td>\n",
       "      <td>-1.323511</td>\n",
       "      <td>-1.317071</td>\n",
       "      <td>...</td>\n",
       "      <td>0</td>\n",
       "      <td>0</td>\n",
       "      <td>0</td>\n",
       "      <td>0</td>\n",
       "      <td>0</td>\n",
       "      <td>0</td>\n",
       "      <td>0</td>\n",
       "      <td>0</td>\n",
       "      <td>0</td>\n",
       "      <td>0</td>\n",
       "    </tr>\n",
       "    <tr>\n",
       "      <th>4</th>\n",
       "      <td>5</td>\n",
       "      <td>-0.568511</td>\n",
       "      <td>-0.299791</td>\n",
       "      <td>1.282019</td>\n",
       "      <td>0.349324</td>\n",
       "      <td>-0.314415</td>\n",
       "      <td>0.268791</td>\n",
       "      <td>0.570956</td>\n",
       "      <td>0.016982</td>\n",
       "      <td>-0.124179</td>\n",
       "      <td>...</td>\n",
       "      <td>0</td>\n",
       "      <td>0</td>\n",
       "      <td>0</td>\n",
       "      <td>0</td>\n",
       "      <td>0</td>\n",
       "      <td>0</td>\n",
       "      <td>0</td>\n",
       "      <td>0</td>\n",
       "      <td>0</td>\n",
       "      <td>0</td>\n",
       "    </tr>\n",
       "  </tbody>\n",
       "</table>\n",
       "<p>5 rows × 39 columns</p>\n",
       "</div>"
      ],
      "text/plain": [
       "    YEAR        AT        AP        AH      AFDP      GTEP       TIT  \\\n",
       "ID                                                                     \n",
       "0      5  0.961592 -0.964193 -1.524936 -0.724114 -0.769905 -0.564983   \n",
       "1      5 -0.455031  1.708863  0.275700 -0.837779 -1.312530 -2.518071   \n",
       "2      5 -0.827587 -0.608815  0.036992  1.274906  0.732639  0.714232   \n",
       "3      5  1.052456 -1.551338 -0.007405 -0.894806 -1.145422 -1.101797   \n",
       "4      5 -0.568511 -0.299791  1.282019  0.349324 -0.314415  0.268791   \n",
       "\n",
       "         TAT       TEY       CDP  ...  Malta  Netherlands  Poland  Portugal  \\\n",
       "ID                                ...                                         \n",
       "0   0.563634 -0.872408 -0.813978  ...      0            0       0         0   \n",
       "1  -1.827585 -1.499082 -1.254529  ...      0            0       0         0   \n",
       "2  -0.988535  0.880742  0.848897  ...      0            0       0         0   \n",
       "3   0.551920 -1.323511 -1.317071  ...      0            0       0         0   \n",
       "4   0.570956  0.016982 -0.124179  ...      0            0       0         0   \n",
       "\n",
       "    Republic of Cyprus  Romania  Slovakia  Slovenia  Spain  Sweden  \n",
       "ID                                                                  \n",
       "0                    0        0         0         0      0       0  \n",
       "1                    0        1         0         0      0       0  \n",
       "2                    0        0         0         0      0       1  \n",
       "3                    0        0         0         0      0       0  \n",
       "4                    0        0         0         0      0       0  \n",
       "\n",
       "[5 rows x 39 columns]"
      ]
     },
     "execution_count": 3,
     "metadata": {},
     "output_type": "execute_result"
    }
   ],
   "source": [
    "dev_df = std_df[:24487].copy()\n",
    "dev_df.head()"
   ]
  },
  {
   "cell_type": "code",
   "execution_count": 4,
   "id": "7b2bfa6e-85e0-4282-af8a-04f3f47c5862",
   "metadata": {},
   "outputs": [
    {
     "data": {
      "text/html": [
       "<div>\n",
       "<style scoped>\n",
       "    .dataframe tbody tr th:only-of-type {\n",
       "        vertical-align: middle;\n",
       "    }\n",
       "\n",
       "    .dataframe tbody tr th {\n",
       "        vertical-align: top;\n",
       "    }\n",
       "\n",
       "    .dataframe thead th {\n",
       "        text-align: right;\n",
       "    }\n",
       "</style>\n",
       "<table border=\"1\" class=\"dataframe\">\n",
       "  <thead>\n",
       "    <tr style=\"text-align: right;\">\n",
       "      <th></th>\n",
       "      <th>YEAR</th>\n",
       "      <th>AT</th>\n",
       "      <th>AP</th>\n",
       "      <th>AH</th>\n",
       "      <th>AFDP</th>\n",
       "      <th>GTEP</th>\n",
       "      <th>TIT</th>\n",
       "      <th>TAT</th>\n",
       "      <th>TEY</th>\n",
       "      <th>CDP</th>\n",
       "      <th>...</th>\n",
       "      <th>Malta</th>\n",
       "      <th>Netherlands</th>\n",
       "      <th>Poland</th>\n",
       "      <th>Portugal</th>\n",
       "      <th>Republic of Cyprus</th>\n",
       "      <th>Romania</th>\n",
       "      <th>Slovakia</th>\n",
       "      <th>Slovenia</th>\n",
       "      <th>Spain</th>\n",
       "      <th>Sweden</th>\n",
       "    </tr>\n",
       "    <tr>\n",
       "      <th>ID</th>\n",
       "      <th></th>\n",
       "      <th></th>\n",
       "      <th></th>\n",
       "      <th></th>\n",
       "      <th></th>\n",
       "      <th></th>\n",
       "      <th></th>\n",
       "      <th></th>\n",
       "      <th></th>\n",
       "      <th></th>\n",
       "      <th></th>\n",
       "      <th></th>\n",
       "      <th></th>\n",
       "      <th></th>\n",
       "      <th></th>\n",
       "      <th></th>\n",
       "      <th></th>\n",
       "      <th></th>\n",
       "      <th></th>\n",
       "      <th></th>\n",
       "      <th></th>\n",
       "    </tr>\n",
       "  </thead>\n",
       "  <tbody>\n",
       "    <tr>\n",
       "      <th>24488</th>\n",
       "      <td>5</td>\n",
       "      <td>0.875679</td>\n",
       "      <td>0.040135</td>\n",
       "      <td>-0.702673</td>\n",
       "      <td>-0.018251</td>\n",
       "      <td>0.121500</td>\n",
       "      <td>0.708521</td>\n",
       "      <td>0.519705</td>\n",
       "      <td>0.063759</td>\n",
       "      <td>0.098396</td>\n",
       "      <td>...</td>\n",
       "      <td>0</td>\n",
       "      <td>0</td>\n",
       "      <td>0</td>\n",
       "      <td>0</td>\n",
       "      <td>1</td>\n",
       "      <td>0</td>\n",
       "      <td>0</td>\n",
       "      <td>0</td>\n",
       "      <td>0</td>\n",
       "      <td>0</td>\n",
       "    </tr>\n",
       "    <tr>\n",
       "      <th>24489</th>\n",
       "      <td>5</td>\n",
       "      <td>-1.021359</td>\n",
       "      <td>0.441866</td>\n",
       "      <td>1.534837</td>\n",
       "      <td>-0.461818</td>\n",
       "      <td>-1.523087</td>\n",
       "      <td>-1.804223</td>\n",
       "      <td>-0.030876</td>\n",
       "      <td>-1.454869</td>\n",
       "      <td>-1.509295</td>\n",
       "      <td>...</td>\n",
       "      <td>0</td>\n",
       "      <td>0</td>\n",
       "      <td>0</td>\n",
       "      <td>0</td>\n",
       "      <td>0</td>\n",
       "      <td>0</td>\n",
       "      <td>0</td>\n",
       "      <td>0</td>\n",
       "      <td>0</td>\n",
       "      <td>0</td>\n",
       "    </tr>\n",
       "    <tr>\n",
       "      <th>24490</th>\n",
       "      <td>3</td>\n",
       "      <td>1.144257</td>\n",
       "      <td>0.318256</td>\n",
       "      <td>-1.325462</td>\n",
       "      <td>1.326385</td>\n",
       "      <td>0.086645</td>\n",
       "      <td>0.657124</td>\n",
       "      <td>0.543134</td>\n",
       "      <td>-0.015056</td>\n",
       "      <td>0.197727</td>\n",
       "      <td>...</td>\n",
       "      <td>0</td>\n",
       "      <td>0</td>\n",
       "      <td>0</td>\n",
       "      <td>0</td>\n",
       "      <td>0</td>\n",
       "      <td>0</td>\n",
       "      <td>0</td>\n",
       "      <td>0</td>\n",
       "      <td>0</td>\n",
       "      <td>0</td>\n",
       "    </tr>\n",
       "    <tr>\n",
       "      <th>24491</th>\n",
       "      <td>1</td>\n",
       "      <td>-1.327674</td>\n",
       "      <td>0.441866</td>\n",
       "      <td>-0.290991</td>\n",
       "      <td>-1.721301</td>\n",
       "      <td>-1.001709</td>\n",
       "      <td>-2.580889</td>\n",
       "      <td>-0.347167</td>\n",
       "      <td>-1.645178</td>\n",
       "      <td>-1.564479</td>\n",
       "      <td>...</td>\n",
       "      <td>0</td>\n",
       "      <td>0</td>\n",
       "      <td>0</td>\n",
       "      <td>0</td>\n",
       "      <td>0</td>\n",
       "      <td>0</td>\n",
       "      <td>0</td>\n",
       "      <td>0</td>\n",
       "      <td>0</td>\n",
       "      <td>0</td>\n",
       "    </tr>\n",
       "    <tr>\n",
       "      <th>24492</th>\n",
       "      <td>4</td>\n",
       "      <td>0.991032</td>\n",
       "      <td>-0.423401</td>\n",
       "      <td>0.344256</td>\n",
       "      <td>-0.398986</td>\n",
       "      <td>-1.296297</td>\n",
       "      <td>-1.347360</td>\n",
       "      <td>0.560706</td>\n",
       "      <td>-1.515101</td>\n",
       "      <td>-1.431117</td>\n",
       "      <td>...</td>\n",
       "      <td>0</td>\n",
       "      <td>0</td>\n",
       "      <td>0</td>\n",
       "      <td>0</td>\n",
       "      <td>0</td>\n",
       "      <td>0</td>\n",
       "      <td>0</td>\n",
       "      <td>0</td>\n",
       "      <td>0</td>\n",
       "      <td>0</td>\n",
       "    </tr>\n",
       "  </tbody>\n",
       "</table>\n",
       "<p>5 rows × 39 columns</p>\n",
       "</div>"
      ],
      "text/plain": [
       "       YEAR        AT        AP        AH      AFDP      GTEP       TIT  \\\n",
       "ID                                                                        \n",
       "24488     5  0.875679  0.040135 -0.702673 -0.018251  0.121500  0.708521   \n",
       "24489     5 -1.021359  0.441866  1.534837 -0.461818 -1.523087 -1.804223   \n",
       "24490     3  1.144257  0.318256 -1.325462  1.326385  0.086645  0.657124   \n",
       "24491     1 -1.327674  0.441866 -0.290991 -1.721301 -1.001709 -2.580889   \n",
       "24492     4  0.991032 -0.423401  0.344256 -0.398986 -1.296297 -1.347360   \n",
       "\n",
       "            TAT       TEY       CDP  ...  Malta  Netherlands  Poland  \\\n",
       "ID                                   ...                               \n",
       "24488  0.519705  0.063759  0.098396  ...      0            0       0   \n",
       "24489 -0.030876 -1.454869 -1.509295  ...      0            0       0   \n",
       "24490  0.543134 -0.015056  0.197727  ...      0            0       0   \n",
       "24491 -0.347167 -1.645178 -1.564479  ...      0            0       0   \n",
       "24492  0.560706 -1.515101 -1.431117  ...      0            0       0   \n",
       "\n",
       "       Portugal  Republic of Cyprus  Romania  Slovakia  Slovenia  Spain  \\\n",
       "ID                                                                        \n",
       "24488         0                   1        0         0         0      0   \n",
       "24489         0                   0        0         0         0      0   \n",
       "24490         0                   0        0         0         0      0   \n",
       "24491         0                   0        0         0         0      0   \n",
       "24492         0                   0        0         0         0      0   \n",
       "\n",
       "       Sweden  \n",
       "ID             \n",
       "24488       0  \n",
       "24489       0  \n",
       "24490       0  \n",
       "24491       0  \n",
       "24492       0  \n",
       "\n",
       "[5 rows x 39 columns]"
      ]
     },
     "execution_count": 4,
     "metadata": {},
     "output_type": "execute_result"
    }
   ],
   "source": [
    "eval_df = std_df[24488:].copy()\n",
    "eval_df.head()"
   ]
  },
  {
   "cell_type": "markdown",
   "id": "01e2a53c-5f46-4646-a56d-b0e5c55aa722",
   "metadata": {},
   "source": [
    "# Model definition"
   ]
  },
  {
   "cell_type": "code",
   "execution_count": 121,
   "id": "da4ea85a-7cc8-4e86-aee9-224af7318f03",
   "metadata": {},
   "outputs": [
    {
     "data": {
      "text/plain": [
       "((18365, 38), (6122, 38), (18365,), (6122,))"
      ]
     },
     "execution_count": 121,
     "metadata": {},
     "output_type": "execute_result"
    }
   ],
   "source": [
    "X_train, X_val, y_train, y_val = train_test_split( dev_df.loc[:, dev_df.columns != 'CO' ], dev_df.loc[:, 'CO'], random_state = 42)\n",
    "X_train.shape, X_val.shape, y_train.shape, y_val.shape"
   ]
  },
  {
   "cell_type": "code",
   "execution_count": 122,
   "id": "3a58578d-ea5a-4ba2-bccf-eb68cfc3c2ee",
   "metadata": {},
   "outputs": [
    {
     "data": {
      "text/plain": [
       "'Lasso baseline: MSE = 3.4765084358871654'"
      ]
     },
     "execution_count": 122,
     "metadata": {},
     "output_type": "execute_result"
    }
   ],
   "source": [
    "#Default configuration\n",
    "lasso = Lasso()\n",
    "\n",
    "lasso.fit(X_train, y_train)\n",
    "y_pred = lasso.predict(X_val)\n",
    "f'Lasso baseline: MSE = {mse(y_val, y_pred)}'"
   ]
  },
  {
   "cell_type": "code",
   "execution_count": 125,
   "id": "af5601ac-baea-4aba-9530-3cd3f6693bd8",
   "metadata": {},
   "outputs": [
    {
     "data": {
      "text/plain": [
       "<AxesSubplot:>"
      ]
     },
     "execution_count": 125,
     "metadata": {},
     "output_type": "execute_result"
    },
    {
     "data": {
      "image/png": "[encoded data removed]",
      "text/plain": [
       "<Figure size 720x432 with 2 Axes>"
      ]
     },
     "metadata": {
      "needs_background": "light"
     },
     "output_type": "display_data"
    }
   ],
   "source": [
    "_ , [val, pred] = plt.subplots(1,2)\n",
    "y_val.plot.box(ax = val)\n",
    "pd.Series(y_pred, index = y_val.index, name = 'CO').plot.box(ax = pred)\n",
    "v_vs_p"
   ]
  },
  {
   "cell_type": "markdown",
   "id": "21f2f0bd-527f-4528-b9e5-0d39356a62d6",
   "metadata": {},
   "source": [
    "Observing the boxplots is clear that the 'extreme' values of CO emission bad affect the performance. Following the paper we separete the two groups, standard and extreme, with threshold 4,5."
   ]
  },
  {
   "cell_type": "code",
   "execution_count": 132,
   "id": "ac901033-fbcc-4867-866c-1e0d2d9ca1ef",
   "metadata": {},
   "outputs": [],
   "source": [
    "standard_emission_df = dev_df.loc[dev_df['CO'] < 4.5, :]\n",
    "extreme_emission_df = dev_df.loc[dev_df['CO'] >= 4.5, :] "
   ]
  },
  {
   "cell_type": "code",
   "execution_count": 101,
   "id": "3967cdc7-5bba-4f25-82d4-b19439d3b6f2",
   "metadata": {},
   "outputs": [
    {
     "data": {
      "text/plain": [
       "((16238, 38), (5413, 38), (16238,), (5413,))"
      ]
     },
     "execution_count": 101,
     "metadata": {},
     "output_type": "execute_result"
    }
   ],
   "source": [
    "X_train, X_val, y_train, y_val = train_test_split( standard_emission_df.loc[:, standard_emission_df.columns != 'CO' ], standard_emission_df.loc[:, 'CO'], random_state = 42)\n",
    "X_train.shape, X_val.shape, y_train.shape, y_val.shape"
   ]
  },
  {
   "cell_type": "code",
   "execution_count": 107,
   "id": "2c595fd6-61c2-4f5d-94a8-02968e138481",
   "metadata": {},
   "outputs": [
    {
     "name": "stdout",
     "output_type": "stream",
     "text": [
      "Lasso baseline: MSE = 0.9640715076874484\n"
     ]
    }
   ],
   "source": [
    "lasso_std = Lasso()\n",
    "\n",
    "lasso_std.fit(X_train, y_train)\n",
    "y_pred = lasso_std.predict(X_val)\n",
    "print(f'Lasso baseline: MSE = {mse(y_val, y_pred)}')"
   ]
  },
  {
   "cell_type": "markdown",
   "id": "9ed87621-c3d0-4f1c-94b6-0c23fda23930",
   "metadata": {},
   "source": [
    "As can be observed the MSE has been largely reduced. It may be useful deploying a classification algorithm before passing the record to the regression model."
   ]
  },
  {
   "cell_type": "code",
   "execution_count": 111,
   "id": "5970675d-7f5d-47da-b1b5-6ed9f7c6d1ea",
   "metadata": {},
   "outputs": [
    {
     "data": {
      "text/plain": [
       "array([-0., -0.,  0.,  0., -0., -0., -0.,  0., -0., -0., -0.,  0., -0.,\n",
       "        0., -0., -0., -0., -0., -0., -0.,  0.,  0., -0.,  0., -0., -0.,\n",
       "        0., -0.,  0.,  0.,  0.,  0., -0., -0., -0.,  0., -0.,  0.])"
      ]
     },
     "execution_count": 111,
     "metadata": {},
     "output_type": "execute_result"
    }
   ],
   "source": [
    "lasso_std.coef_"
   ]
  },
  {
   "cell_type": "code",
   "execution_count": 118,
   "id": "b654dc2a-10dc-4552-9f43-1976e290749b",
   "metadata": {},
   "outputs": [
    {
     "data": {
      "text/plain": [
       "1.7740435513856387"
      ]
     },
     "execution_count": 118,
     "metadata": {},
     "output_type": "execute_result"
    }
   ],
   "source": [
    "lasso_std.intercept_"
   ]
  },
  {
   "cell_type": "markdown",
   "id": "a9f59315-5cf0-4d37-bd6c-70fce930559c",
   "metadata": {},
   "source": [
    "Surprisingly, all coefficients are zero. This means that the model is of the type CO = $\\beta_0$ = 1.7740"
   ]
  },
  {
   "cell_type": "code",
   "execution_count": 119,
   "id": "0e9c1c8c-c234-4fd7-a0e8-d898a9082661",
   "metadata": {},
   "outputs": [
    {
     "data": {
      "text/plain": [
       "[<matplotlib.lines.Line2D at 0x7f0f7e65dcd0>]"
      ]
     },
     "execution_count": 119,
     "metadata": {},
     "output_type": "execute_result"
    },
    {
     "data": {
      "image/png": "[encoded data removed]",
      "text/plain": [
       "<Figure size 720x432 with 1 Axes>"
      ]
     },
     "metadata": {
      "needs_background": "light"
     },
     "output_type": "display_data"
    }
   ],
   "source": [
    "plt.plot(y_val, y_pred)"
   ]
  },
  {
   "cell_type": "code",
   "execution_count": 103,
   "id": "9af036ac-f7e9-4dd9-b242-ffe6b6c032f9",
   "metadata": {},
   "outputs": [
    {
     "data": {
      "text/plain": [
       "((2127, 38), (709, 38), (2127,), (709,))"
      ]
     },
     "execution_count": 103,
     "metadata": {},
     "output_type": "execute_result"
    }
   ],
   "source": [
    "X_train_ex, X_val_ex, y_train_ex, y_val_ex = train_test_split( extreme_emission_df.loc[:, extreme_emission_df.columns != 'CO' ], extreme_emission_df.loc[:, 'CO'], test_size = None, random_state = 42)\n",
    "X_train_ex.shape, X_val_ex.shape, y_train_ex.shape, y_val_ex.shape"
   ]
  },
  {
   "cell_type": "code",
   "execution_count": 104,
   "id": "4aa19e1d-a908-4fa6-b55a-4745b2d19e43",
   "metadata": {},
   "outputs": [
    {
     "data": {
      "text/plain": [
       "'Lasso baseline: MSE = 5.5046846664419595'"
      ]
     },
     "execution_count": 104,
     "metadata": {},
     "output_type": "execute_result"
    }
   ],
   "source": [
    "lasso_ex = Lasso()\n",
    "\n",
    "lasso_ex.fit(X_train_ex, y_train_ex)\n",
    "y_pred_ex = lasso_ex.predict(X_val_ex)\n",
    "f'Lasso baseline: MSE = {mse(y_val_ex, y_pred_ex)}'"
   ]
  },
  {
   "cell_type": "markdown",
   "id": "414ba3db-7a7a-449f-a5b4-66e87cbe852e",
   "metadata": {},
   "source": [
    "The MSE for extreme CO values is still high. "
   ]
  },
  {
   "cell_type": "code",
   "execution_count": 120,
   "id": "b9561caa-e489-4ba3-aeaa-7eb0a6b321ea",
   "metadata": {},
   "outputs": [
    {
     "name": "stdout",
     "output_type": "stream",
     "text": [
      "TAT -1.2479720895327298\n",
      "NOX 0.2697916068796101\n"
     ]
    }
   ],
   "source": [
    "for feature, coeff in zip(lasso_ex.feature_names_in_,lasso_ex.coef_):\n",
    "    if coeff != 0.0:\n",
    "        print(feature, coeff)"
   ]
  },
  {
   "cell_type": "markdown",
   "id": "6f3ccd7c-8d45-4685-8536-8242fba3d4e0",
   "metadata": {},
   "source": [
    "Also for the extreme cases the coefficients are almost null. The only two coefficients that are no zero are those relative to TAT and NOX."
   ]
  },
  {
   "cell_type": "markdown",
   "id": "8d66a973-5fca-4e04-9688-aecbc2a756d9",
   "metadata": {},
   "source": [
    "Let now ceck the default model coefficients"
   ]
  },
  {
   "cell_type": "code",
   "execution_count": 127,
   "id": "70b0df72-b3a4-4a2f-9d23-755c40647687",
   "metadata": {},
   "outputs": [
    {
     "name": "stdout",
     "output_type": "stream",
     "text": [
      "TIT -0.5844085806065221\n"
     ]
    }
   ],
   "source": [
    "for feature, coeff in zip(lasso.feature_names_in_,lasso.coef_):\n",
    "    if coeff != 0.0:\n",
    "        print(feature, coeff)"
   ]
  },
  {
   "cell_type": "markdown",
   "id": "545abd09-5055-4e63-9bcf-5506a29383ec",
   "metadata": {},
   "source": [
    "In that case is TIT the only predictor with a non null coefficient."
   ]
  },
  {
   "cell_type": "markdown",
   "id": "33631a68-063a-4954-8914-a6998e80f986",
   "metadata": {},
   "source": [
    "Baseing on the analysis on YEAR and LOC, now we try a model without the relative columns"
   ]
  },
  {
   "cell_type": "code",
   "execution_count": 170,
   "id": "50ae1c59-6c3b-4ac4-93c0-08df8fc6a3a2",
   "metadata": {},
   "outputs": [
    {
     "data": {
      "text/plain": [
       "0.9640715076874484"
      ]
     },
     "execution_count": 170,
     "metadata": {},
     "output_type": "execute_result"
    }
   ],
   "source": [
    "standard_emission_df_y_l = standard_emission_df.loc[: , 'AT':'CO']\n",
    "X_train, X_val, y_train, y_val = train_test_split( standard_emission_df_y_l.loc[:, standard_emission_df_y_l.columns != 'CO' ], standard_emission_df_y_l.loc[:, 'CO'], random_state = 42)\n",
    "X_train.shape, X_val.shape, y_train.shape, y_val.shape\n",
    "\n",
    "lasso_no_y_l = Lasso()\n",
    "lasso_no_y_l.fit(X_train, y_train)\n",
    "y_pred_y_l = lasso_no_y_l.predict(X_val)\n",
    "mse(y_val, y_pred_y_l)"
   ]
  },
  {
   "cell_type": "code",
   "execution_count": 134,
   "id": "58e06c7f-4f83-441a-8ac1-6b258636812c",
   "metadata": {},
   "outputs": [],
   "source": [
    "for feature, coeff in zip(lasso_no_y_l.feature_names_in_,lasso_no_y_l.coef_):\n",
    "    if coeff != 0.0:\n",
    "        print(feature, coeff)"
   ]
  },
  {
   "cell_type": "markdown",
   "id": "c286ba42-dc0e-424f-8a8a-73a4d93754ba",
   "metadata": {},
   "source": [
    "Even reducing the number of columns, the coefficients are always null."
   ]
  },
  {
   "cell_type": "markdown",
   "id": "2506d948-44ca-4165-b193-4e0aaddd7f01",
   "metadata": {},
   "source": [
    "## Hyperparameter Tuning"
   ]
  },
  {
   "cell_type": "code",
   "execution_count": 156,
   "id": "c1640642-c75c-4a03-a2c6-849ca354183c",
   "metadata": {},
   "outputs": [],
   "source": [
    "#Analyzing the effect of alpha\n",
    "X = standard_emission_df_y_l.loc[:, standard_emission_df_y_l.columns != 'CO' ]\n",
    "y = standard_emission_df_y_l.loc[:, 'CO']\n",
    "\n",
    "def scorer(model, X, y):\n",
    "    return mse(y, model.predict(X))\n",
    "\n",
    "alpha_range = np.logspace(-3, 3, 7)\n",
    "train_scores, valid_scores = validation_curve(\n",
    "     Lasso(max_iter = 10000), X, y, param_name=\"alpha\", param_range= alpha_range, scoring = scorer,\n",
    "     cv=5)"
   ]
  },
  {
   "cell_type": "code",
   "execution_count": 161,
   "id": "e47d440d-a287-443c-adbd-6942d0ce1208",
   "metadata": {},
   "outputs": [
    {
     "data": {
      "text/plain": [
       "array([0.4813228 , 0.49086759, 0.5367028 , 0.95106291, 0.95106291,\n",
       "       0.95106291, 0.95106291])"
      ]
     },
     "execution_count": 161,
     "metadata": {},
     "output_type": "execute_result"
    }
   ],
   "source": [
    "train_scores.mean(axis = 1)"
   ]
  },
  {
   "cell_type": "code",
   "execution_count": 162,
   "id": "702a1c51-dd93-482f-9a73-23ac6948a970",
   "metadata": {},
   "outputs": [
    {
     "data": {
      "text/plain": [
       "array([0.48220867, 0.49146649, 0.5368846 , 0.95121738, 0.95121738,\n",
       "       0.95121738, 0.95121738])"
      ]
     },
     "execution_count": 162,
     "metadata": {},
     "output_type": "execute_result"
    }
   ],
   "source": [
    "valid_scores.mean(axis = 1)"
   ]
  },
  {
   "cell_type": "code",
   "execution_count": 169,
   "id": "78e6e7bd-73e0-4a8b-b07e-69411961c5db",
   "metadata": {},
   "outputs": [
    {
     "data": {
      "text/plain": [
       "<matplotlib.legend.Legend at 0x7f0f7db78790>"
      ]
     },
     "execution_count": 169,
     "metadata": {},
     "output_type": "execute_result"
    },
    {
     "data": {
      "image/png": "[encoded data removed]",
      "text/plain": [
       "<Figure size 720x432 with 1 Axes>"
      ]
     },
     "metadata": {
      "needs_background": "light"
     },
     "output_type": "display_data"
    }
   ],
   "source": [
    "plt.plot(alpha_range, train_scores.mean(axis = 1), label = 'train_scores')\n",
    "plt.plot(alpha_range, valid_scores.mean(axis = 1), label = 'val_scores')\n",
    "plt.xscale('log')\n",
    "plt.legend()"
   ]
  },
  {
   "cell_type": "code",
   "execution_count": 171,
   "id": "e77a0428-2dfe-497f-88cc-592db0ceb6da",
   "metadata": {},
   "outputs": [
    {
     "data": {
      "text/plain": [
       "0.49384795521106556"
      ]
     },
     "execution_count": 171,
     "metadata": {},
     "output_type": "execute_result"
    }
   ],
   "source": [
    "las = Lasso(max_iter = 10000, alpha = 10e-3)\n",
    "\n",
    "\n",
    "las.fit(X_train, y_train)\n",
    "y_pred_y_l = las.predict(X_val)\n",
    "mse(y_val, y_pred_y_l)"
   ]
  },
  {
   "cell_type": "markdown",
   "id": "0d7e0d88-bdb7-410f-9706-99ed2c59e8f5",
   "metadata": {},
   "source": [
    "Reducing the alpha value the performance improve => A simple Linear Regression model may be better"
   ]
  },
  {
   "cell_type": "code",
   "execution_count": 172,
   "id": "941d9d08-b559-49c9-91c0-52cfddd7fd90",
   "metadata": {},
   "outputs": [
    {
     "data": {
      "text/plain": [
       "array([-0.02882485,  0.03078352, -0.10002238, -0.0368447 ,  0.18263811,\n",
       "       -0.97465108,  0.02289227, -0.        , -0.        , -0.00688127])"
      ]
     },
     "execution_count": 172,
     "metadata": {},
     "output_type": "execute_result"
    }
   ],
   "source": [
    "las.coef_"
   ]
  },
  {
   "cell_type": "code",
   "execution_count": 173,
   "id": "0d9804cc-28b7-4a0a-84e6-84c07b1eea76",
   "metadata": {},
   "outputs": [
    {
     "data": {
      "text/plain": [
       "<matplotlib.legend.Legend at 0x7f0f7ec2a520>"
      ]
     },
     "execution_count": 173,
     "metadata": {},
     "output_type": "execute_result"
    },
    {
     "data": {
      "image/png": "[encoded data removed]",
      "text/plain": [
       "<Figure size 720x432 with 1 Axes>"
      ]
     },
     "metadata": {
      "needs_background": "light"
     },
     "output_type": "display_data"
    }
   ],
   "source": [
    "alpha_range = np.logspace(-5, 0, 6)\n",
    "train_scores, valid_scores = validation_curve(\n",
    "     Lasso(max_iter = 10000), X, y, param_name=\"alpha\", param_range= alpha_range, scoring = scorer,\n",
    "     cv=5)\n",
    "\n",
    "plt.plot(alpha_range, train_scores.mean(axis = 1), label = 'train_scores')\n",
    "plt.plot(alpha_range, valid_scores.mean(axis = 1), label = 'val_scores')\n",
    "plt.xscale('log')\n",
    "plt.legend()"
   ]
  }
 ],
 "metadata": {
  "kernelspec": {
   "display_name": "Python 3 (ipykernel)",
   "language": "python",
   "name": "python3"
  },
  "language_info": {
   "codemirror_mode": {
    "name": "ipython",
    "version": 3
   },
   "file_extension": ".py",
   "mimetype": "text/x-python",
   "name": "python",
   "nbconvert_exporter": "python",
   "pygments_lexer": "ipython3",
   "version": "3.8.10"
  }
 },
 "nbformat": 4,
 "nbformat_minor": 5
}
