{
 "cells": [
  {
   "cell_type": "markdown",
   "id": "de4069e0-63b2-42a5-9f49-a62ec4737dab",
   "metadata": {},
   "source": [
    "# Configuration "
   ]
  },
  {
   "cell_type": "code",
   "execution_count": 4,
   "id": "c59f91ad-f96a-445a-aade-e398fe2657f2",
   "metadata": {},
   "outputs": [],
   "source": [
    "import numpy as np\n",
    "import pandas as pd\n",
    "import matplotlib.pyplot as plt\n",
    "\n",
    "%matplotlib inline\n",
    "\n",
    "from sklearn.model_selection import train_test_split, validation_curve\n",
    "from sklearn.linear_model import Lasso\n",
    "from sklearn.metrics import mean_squared_error as mse\n",
    "from sklearn.preprocessing import PolynomialFeatures\n",
    "\n",
    "%matplotlib inline\n",
    "\n",
    "plt.rcParams[\"figure.figsize\"] = (10, 6)"
   ]
  },
  {
   "cell_type": "markdown",
   "id": "13531952-8fbd-4ff5-9aed-3541264e5abe",
   "metadata": {},
   "source": [
    "# Utils"
   ]
  },
  {
   "cell_type": "code",
   "execution_count": 105,
   "id": "3c2f778e-74f0-4ea9-9052-94179fe18cce",
   "metadata": {},
   "outputs": [],
   "source": [
    "def include_features(model, df, features_lists, poly = None, target_feature = 'CO'):\n",
    "    \n",
    "    scores = {}\n",
    "    \n",
    "    \n",
    "    for features in features_lists:\n",
    "        X = df.drop(columns = 'CO')\n",
    "        y = df['CO']\n",
    "        \n",
    "        if features == 'all':\n",
    "            features = X.columns\n",
    "        \n",
    "        X_train, X_test, y_train, y_test = train_test_split(X[features], y, test_size = 0.2, random_state=42)\n",
    "        \n",
    "        \n",
    "        if poly is not None:\n",
    "            poly.fit(X_train)\n",
    "            X_train, X_test = poly.transform(X_train), poly.transform(X_test)\n",
    "            \n",
    "        print(f'X_train shape = {X_train.shape}, X_test shape = {X_test.shape}')\n",
    "        \n",
    "        model.fit(X_train,y_train)\n",
    "        y_pred = model.predict(X_test)\n",
    "        \n",
    "        if len(features) == len(df.columns):\n",
    "            features == 'all'\n",
    "        \n",
    "        if poly is None:\n",
    "            scores[tuple(model.feature_names_in_)] = (y_pred, model.coef_, mse(y_test, y_pred))\n",
    "        else:\n",
    "            scores[tuple(poly.get_feature_names_out())] = (y_pred, model.coef_ ,mse(y_test, y_pred))\n",
    "        \n",
    "    return scores\n",
    "        "
   ]
  },
  {
   "cell_type": "code",
   "execution_count": 97,
   "id": "4c5261ad-e007-4b38-9d41-3148e1933ff5",
   "metadata": {},
   "outputs": [],
   "source": [
    "def print_features_coef(features, coef, only_non_van):\n",
    "    print('Coefficients:')\n",
    "    for f, c in zip(features, coef):\n",
    "        if (only_non_van == True and c != 0):\n",
    "            print(f,c)\n",
    "        elif only_non_van == False:\n",
    "            print(f,c)"
   ]
  },
  {
   "cell_type": "code",
   "execution_count": 100,
   "id": "3b143868-4cb8-4b93-a1c8-98ae05bbb530",
   "metadata": {},
   "outputs": [],
   "source": [
    "def print_scores(scores_dict, only_mse = False, print_coef = False):\n",
    "    '''scores_dict => (columns): (predictions, mse_score) '''\n",
    "    for columns, (pred, coef ,mse_score) in scores_dict.items():\n",
    "        print()\n",
    "        if print_coef:\n",
    "            print_features_coef(columns, coef, only_non_van = True)\n",
    "        if only_mse:\n",
    "            print(f'mse:{mse_score}')\n",
    "        else:\n",
    "            print(f'Columns: \\n {columns}, \\n MSE: {mse_score}')"
   ]
  },
  {
   "cell_type": "markdown",
   "id": "ad26dfb7-93b5-4ee7-81c0-d3fed84d339b",
   "metadata": {},
   "source": [
    "# Importing Dataset"
   ]
  },
  {
   "cell_type": "code",
   "execution_count": 7,
   "id": "30579709-4ff9-46b3-a960-e2e023b1cb9f",
   "metadata": {},
   "outputs": [
    {
     "data": {
      "text/plain": [
       "(36733, 39)"
      ]
     },
     "execution_count": 7,
     "metadata": {},
     "output_type": "execute_result"
    }
   ],
   "source": [
    "std_df = pd.read_csv('processed_dataset/std_dataset.csv', index_col = 0)\n",
    "std_df.shape"
   ]
  },
  {
   "cell_type": "code",
   "execution_count": 9,
   "id": "15ec6192-4346-4983-a5b4-56e2b7ef29f9",
   "metadata": {},
   "outputs": [
    {
     "data": {
      "text/plain": [
       "(24488, 39)"
      ]
     },
     "execution_count": 9,
     "metadata": {},
     "output_type": "execute_result"
    }
   ],
   "source": [
    "dev_df = std_df.loc[:24487]\n",
    "dev_df.shape"
   ]
  },
  {
   "cell_type": "code",
   "execution_count": 10,
   "id": "be647e7e-d402-4fb2-8cd4-282d3d3e5d8a",
   "metadata": {},
   "outputs": [
    {
     "data": {
      "text/plain": [
       "(12245, 39)"
      ]
     },
     "execution_count": 10,
     "metadata": {},
     "output_type": "execute_result"
    }
   ],
   "source": [
    "eval_df = std_df.loc[24488:]\n",
    "eval_df.shape"
   ]
  },
  {
   "cell_type": "code",
   "execution_count": 19,
   "id": "f76fe9dc-28c4-41cd-a74c-b4c2dd562381",
   "metadata": {},
   "outputs": [
    {
     "data": {
      "text/plain": [
       "Index(['YEAR', 'AT', 'AP', 'AH', 'AFDP', 'GTEP', 'TIT', 'TAT', 'TEY', 'CDP',\n",
       "       'NOX', 'CO', 'Austria', 'Belgium', 'Bulgaria', 'Croatia',\n",
       "       'Czech Republic', 'Denmark', 'Estonia', 'Finland', 'France', 'Germany',\n",
       "       'Greece', 'Hungary', 'Ireland', 'Italy', 'Latvia', 'Lithuania',\n",
       "       'Luxembourg', 'Malta', 'Netherlands', 'Poland', 'Portugal',\n",
       "       'Republic of Cyprus', 'Romania', 'Slovakia', 'Slovenia', 'Spain',\n",
       "       'Sweden'],\n",
       "      dtype='object')"
      ]
     },
     "execution_count": 19,
     "metadata": {},
     "output_type": "execute_result"
    }
   ],
   "source": [
    "dev_df.columns"
   ]
  },
  {
   "cell_type": "code",
   "execution_count": 63,
   "id": "85428498-5145-4b8b-947b-004893bd9120",
   "metadata": {},
   "outputs": [],
   "source": [
    "ambiental_pred = ['AT', 'AP', 'AH']\n",
    "process_pred = ['AFDP', 'GTEP', 'TIT', 'TAT', 'TEY', 'CDP']\n",
    "location_pred = ['Austria', 'Belgium', 'Bulgaria', 'Croatia',\n",
    "       'Czech Republic', 'Denmark', 'Estonia', 'Finland', 'France', 'Germany',\n",
    "       'Greece', 'Hungary', 'Ireland', 'Italy', 'Latvia', 'Lithuania',\n",
    "       'Luxembourg', 'Malta', 'Netherlands', 'Poland', 'Portugal',\n",
    "       'Republic of Cyprus', 'Romania', 'Slovakia', 'Slovenia', 'Spain',\n",
    "       'Sweden']\n",
    "nox = ['NOX']\n",
    "year = ['YEAR']"
   ]
  },
  {
   "cell_type": "code",
   "execution_count": 65,
   "id": "da6086cd-a4db-4f8f-89c3-62647f6220b1",
   "metadata": {},
   "outputs": [
    {
     "data": {
      "text/plain": [
       "['AT', 'AP', 'AH', 'AFDP', 'GTEP', 'TIT', 'TAT', 'TEY', 'CDP', 'NOX']"
      ]
     },
     "execution_count": 65,
     "metadata": {},
     "output_type": "execute_result"
    }
   ],
   "source": [
    "ambiental_pred+process_pred+nox"
   ]
  },
  {
   "cell_type": "markdown",
   "id": "792aa123-7952-4878-a816-85283a6a6930",
   "metadata": {},
   "source": [
    "# Complete dataset test"
   ]
  },
  {
   "cell_type": "markdown",
   "id": "f9ab6a6e-d49f-40dd-bb1b-95df6d06ab9e",
   "metadata": {},
   "source": [
    "## Lasso"
   ]
  },
  {
   "cell_type": "code",
   "execution_count": 101,
   "id": "c04735c2-9c9a-4643-8d16-29778b453149",
   "metadata": {},
   "outputs": [
    {
     "name": "stdout",
     "output_type": "stream",
     "text": [
      "X_train shape = (19590, 38), X_test shape = (4898, 38)\n",
      "X_train shape = (19590, 3), X_test shape = (4898, 3)\n",
      "X_train shape = (19590, 6), X_test shape = (4898, 6)\n",
      "X_train shape = (19590, 9), X_test shape = (4898, 9)\n",
      "X_train shape = (19590, 10), X_test shape = (4898, 10)\n",
      "X_train shape = (19590, 10), X_test shape = (4898, 10)\n",
      "X_train shape = (19590, 11), X_test shape = (4898, 11)\n"
     ]
    }
   ],
   "source": [
    "default_lasso = Lasso()\n",
    "features_lists = [\n",
    "    'all',\n",
    "    ambiental_pred,\n",
    "    process_pred,\n",
    "    ambiental_pred+process_pred,\n",
    "    ambiental_pred+process_pred+nox,\n",
    "    ambiental_pred+process_pred+year,\n",
    "    ambiental_pred+process_pred+nox+year,\n",
    "]\n",
    "\n",
    "scores = include_features(default_lasso, dev_df, features_lists)"
   ]
  },
  {
   "cell_type": "code",
   "execution_count": 102,
   "id": "0c086ee3-1aee-4d8c-9070-b5c15b1736bd",
   "metadata": {},
   "outputs": [
    {
     "name": "stdout",
     "output_type": "stream",
     "text": [
      "\n",
      "Coefficients:\n",
      "TIT -0.5817890227673992\n",
      "mse:3.6964834721654096\n",
      "\n",
      "Coefficients:\n",
      "mse:5.287133724390688\n",
      "\n",
      "Coefficients:\n",
      "TIT -0.5817890227673992\n",
      "mse:3.6964834721654096\n",
      "\n",
      "Coefficients:\n",
      "TIT -0.5817890227673992\n",
      "mse:3.6964834721654096\n",
      "\n",
      "Coefficients:\n",
      "TIT -0.5817890227673992\n",
      "mse:3.6964834721654096\n",
      "\n",
      "Coefficients:\n",
      "TIT -0.5817890227673992\n",
      "mse:3.6964834721654096\n",
      "\n",
      "Coefficients:\n",
      "TIT -0.5817890227673992\n",
      "mse:3.6964834721654096\n"
     ]
    }
   ],
   "source": [
    "print_scores(scores, only_mse = True, print_coef=True)"
   ]
  },
  {
   "cell_type": "markdown",
   "id": "5cb67cf2-5f9c-4ef1-ba14-a4fa670a984f",
   "metadata": {},
   "source": [
    "For the default Lasso version the all the coefficients are 0 except for TIT."
   ]
  },
  {
   "cell_type": "markdown",
   "id": "41c82f9c-e9d0-4dbf-9721-5ef61c3c63c9",
   "metadata": {},
   "source": [
    "## Poly"
   ]
  },
  {
   "cell_type": "code",
   "execution_count": 107,
   "id": "344d6146-e410-4e05-a2ab-f533fc83e3cc",
   "metadata": {},
   "outputs": [
    {
     "name": "stdout",
     "output_type": "stream",
     "text": [
      "X_train shape = (19590, 38), X_test shape = (4898, 38)\n",
      "X_train shape = (19590, 3), X_test shape = (4898, 3)\n",
      "X_train shape = (19590, 6), X_test shape = (4898, 6)\n",
      "X_train shape = (19590, 9), X_test shape = (4898, 9)\n",
      "X_train shape = (19590, 10), X_test shape = (4898, 10)\n",
      "X_train shape = (19590, 10), X_test shape = (4898, 10)\n",
      "X_train shape = (19590, 11), X_test shape = (4898, 11)\n"
     ]
    }
   ],
   "source": [
    "poly = PolynomialFeatures(degree = 2)\n",
    "scores = include_features(default_lasso, dev_df, features_lists, poly = poly)"
   ]
  },
  {
   "cell_type": "code",
   "execution_count": 110,
   "id": "e607aaec-c502-4844-9d64-8099656495b5",
   "metadata": {},
   "outputs": [
    {
     "name": "stdout",
     "output_type": "stream",
     "text": [
      "\n",
      "Coefficients:\n",
      "YEAR^2 -0.018433927473257974\n",
      "YEAR TIT -0.29322329378258755\n",
      "YEAR NOX 0.033833047739014514\n",
      "TIT^2 0.20505013519737908\n",
      "NOX^2 0.025942954074382175\n",
      "mse:2.6060428817968186\n",
      "\n",
      "Coefficients:\n",
      "mse:5.287133724390688\n",
      "\n",
      "Coefficients:\n",
      "TIT -0.09079942562190141\n",
      "TIT^2 0.5668460030212084\n",
      "mse:3.1245465180817775\n",
      "\n",
      "Coefficients:\n",
      "TIT -0.09079942562190141\n",
      "TIT^2 0.5668460030212084\n",
      "mse:3.1245465180817775\n",
      "\n",
      "Coefficients:\n",
      "TIT -0.04609466746098859\n",
      "TIT^2 0.4754278780310179\n",
      "NOX^2 0.1527709996554858\n",
      "mse:3.007143806239917\n",
      "\n",
      "Coefficients:\n",
      "TIT^2 0.23539336899610913\n",
      "TIT YEAR -0.3002704196545768\n",
      "YEAR^2 -0.015240360874495974\n",
      "mse:2.6799289962676514\n",
      "\n",
      "Coefficients:\n",
      "TIT^2 0.2050131541761838\n",
      "TIT YEAR -0.2932392584904093\n",
      "NOX^2 0.025940841620099558\n",
      "NOX YEAR 0.033836692273835366\n",
      "YEAR^2 -0.018433407118876793\n",
      "mse:2.6060886120488354\n"
     ]
    }
   ],
   "source": [
    "print_scores(scores, only_mse = True, print_coef=True)"
   ]
  }
 ],
 "metadata": {
  "kernelspec": {
   "display_name": "Python 3 (ipykernel)",
   "language": "python",
   "name": "python3"
  },
  "language_info": {
   "codemirror_mode": {
    "name": "ipython",
    "version": 3
   },
   "file_extension": ".py",
   "mimetype": "text/x-python",
   "name": "python",
   "nbconvert_exporter": "python",
   "pygments_lexer": "ipython3",
   "version": "3.8.10"
  }
 },
 "nbformat": 4,
 "nbformat_minor": 5
}
