{
 "cells": [
  {
   "cell_type": "markdown",
   "id": "63719aec-f892-4515-8d66-5d2eeb9c29bc",
   "metadata": {},
   "source": [
    "# Configuration"
   ]
  },
  {
   "cell_type": "code",
   "execution_count": 1,
   "id": "52c6c7a0-3890-4696-a75b-28376f02b865",
   "metadata": {},
   "outputs": [],
   "source": [
    "import numpy as np\n",
    "import pandas as pd\n",
    "import matplotlib.pyplot as plt\n",
    "\n",
    "%matplotlib inline\n",
    "\n",
    "from sklearn.model_selection import train_test_split, validation_curve\n",
    "from sklearn.ensemble import RandomForestRegressor\n",
    "from sklearn.metrics import mean_squared_error as mse\n",
    "from sklearn.preprocessing import PolynomialFeatures\n",
    "\n",
    "from regressors import stats\n",
    "\n",
    "%matplotlib inline\n",
    "\n",
    "plt.rcParams[\"figure.figsize\"] = (10, 6)"
   ]
  },
  {
   "cell_type": "markdown",
   "id": "42ed996a-9ffb-45ce-86f5-e036cca09d6a",
   "metadata": {},
   "source": [
    "# Importing Dataset "
   ]
  },
  {
   "cell_type": "code",
   "execution_count": 2,
   "id": "bfdd551b-e4df-4c54-b564-8ab9cc343fdd",
   "metadata": {},
   "outputs": [
    {
     "data": {
      "text/plain": [
       "(36733, 39)"
      ]
     },
     "execution_count": 2,
     "metadata": {},
     "output_type": "execute_result"
    }
   ],
   "source": [
    "std_df = pd.read_csv('processed_dataset/std_dataset.csv', index_col = 0)\n",
    "std_df.shape"
   ]
  },
  {
   "cell_type": "code",
   "execution_count": 3,
   "id": "36ed165c-e3fe-4949-a7ac-d776c895fe0f",
   "metadata": {},
   "outputs": [
    {
     "data": {
      "text/plain": [
       "(24488, 39)"
      ]
     },
     "execution_count": 3,
     "metadata": {},
     "output_type": "execute_result"
    }
   ],
   "source": [
    "dev_df = std_df.loc[:24487]\n",
    "dev_df.shape"
   ]
  },
  {
   "cell_type": "code",
   "execution_count": 4,
   "id": "8baed90f-04b0-40e6-8ed8-1266192675e8",
   "metadata": {},
   "outputs": [
    {
     "data": {
      "text/plain": [
       "(12245, 39)"
      ]
     },
     "execution_count": 4,
     "metadata": {},
     "output_type": "execute_result"
    }
   ],
   "source": [
    "eval_df = std_df.loc[24488:]\n",
    "eval_df.shape"
   ]
  },
  {
   "cell_type": "code",
   "execution_count": 5,
   "id": "b79723c7-0646-4f70-87f0-a4b89db00334",
   "metadata": {},
   "outputs": [],
   "source": [
    "ambiental_pred = ['AT', 'AP', 'AH']\n",
    "process_pred = ['AFDP', 'GTEP', 'TIT', 'TAT', 'TEY', 'CDP']\n",
    "location_pred = ['Austria', 'Belgium', 'Bulgaria', 'Croatia',\n",
    "       'Czech Republic', 'Denmark', 'Estonia', 'Finland', 'France', 'Germany',\n",
    "       'Greece', 'Hungary', 'Ireland', 'Italy', 'Latvia', 'Lithuania',\n",
    "       'Luxembourg', 'Malta', 'Netherlands', 'Poland', 'Portugal',\n",
    "       'Republic of Cyprus', 'Romania', 'Slovakia', 'Slovenia', 'Spain',\n",
    "       'Sweden']\n",
    "nox = ['NOX']\n",
    "year = ['YEAR']"
   ]
  },
  {
   "cell_type": "markdown",
   "id": "8bc36f05-8122-450c-80b2-089cff244d06",
   "metadata": {},
   "source": [
    "# Random Forest"
   ]
  },
  {
   "cell_type": "code",
   "execution_count": 30,
   "id": "e3e14d45-6c46-48dd-947f-45f66e3d72bc",
   "metadata": {},
   "outputs": [],
   "source": [
    "test = []\n",
    "\n",
    "def include_features(model, df, features_lists, poly = None, target_feature = 'CO'):\n",
    "    \n",
    "    scores = {}\n",
    "    \n",
    "    \n",
    "    for features in features_lists:\n",
    "        X = df.drop(columns = 'CO')\n",
    "        y = df['CO']\n",
    "        \n",
    "        if features == 'all':\n",
    "            features = X.columns\n",
    "        \n",
    "        X_train, X_test, y_train, y_test = train_test_split(X[features], y, test_size = 0.25, random_state=42)\n",
    "        test = y_test\n",
    "        \n",
    "        \n",
    "        if poly is not None:\n",
    "            poly.fit(X_train)\n",
    "            X_train, X_test = poly.transform(X_train), poly.transform(X_test)\n",
    "            \n",
    "        print(f'X_train shape = {X_train.shape}, X_test shape = {X_test.shape}')\n",
    "        \n",
    "        model.fit(X_train,y_train)\n",
    "        y_pred = model.predict(X_test)\n",
    "        \n",
    "        if len(features) == len(df.columns):\n",
    "            features == 'all'\n",
    "        \n",
    "        if poly is None:\n",
    "            scores[tuple(model.feature_names_in_)] = (y_pred, model.feature_importances_, mse(y_test, y_pred))\n",
    "            \n",
    "        else:\n",
    "            scores[tuple(poly.get_feature_names_out())] = (y_pred, model.feature_importances_ ,mse(y_test, y_pred))\n",
    "        print(mse(y_test, y_pred))\n",
    "        \n",
    "    return scores, y_test"
   ]
  },
  {
   "cell_type": "code",
   "execution_count": 7,
   "id": "3f265d61-cfc7-4fca-a83b-7b2b829d4be1",
   "metadata": {},
   "outputs": [],
   "source": [
    "features_lists = [\n",
    "    'all',\n",
    "    ambiental_pred,\n",
    "    process_pred,\n",
    "    ambiental_pred+nox,\n",
    "    ambiental_pred+year,\n",
    "    ambiental_pred+nox+year,\n",
    "    process_pred+nox,\n",
    "    process_pred+year,\n",
    "    process_pred+nox+year,\n",
    "    ambiental_pred+process_pred,\n",
    "    ambiental_pred+process_pred+nox,\n",
    "    ambiental_pred+process_pred+year,\n",
    "    ambiental_pred+process_pred+nox+year,\n",
    "]"
   ]
  },
  {
   "cell_type": "code",
   "execution_count": 10,
   "id": "958d2684-1a43-4cea-b8de-aa63ea30e4f4",
   "metadata": {},
   "outputs": [],
   "source": [
    "rf = RandomForestRegressor(random_state = 42)\n",
    "#scores = include_features(rf, dev_df, features_lists)"
   ]
  },
  {
   "cell_type": "code",
   "execution_count": 11,
   "id": "d0e0b002-4f38-4a74-bcd0-09a160764117",
   "metadata": {},
   "outputs": [],
   "source": [
    "poly = PolynomialFeatures(degree = 2)\n",
    "\n",
    "#scores_poly = include_features(rf, dev_df, features_lists[-4:], poly = poly)"
   ]
  },
  {
   "cell_type": "code",
   "execution_count": null,
   "id": "3352dad0-723f-4a7a-961f-71e93c5630eb",
   "metadata": {},
   "outputs": [],
   "source": []
  },
  {
   "cell_type": "markdown",
   "id": "b1b48947-aa73-49b1-b614-1073c9a00203",
   "metadata": {},
   "source": [
    "# Extreme "
   ]
  },
  {
   "cell_type": "code",
   "execution_count": 38,
   "id": "91c708c3-926b-4afa-9e97-628fcdb59b42",
   "metadata": {},
   "outputs": [
    {
     "name": "stdout",
     "output_type": "stream",
     "text": [
      "X_train shape = (2126, 780), X_test shape = (709, 780)\n",
      "3.383702008241563\n",
      "X_train shape = (2126, 10), X_test shape = (709, 10)\n",
      "11.5990702059199\n",
      "X_train shape = (2126, 28), X_test shape = (709, 28)\n",
      "3.77282792110395\n",
      "X_train shape = (2126, 15), X_test shape = (709, 15)\n",
      "9.365716761002288\n",
      "X_train shape = (2126, 15), X_test shape = (709, 15)\n",
      "10.81763238102959\n",
      "X_train shape = (2126, 21), X_test shape = (709, 21)\n",
      "9.623377711718689\n",
      "X_train shape = (2126, 36), X_test shape = (709, 36)\n",
      "3.7229245248366714\n",
      "X_train shape = (2126, 36), X_test shape = (709, 36)\n",
      "3.605875970141629\n",
      "X_train shape = (2126, 45), X_test shape = (709, 45)\n",
      "3.6250508160087525\n",
      "X_train shape = (2126, 55), X_test shape = (709, 55)\n",
      "3.3160416188719015\n",
      "X_train shape = (2126, 66), X_test shape = (709, 66)\n",
      "3.321139374169403\n",
      "X_train shape = (2126, 66), X_test shape = (709, 66)\n",
      "3.236979673157915\n",
      "X_train shape = (2126, 78), X_test shape = (709, 78)\n",
      "3.255428222753458\n"
     ]
    }
   ],
   "source": [
    "extreme_df = dev_df.loc[dev_df['CO'] > 4.5,:]\n",
    "scores_poly = include_features(rf, extreme_df, features_lists[:], poly = poly)"
   ]
  },
  {
   "cell_type": "code",
   "execution_count": 37,
   "id": "a2a7136c-db61-42eb-8ddf-759830436c3e",
   "metadata": {},
   "outputs": [
    {
     "name": "stdout",
     "output_type": "stream",
     "text": [
      "X_train shape = (2126, 38), X_test shape = (709, 38)\n",
      "3.454335227169489\n",
      "X_train shape = (2126, 3), X_test shape = (709, 3)\n",
      "12.07722212809386\n",
      "X_train shape = (2126, 6), X_test shape = (709, 6)\n",
      "4.197551818650363\n",
      "X_train shape = (2126, 4), X_test shape = (709, 4)\n",
      "9.789861148964327\n",
      "X_train shape = (2126, 4), X_test shape = (709, 4)\n",
      "11.279762720312464\n",
      "X_train shape = (2126, 5), X_test shape = (709, 5)\n",
      "9.388152958676413\n",
      "X_train shape = (2126, 7), X_test shape = (709, 7)\n",
      "4.171673371176269\n",
      "X_train shape = (2126, 7), X_test shape = (709, 7)\n",
      "3.920015531323907\n",
      "X_train shape = (2126, 8), X_test shape = (709, 8)\n",
      "4.098493980507767\n",
      "X_train shape = (2126, 9), X_test shape = (709, 9)\n",
      "3.2337039539382517\n",
      "X_train shape = (2126, 10), X_test shape = (709, 10)\n",
      "3.37212020333645\n",
      "X_train shape = (2126, 10), X_test shape = (709, 10)\n",
      "3.280655782292754\n",
      "X_train shape = (2126, 11), X_test shape = (709, 11)\n",
      "3.4325254259300024\n"
     ]
    }
   ],
   "source": [
    "scores_extreme = include_features(rf, extreme_df, features_lists[:], poly = None)"
   ]
  },
  {
   "cell_type": "markdown",
   "id": "350fdb77-a519-45da-a9da-8d6f52eb9144",
   "metadata": {},
   "source": [
    "# Standard"
   ]
  },
  {
   "cell_type": "code",
   "execution_count": null,
   "id": "58f71364-8f67-4124-adbe-50ba4f6574a4",
   "metadata": {},
   "outputs": [],
   "source": [
    "standard_df = dev_df.loc[dev_df['CO'] <= 4.5,:]\n",
    "scores_std_poly = include_features(rf, standard_df, features_lists[-4:], poly = poly)"
   ]
  },
  {
   "cell_type": "code",
   "execution_count": 31,
   "id": "9e21690e-afe1-49d3-b2c1-882bb34267dc",
   "metadata": {},
   "outputs": [
    {
     "name": "stdout",
     "output_type": "stream",
     "text": [
      "X_train shape = (16239, 11), X_test shape = (5414, 11)\n",
      "0.21770281234826516\n"
     ]
    }
   ],
   "source": [
    "scores_std, test = include_features(rf, standard_df, features_lists[-1:], poly = None)"
   ]
  },
  {
   "cell_type": "code",
   "execution_count": 34,
   "id": "70532555-6172-4e88-8a5b-f1825b7e2432",
   "metadata": {},
   "outputs": [
    {
     "data": {
      "text/plain": [
       "[<matplotlib.lines.Line2D at 0x7f3ec8eefb50>]"
      ]
     },
     "execution_count": 34,
     "metadata": {},
     "output_type": "execute_result"
    },
    {
     "data": {
      "image/png": "[encoded data removed]",
      "text/plain": [
       "<Figure size 720x432 with 1 Axes>"
      ]
     },
     "metadata": {
      "needs_background": "light"
     },
     "output_type": "display_data"
    }
   ],
   "source": [
    "y_pred = scores_std[tuple(features_lists[-1])][0]\n",
    "plt.scatter(test, y_pred)\n",
    "plt.plot(np.linspace(0,5), np.linspace(0,5), c = 'orange')"
   ]
  }
 ],
 "metadata": {
  "kernelspec": {
   "display_name": "Python 3 (ipykernel)",
   "language": "python",
   "name": "python3"
  },
  "language_info": {
   "codemirror_mode": {
    "name": "ipython",
    "version": 3
   },
   "file_extension": ".py",
   "mimetype": "text/x-python",
   "name": "python",
   "nbconvert_exporter": "python",
   "pygments_lexer": "ipython3",
   "version": "3.8.10"
  }
 },
 "nbformat": 4,
 "nbformat_minor": 5
}
